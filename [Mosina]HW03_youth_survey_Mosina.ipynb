{
  "nbformat": 4,
  "nbformat_minor": 0,
  "metadata": {
    "colab": {
      "name": "[Mosina]HW3_youth_survey_Mosina.ipynb",
      "provenance": [],
      "collapsed_sections": []
    },
    "kernelspec": {
      "name": "python3",
      "display_name": "Python 3"
    }
  },
  "cells": [
    {
      "cell_type": "markdown",
      "metadata": {
        "id": "LG-gvv4VV6V3"
      },
      "source": [
        "### **Young People Survey**"
      ]
    },
    {
      "cell_type": "markdown",
      "metadata": {
        "id": "b9xvEnXxWC6d"
      },
      "source": [
        "*Согласно [описанию](https://www.kaggle.com/miroslavsabo/young-people-survey) на kaggle.com:*\n",
        "В 2013 году студентам FSEV UK и их друзьям (в возрасте от 15 до 30 лет) было предложено принять участие в опросе. Вопросы касались их предпочтений в музыке и фильмах, их хобби, страхов, здоровье, привычек. Также молодые люди оставляли информацию о своём возрасте, поле, физических данных,  составе семьи, месте проживания, уровне образования.\n",
        "**Вопрос**: Проанализировать данные о наличии вредных привычек среди респондентов: есть ли зависимость между наличием вредных привычек и музыкальным вкусом?"
      ]
    },
    {
      "cell_type": "markdown",
      "metadata": {
        "id": "d8njRYNokWmt"
      },
      "source": [
        "## Оценка данных\n"
      ]
    },
    {
      "cell_type": "code",
      "metadata": {
        "id": "gsLiCcZUTEiP",
        "colab": {
          "base_uri": "https://localhost:8080/",
          "height": 70
        },
        "outputId": "489f4697-bea3-4215-b29b-3841cd5c9b93"
      },
      "source": [
        "import pandas as pd\n",
        "import matplotlib.pyplot as plt"
      ],
      "execution_count": null,
      "outputs": [
        {
          "output_type": "stream",
          "text": [
            "/usr/local/lib/python3.6/dist-packages/statsmodels/tools/_testing.py:19: FutureWarning: pandas.util.testing is deprecated. Use the functions in the public API at pandas.testing instead.\n",
            "  import pandas.util.testing as tm\n"
          ],
          "name": "stderr"
        }
      ]
    },
    {
      "cell_type": "code",
      "metadata": {
        "id": "Z7m-wG5J4eMw"
      },
      "source": [
        "data = pd.read_csv('/content/responses.csv')"
      ],
      "execution_count": null,
      "outputs": []
    },
    {
      "cell_type": "code",
      "metadata": {
        "id": "0JyjQmRy4ZIZ"
      },
      "source": [
        "data.head()"
      ],
      "execution_count": null,
      "outputs": []
    },
    {
      "cell_type": "code",
      "metadata": {
        "id": "tg8TE_Wd4lDA",
        "colab": {
          "base_uri": "https://localhost:8080/",
          "height": 34
        },
        "outputId": "4471b25c-36e2-4b69-d333-5d3035f046c3"
      },
      "source": [
        "data.shape"
      ],
      "execution_count": null,
      "outputs": [
        {
          "output_type": "execute_result",
          "data": {
            "text/plain": [
              "(1010, 150)"
            ]
          },
          "metadata": {
            "tags": []
          },
          "execution_count": 16
        }
      ]
    },
    {
      "cell_type": "markdown",
      "metadata": {
        "id": "ETix0x5j1yhR"
      },
      "source": [
        "В датасете представлены данные 1010 респондентов, ответивших на 150 вопросов.\n"
      ]
    },
    {
      "cell_type": "markdown",
      "metadata": {
        "id": "HAXcs0bFlJY2"
      },
      "source": [
        "В датасете есть: \n",
        "  1.   численные данные:\n",
        "      *   музыкальные предпочтения\n",
        "      *   предпочтения в кино\n",
        "      *   хобби и интересы\n",
        "      *   страхи\n",
        "      *   личностные качества, взгляды на жизнь и мнения\n",
        "      *   финансовые привычки\n",
        "      *   возраст, рост и вес, количество детей в семье\n",
        "  2.   категориальные данные: \n",
        "      *   пьёт/не пьёт\n",
        "      *   курит/не курит\n",
        "      *   пол\n",
        "      *   левша/правша\n",
        "      *   уровень образования\n",
        "      *   единственный ребёнок в семье?\n",
        "      *   вырос в: городе/сельской местности\n",
        "      *   проживает в: частном/многоквартирном доме\n",
        "\n",
        "\n"
      ]
    },
    {
      "cell_type": "markdown",
      "metadata": {
        "id": "rodZrOV51__X"
      },
      "source": [
        "В соответствии с задачей, нам понадобятся данные о музыкальных предпочтениях и наличии вредных привычек."
      ]
    },
    {
      "cell_type": "code",
      "metadata": {
        "id": "h7OM4pqP6BFP",
        "colab": {
          "base_uri": "https://localhost:8080/",
          "height": 118
        },
        "outputId": "0fe233c0-64dc-4719-c058-02b734fd6e5e"
      },
      "source": [
        "alc = data['Alcohol']\n",
        "print(alc.head(), alc.unique(), alc.count()) # 3 варианта ответов на вопрос об употреблении алкоголя, а так же 5 nan "
      ],
      "execution_count": null,
      "outputs": [
        {
          "output_type": "stream",
          "text": [
            "0       drink a lot\n",
            "1       drink a lot\n",
            "2       drink a lot\n",
            "3       drink a lot\n",
            "4    social drinker\n",
            "Name: Alcohol, dtype: object ['drink a lot' 'social drinker' 'never' nan] 1005\n"
          ],
          "name": "stdout"
        }
      ]
    },
    {
      "cell_type": "code",
      "metadata": {
        "id": "-AVW63yV_TET",
        "colab": {
          "base_uri": "https://localhost:8080/",
          "height": 118
        },
        "outputId": "cb42f96c-3c8d-4514-bcd8-17cd936f18d3"
      },
      "source": [
        "tab = data['Smoking']\n",
        "print(tab.head(), tab.unique(), tab.count()) # 4 варианта ответов на вопрос о курении + 8 nan"
      ],
      "execution_count": null,
      "outputs": [
        {
          "output_type": "stream",
          "text": [
            "0     never smoked\n",
            "1     never smoked\n",
            "2    tried smoking\n",
            "3    former smoker\n",
            "4    tried smoking\n",
            "Name: Smoking, dtype: object ['never smoked' 'tried smoking' 'former smoker' 'current smoker' nan] 1002\n"
          ],
          "name": "stdout"
        }
      ]
    },
    {
      "cell_type": "code",
      "metadata": {
        "id": "ivhNKN4w85p8"
      },
      "source": [
        "music = data.loc[:, 'Dance':'Opera']\n",
        "print(music.head(), music.info(), music.count()) # шкала оценок от 1 до 5, также присутствуют нулевые значения"
      ],
      "execution_count": null,
      "outputs": []
    },
    {
      "cell_type": "markdown",
      "metadata": {
        "id": "tOqY4OEf9AAf"
      },
      "source": [
        "## Обработка данных\n",
        "Соберем необходимые данные в один датафрейм для удобства, удалим ответы с nan хотя бы по одному вопросу."
      ]
    },
    {
      "cell_type": "code",
      "metadata": {
        "id": "3E_xhab0JaaE"
      },
      "source": [
        "cols=['Alcohol', 'Smoking', 'Dance', 'Folk', 'Country', 'Classical music', 'Musical', 'Pop', 'Rock', 'Metal or Hardrock', 'Punk', 'Hiphop, Rap', 'Reggae, Ska', 'Swing, Jazz', 'Rock n roll', 'Alternative', 'Latino', 'Techno, Trance', 'Opera']\n",
        "habits_with_null = pd.DataFrame(data, columns=cols)\n",
        "habits = habits_with_null.dropna()\n",
        "print(habits.head(), habits.info())"
      ],
      "execution_count": null,
      "outputs": []
    },
    {
      "cell_type": "markdown",
      "metadata": {
        "id": "lfOGdX65VyH8"
      },
      "source": [
        "Заменим ответы в колонках 'Alcohol' и 'Smoking' на численные. Для музыкальных жанров упростим оценку: \n",
        "\n",
        "оценка $<=$ 3 $\\rightarrow$ не нравится (0)\n",
        "\n",
        "оценка $>$ 3 $\\rightarrow$ нравится (1):"
      ]
    },
    {
      "cell_type": "code",
      "metadata": {
        "id": "1Tav_Mt6WG0b",
        "colab": {
          "base_uri": "https://localhost:8080/",
          "height": 319
        },
        "outputId": "69289f48-0dfd-4b39-9742-29a2b42232d6"
      },
      "source": [
        "habits['Smoking'] = habits['Smoking'].replace(['never smoked', 'tried smoking', 'former smoker', 'current smoker'], [0, 2, -1, 1])\n",
        "habits['Alcohol'] = habits['Alcohol'].replace(['drink a lot', 'social drinker', 'never'], [1, 2, 0])\n",
        "habits.loc[:, 'Dance':'Opera'] = habits.loc[:, 'Dance':'Opera'].replace([1.0, 2.0, 3.0, 4.0, 5.0], [0, 0, 0, 1, 1])"
      ],
      "execution_count": null,
      "outputs": [
        {
          "output_type": "stream",
          "text": [
            "/usr/local/lib/python3.6/dist-packages/ipykernel_launcher.py:1: SettingWithCopyWarning: \n",
            "A value is trying to be set on a copy of a slice from a DataFrame.\n",
            "Try using .loc[row_indexer,col_indexer] = value instead\n",
            "\n",
            "See the caveats in the documentation: https://pandas.pydata.org/pandas-docs/stable/user_guide/indexing.html#returning-a-view-versus-a-copy\n",
            "  \"\"\"Entry point for launching an IPython kernel.\n",
            "/usr/local/lib/python3.6/dist-packages/ipykernel_launcher.py:2: SettingWithCopyWarning: \n",
            "A value is trying to be set on a copy of a slice from a DataFrame.\n",
            "Try using .loc[row_indexer,col_indexer] = value instead\n",
            "\n",
            "See the caveats in the documentation: https://pandas.pydata.org/pandas-docs/stable/user_guide/indexing.html#returning-a-view-versus-a-copy\n",
            "  \n",
            "/usr/local/lib/python3.6/dist-packages/pandas/core/indexing.py:966: SettingWithCopyWarning: \n",
            "A value is trying to be set on a copy of a slice from a DataFrame.\n",
            "Try using .loc[row_indexer,col_indexer] = value instead\n",
            "\n",
            "See the caveats in the documentation: https://pandas.pydata.org/pandas-docs/stable/user_guide/indexing.html#returning-a-view-versus-a-copy\n",
            "  self.obj[item] = s\n"
          ],
          "name": "stderr"
        }
      ]
    },
    {
      "cell_type": "markdown",
      "metadata": {
        "id": "8kwqJ0Y7U-5c"
      },
      "source": [
        "## Проверяем гипотезу"
      ]
    },
    {
      "cell_type": "markdown",
      "metadata": {
        "id": "t_k2dMK-Pr52"
      },
      "source": [
        "Чтобы получить представление о соотношении курящих и пьющих респондентов, построим круговые диаграммы:"
      ]
    },
    {
      "cell_type": "code",
      "metadata": {
        "id": "Z1dBYtLgD7AN"
      },
      "source": [
        "plt.pie([sum(habits['Smoking'] == 0), sum(habits['Smoking'] == 2), sum(habits['Smoking'] == -1), sum(habits['Smoking'] == 1)], radius=1.2)\n",
        "plt.legend(('never smoked', 'tried smoking', 'former smoker', 'current smoker'))\n",
        "plt.title('Общее')\n",
        "for i in cols[2:]:\n",
        "    plt.figure(i)\n",
        "    plt.pie([sum((habits[i] == 1.0) & (habits['Smoking'] == 0)), sum((habits[i] == 1.0) & (habits['Smoking'] == 2)), sum((habits[i] == 1.0) & (habits['Smoking'] == -1)), sum((habits[i] == 1.0) & (habits['Smoking'] == 1))])\n",
        "    plt.title(i)\n",
        "plt.show()"
      ],
      "execution_count": null,
      "outputs": []
    },
    {
      "cell_type": "markdown",
      "metadata": {
        "id": "c_ixl1QC9z4X"
      },
      "source": [
        "Построим столбцовую диаграмму, показывающую соотношение респондентов, употребляющих табак и алкоголь, среди фанатов различных музыкальных жанров:\n"
      ]
    },
    {
      "cell_type": "code",
      "metadata": {
        "id": "zIPFrIRszWP3",
        "colab": {
          "base_uri": "https://localhost:8080/",
          "height": 256
        },
        "outputId": "c3ae4714-d445-4d95-bfce-e359f1c41893"
      },
      "source": [
        "fig, ax = plt.subplots(1, 2)\n",
        "for i in cols[2:]:\n",
        "    ax[0].bar(i, sum((habits[i] == 1.0) & (habits['Smoking'] == 0)), color='r')\n",
        "    ax[0].bar(i, sum((habits[i] == 1.0) & (habits['Smoking'] == 2)), bottom=sum((habits[i] == 1.0) & (habits['Smoking'] == 0)), color='b')\n",
        "    ax[0].bar(i, sum((habits[i] == 1.0) & (habits['Smoking'] == -1)), bottom=sum((habits[i] == 1.0) & (habits['Smoking'] == 2)), color='g')\n",
        "    ax[0].bar(i, sum((habits[i] == 1.0) & (habits['Smoking'] == 1)), bottom=sum((habits[i] == 1.0) & (habits['Smoking'] == -1)), color='yellow')\n",
        "    ax[1].bar(i, sum((habits[i] == 1.0) & (habits['Alcohol'] == 0)), color='r')\n",
        "    ax[1].bar(i, sum((habits[i] == 1.0) & (habits['Alcohol'] == 2)), bottom=sum((habits[i] == 1.0) & (habits['Alcohol'] == 0)), color='b')\n",
        "    ax[1].bar(i, sum((habits[i] == 1.0) & (habits['Alcohol'] == 1)), bottom=sum((habits[i] == 1.0) & (habits['Alcohol'] == 2)), color='g')\n",
        "ax[0].legend(('никогда не курил', 'пробовал', 'бросил', 'курит'))\n",
        "ax[0].set_ylim(0, 500)\n",
        "ax[0].set_ylabel('Кол-во фанатов')\n",
        "plt.setp(ax[0].xaxis.get_majorticklabels(), rotation=90 )\n",
        "ax[1].legend(('не пьёт', 'пьёт умеренно', 'много пьёт'))\n",
        "plt.setp(ax[1].xaxis.get_majorticklabels(), rotation=90 )\n",
        "\n",
        "fig.set_figwidth(40)\n",
        "fig.set_figheight(5)\n",
        "\n",
        "plt.show()"
      ],
      "execution_count": null,
      "outputs": [
        {
          "output_type": "display_data",
          "data": {
            "image/png": "[encoded data removed]",
            "text/plain": [
              "<Figure size 2880x360 with 2 Axes>"
            ]
          },
          "metadata": {
            "tags": [],
            "needs_background": "light"
          }
        }
      ]
    },
    {
      "cell_type": "markdown",
      "metadata": {
        "id": "b7jjZENtAxNm"
      },
      "source": [
        "На первом графике представлено соотношение курильщиков, некурящих, бросивших и однажды пробовавших курить фанатов различных музыкальных жанров. На втором графике - соотношение пьющих, непьющих и периодически употребляющих алкоголь респондентов. Можно, к примеру, заметить, что % курильщиков среди любителей хип-хопа выше, чем среди фанатов других жанров. Тем временем,кажется, среди любителей разных жанров одинаковое соотношение пьющих, не пьющих и умеренно употребляющих. "
      ]
    },
    {
      "cell_type": "markdown",
      "metadata": {
        "id": "V7wSjWsHR1KW"
      },
      "source": [
        "## О данных и задаче\n",
        "\n",
        "Не ожидала увидеть какую-то закономерность, но, возможно, любители некоторых жанров с большей вероятностью могут оказаться курильщиками. Ещщё интересно было бы посмотреть, больше ли курильщиков/пьющих среди городских/сельских жителей, среди женщин и мужчин."
      ]
    }
  ]
}