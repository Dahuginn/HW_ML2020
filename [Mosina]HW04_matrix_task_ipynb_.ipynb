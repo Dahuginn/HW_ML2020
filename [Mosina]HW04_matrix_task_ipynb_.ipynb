{
  "nbformat": 4,
  "nbformat_minor": 0,
  "metadata": {
    "kernelspec": {
      "display_name": "Python 3",
      "language": "python",
      "name": "python3"
    },
    "language_info": {
      "codemirror_mode": {
        "name": "ipython",
        "version": 3
      },
      "file_extension": ".py",
      "mimetype": "text/x-python",
      "name": "python",
      "nbconvert_exporter": "python",
      "pygments_lexer": "ipython3",
      "version": "3.7.6"
    },
    "colab": {
      "name": "[Mosina]HW04_matrix_task.ipynb\"",
      "provenance": []
    }
  },
  "cells": [
    {
      "cell_type": "code",
      "metadata": {
        "Collapsed": "false",
        "id": "8rD0Gt4iVjtd"
      },
      "source": [
        "import numpy as np\n",
        "%matplotlib inline\n",
        "import matplotlib.pyplot as plt\n",
        "import seaborn as sns\n",
        "from sklearn import datasets\n",
        "import pandas as pd"
      ],
      "execution_count": null,
      "outputs": []
    },
    {
      "cell_type": "code",
      "metadata": {
        "Collapsed": "false",
        "id": "s7nrwxMlVjth",
        "colab": {
          "base_uri": "https://localhost:8080/",
          "height": 34
        },
        "outputId": "8544ede8-a242-4f7f-8d29-f2fb37fdc587"
      },
      "source": [
        "(X,Y) = datasets.make_friedman1(n_samples = 100, n_features = 5)\n",
        "print(X.shape, Y.shape)"
      ],
      "execution_count": null,
      "outputs": [
        {
          "output_type": "stream",
          "text": [
            "(100, 5) (100,)\n"
          ],
          "name": "stdout"
        }
      ]
    },
    {
      "cell_type": "code",
      "metadata": {
        "Collapsed": "false",
        "id": "ryrX1997Vjtk"
      },
      "source": [
        "??datasets.make_friedman1"
      ],
      "execution_count": null,
      "outputs": []
    },
    {
      "cell_type": "code",
      "metadata": {
        "Collapsed": "false",
        "id": "GGJlpLsxVjtm",
        "colab": {
          "base_uri": "https://localhost:8080/",
          "height": 282
        },
        "outputId": "61cf1f1d-a7af-40cb-c8fc-d8c0de404d64"
      },
      "source": [
        "plt.scatter(X[:,4], Y)"
      ],
      "execution_count": null,
      "outputs": [
        {
          "output_type": "execute_result",
          "data": {
            "text/plain": [
              "<matplotlib.collections.PathCollection at 0x7f05ee1752b0>"
            ]
          },
          "metadata": {
            "tags": []
          },
          "execution_count": 7
        },
        {
          "output_type": "display_data",
          "data": {
            "image/png": "[encoded data removed]",
            "text/plain": [
              "<Figure size 432x288 with 1 Axes>"
            ]
          },
          "metadata": {
            "tags": [],
            "needs_background": "light"
          }
        }
      ]
    },
    {
      "cell_type": "markdown",
      "metadata": {
        "Collapsed": "false",
        "id": "q8eISkv1Vjto"
      },
      "source": [
        "# Обучение без учителя\n",
        "\n",
        "$X =$  обучающее множество,  \n",
        "$m =$ количество примеров,\n",
        "$x =$ входные признаки\n",
        "$y =$ выход\n",
        "пара $(x^{(i)},y^{(i)})$ - обучающая пара\n",
        "\n",
        "(training example), $i -$ пример\n",
        "\n",
        "**Обучение с учителем** - знаем ПРАВИЛЬНЫЙ ответ для каждого примера, найти такое отображение (правило, модель), которое переводит пример в ответ, то есть позволит нам и для для нового примера, которого не было в выборке дать ответ \n",
        "\n",
        "## Линейная модель\n",
        "\n",
        "Большой класс моделей в которых решение ищется в следующем виде. Она наш основной кирпичик\n",
        "$y = ax+b$ - линейная функция,\n",
        "\n",
        "$y = w_1*x_1+w_2x_2 +...+w_n*x_n + 1*w_0$\n"
      ]
    },
    {
      "cell_type": "code",
      "metadata": {
        "Collapsed": "false",
        "id": "6rEjI7p2Vjto"
      },
      "source": [
        "#добавим единичку\n",
        "newX = np.hstack((np.ones(X.shape[0])[:,np.newaxis],X))"
      ],
      "execution_count": null,
      "outputs": []
    },
    {
      "cell_type": "code",
      "metadata": {
        "id": "eKPebH3CtrYr"
      },
      "source": [
        "??np.hstack"
      ],
      "execution_count": null,
      "outputs": []
    },
    {
      "cell_type": "code",
      "metadata": {
        "Collapsed": "false",
        "id": "hQb3XVfrVjtq",
        "colab": {
          "base_uri": "https://localhost:8080/",
          "height": 50
        },
        "outputId": "6309cc10-ac4f-404a-b849-0c35df387c2f"
      },
      "source": [
        "x = np.hstack([1,X[0,:],X[0,2]**2])\n",
        "newX[0], Y[0]"
      ],
      "execution_count": null,
      "outputs": [
        {
          "output_type": "execute_result",
          "data": {
            "text/plain": [
              "(array([1.        , 0.27249887, 0.90460767, 0.11845272, 0.32889314,\n",
              "        0.5467247 ]), 15.927115605820116)"
            ]
          },
          "metadata": {
            "tags": []
          },
          "execution_count": 9
        }
      ]
    },
    {
      "cell_type": "markdown",
      "metadata": {
        "Collapsed": "false",
        "id": "VhpeP4csVjts"
      },
      "source": [
        "## Сделайте визуальный анализ выборки\n",
        "\n",
        "проще всего это сделать если данные поместить в pandas и воспользоваться библиотекой seaborn. Постройте pairplot() из библиотеки seaborn"
      ]
    },
    {
      "cell_type": "code",
      "metadata": {
        "id": "hvZRSq3isG_6",
        "colab": {
          "base_uri": "https://localhost:8080/",
          "height": 214
        },
        "outputId": "fc28f649-de95-4cca-d1d0-fd9468093ef2"
      },
      "source": [
        "x = pd.DataFrame(x)\n",
        "sns.pairplot(x)"
      ],
      "execution_count": null,
      "outputs": [
        {
          "output_type": "execute_result",
          "data": {
            "text/plain": [
              "<seaborn.axisgrid.PairGrid at 0x7f05e768b710>"
            ]
          },
          "metadata": {
            "tags": []
          },
          "execution_count": 15
        },
        {
          "output_type": "display_data",
          "data": {
            "image/png": "[encoded data removed]",
            "text/plain": [
              "<Figure size 180x180 with 2 Axes>"
            ]
          },
          "metadata": {
            "tags": [],
            "needs_background": "light"
          }
        }
      ]
    },
    {
      "cell_type": "markdown",
      "metadata": {
        "Collapsed": "false",
        "id": "qcG4lQOoVjts"
      },
      "source": [
        "## Поиск решения в виде линейной модели\n",
        "\n",
        "\n",
        "Давайте будем считать что отображение такое $$y = W*X$$, но при этом вы вольны как угодно трансформировать $X$,например вы можете сделать $x_6 = x_1*x_2$ и добавить как новый признак, или $x_6 = sin(x_1)$. А дальше вы можете как угодно из них сформировать признаковое пространство"
      ]
    },
    {
      "cell_type": "markdown",
      "metadata": {
        "Collapsed": "false",
        "id": "PDqYXcMHVjtt"
      },
      "source": [
        "### Подбор весов\n",
        "Попробуйте подобрать теперь веса этой модели.\n",
        "Можете воспользоваться np.random.rand  - Эта функция вам вернет случайное число от 0 до 1. А при этом веса могут быть какие угодно, чтобы получить например число из диапазона 0-10  достаточно просто умножить на 10. А как быть с отрицательными числами?\n"
      ]
    },
    {
      "cell_type": "code",
      "metadata": {
        "Collapsed": "false",
        "id": "rFTzncm7Vjtt",
        "colab": {
          "base_uri": "https://localhost:8080/",
          "height": 34
        },
        "outputId": "04c38531-3e6e-4bf1-8a65-c648dda6853b"
      },
      "source": [
        " np.dot(10*np.random.rand(5),X[0]), Y[0]"
      ],
      "execution_count": null,
      "outputs": [
        {
          "output_type": "execute_result",
          "data": {
            "text/plain": [
              "(7.254633592194821, 15.927115605820116)"
            ]
          },
          "metadata": {
            "tags": []
          },
          "execution_count": 16
        }
      ]
    },
    {
      "cell_type": "code",
      "metadata": {
        "Collapsed": "false",
        "id": "NuZVA73CVjtv",
        "colab": {
          "base_uri": "https://localhost:8080/",
          "height": 34
        },
        "outputId": "6dea8647-51a0-4079-c65c-3ed3fb8d9816"
      },
      "source": [
        "np.random.choice([-1,1], 5)"
      ],
      "execution_count": null,
      "outputs": [
        {
          "output_type": "execute_result",
          "data": {
            "text/plain": [
              "array([-1, -1,  1, -1,  1])"
            ]
          },
          "metadata": {
            "tags": []
          },
          "execution_count": 17
        }
      ]
    },
    {
      "cell_type": "markdown",
      "metadata": {
        "Collapsed": "false",
        "id": "LB7mwfTOVjtx"
      },
      "source": [
        "## Оценка качества\n",
        "Как теперь понять насколько мы далеки?\n",
        "Посчитайте разницу между выходом модели и прогнозом.\n",
        "Попробуйте \n",
        "$$abs(Y_{model} - Y_{real}), (Y_{model} - Y_{real})^2 $$\n",
        "\n",
        "Что вы заметили?"
      ]
    },
    {
      "cell_type": "code",
      "metadata": {
        "Collapsed": "false",
        "id": "yWptvdmdVjtx"
      },
      "source": [
        ""
      ],
      "execution_count": null,
      "outputs": []
    }
  ]
}