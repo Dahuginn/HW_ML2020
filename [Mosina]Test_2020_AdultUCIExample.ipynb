{
  "nbformat": 4,
  "nbformat_minor": 0,
  "metadata": {
    "colab": {
      "name": "[Mosina]Test_2020_AdultUCIExample.ipynb",
      "provenance": [],
      "collapsed_sections": []
    },
    "kernelspec": {
      "name": "python3",
      "display_name": "Python 3"
    }
  },
  "cells": [
    {
      "cell_type": "markdown",
      "metadata": {
        "id": "vNi33OVyT2FX"
      },
      "source": [
        "# Выясняем где деньги лежат вместе с UCI Adult"
      ]
    },
    {
      "cell_type": "code",
      "metadata": {
        "id": "2nHPv-6ET0a8"
      },
      "source": [
        "%matplotlib inline\n",
        "from matplotlib import pyplot as plt\n",
        "plt.rcParams['figure.figsize'] = (10, 8)\n",
        "import seaborn as sns\n",
        "import numpy as np\n",
        "import pandas as pd\n",
        "from sklearn.preprocessing import LabelEncoder\n",
        "import io\n",
        "import requests\n",
        "import collections\n",
        "from sklearn import preprocessing\n"
      ],
      "execution_count": 38,
      "outputs": []
    },
    {
      "cell_type": "markdown",
      "metadata": {
        "id": "nHNEdX8aa2dA"
      },
      "source": [
        "\n"
      ]
    },
    {
      "cell_type": "markdown",
      "metadata": {
        "id": "zw1tLEviWHfk"
      },
      "source": [
        "## Описание набора данных UCI Adult\n",
        "**[Набор](http://archive.ics.uci.edu/ml/machine-learning-databases/adult) данных UCI Adult** (взято из demo тетрадок mlcourse.ai): классификация людей с помощью демографических данных для прогнозирования, зарабатывает ли человек более \\$ 50 000 в год.\n",
        "\n",
        "Описание признаков: \n",
        "\n",
        "**Age** – возраст, количественный признак  \n",
        "**Workclass** – тип работодателя, количественный признак  \n",
        "**fnlwgt** – итоговый вес обьекта, количественный признак    \n",
        "**Education** – уровень образования, качественный признак  \n",
        "**Education_Num** – количество лет обучения, количественный признак  \n",
        "**Martial_Status** – семейное положение, категориальный признак  \n",
        "**Occupation** – профессия, категориальный признак  \n",
        "**Relationship** – тип семейных отношений, категориальный признак    \n",
        "**Race** – раса, категориальный признак  \n",
        "**Sex** – пол, качественный признак  \n",
        "**Capital_Gain** – прирост капитала, количественный признак  \n",
        "**Capital_Loss** – потери капитала, количественный признак  \n",
        "**Hours_per_week** – количество часов работы в неделю, количественный признак  \n",
        "**Country** – страна, категориальный признак  \n",
        "   \n",
        "Целевая переменная: **Target** – уровень заработка, категориальный (бинарный) признак  "
      ]
    },
    {
      "cell_type": "code",
      "metadata": {
        "id": "Xgnlti75Il-K",
        "colab": {
          "base_uri": "https://localhost:8080/",
          "height": 160
        },
        "outputId": "cb1f67a0-f1b5-4c1f-bd57-be0ee96748d2"
      },
      "source": [
        "url=\"https://github.com/Yorko/mlcourse.ai/raw/master/data/adult_train.csv\"\n",
        "s=requests.get(url).content\n",
        "data_train =pd.read_csv(io.StringIO(s.decode('utf-8')), sep=';')\n",
        "data_train.tail(2)"
      ],
      "execution_count": 39,
      "outputs": [
        {
          "output_type": "execute_result",
          "data": {
            "text/html": [
              "<div>\n",
              "<style scoped>\n",
              "    .dataframe tbody tr th:only-of-type {\n",
              "        vertical-align: middle;\n",
              "    }\n",
              "\n",
              "    .dataframe tbody tr th {\n",
              "        vertical-align: top;\n",
              "    }\n",
              "\n",
              "    .dataframe thead th {\n",
              "        text-align: right;\n",
              "    }\n",
              "</style>\n",
              "<table border=\"1\" class=\"dataframe\">\n",
              "  <thead>\n",
              "    <tr style=\"text-align: right;\">\n",
              "      <th></th>\n",
              "      <th>Age</th>\n",
              "      <th>Workclass</th>\n",
              "      <th>fnlwgt</th>\n",
              "      <th>Education</th>\n",
              "      <th>Education_Num</th>\n",
              "      <th>Martial_Status</th>\n",
              "      <th>Occupation</th>\n",
              "      <th>Relationship</th>\n",
              "      <th>Race</th>\n",
              "      <th>Sex</th>\n",
              "      <th>Capital_Gain</th>\n",
              "      <th>Capital_Loss</th>\n",
              "      <th>Hours_per_week</th>\n",
              "      <th>Country</th>\n",
              "      <th>Target</th>\n",
              "    </tr>\n",
              "  </thead>\n",
              "  <tbody>\n",
              "    <tr>\n",
              "      <th>32559</th>\n",
              "      <td>22</td>\n",
              "      <td>Private</td>\n",
              "      <td>201490</td>\n",
              "      <td>HS-grad</td>\n",
              "      <td>9</td>\n",
              "      <td>Never-married</td>\n",
              "      <td>Adm-clerical</td>\n",
              "      <td>Own-child</td>\n",
              "      <td>White</td>\n",
              "      <td>Male</td>\n",
              "      <td>0</td>\n",
              "      <td>0</td>\n",
              "      <td>20</td>\n",
              "      <td>United-States</td>\n",
              "      <td>&lt;=50K</td>\n",
              "    </tr>\n",
              "    <tr>\n",
              "      <th>32560</th>\n",
              "      <td>52</td>\n",
              "      <td>Self-emp-inc</td>\n",
              "      <td>287927</td>\n",
              "      <td>HS-grad</td>\n",
              "      <td>9</td>\n",
              "      <td>Married-civ-spouse</td>\n",
              "      <td>Exec-managerial</td>\n",
              "      <td>Wife</td>\n",
              "      <td>White</td>\n",
              "      <td>Female</td>\n",
              "      <td>15024</td>\n",
              "      <td>0</td>\n",
              "      <td>40</td>\n",
              "      <td>United-States</td>\n",
              "      <td>&gt;50K</td>\n",
              "    </tr>\n",
              "  </tbody>\n",
              "</table>\n",
              "</div>"
            ],
            "text/plain": [
              "       Age      Workclass  fnlwgt  ... Hours_per_week         Country  Target\n",
              "32559   22        Private  201490  ...             20   United-States   <=50K\n",
              "32560   52   Self-emp-inc  287927  ...             40   United-States    >50K\n",
              "\n",
              "[2 rows x 15 columns]"
            ]
          },
          "metadata": {
            "tags": []
          },
          "execution_count": 39
        }
      ]
    },
    {
      "cell_type": "code",
      "metadata": {
        "id": "hnbRd37QWZOH",
        "colab": {
          "base_uri": "https://localhost:8080/",
          "height": 300
        },
        "outputId": "4e225b23-db43-421e-9275-0027ca33ffa5"
      },
      "source": [
        "url = 'https://github.com/Yorko/mlcourse.ai/raw/master/data/adult_test.csv'\n",
        "s=requests.get(url).content\n",
        "data_test =pd.read_csv(io.StringIO(s.decode('utf-8')), sep=';')\n",
        "data_test.sample(5)\n"
      ],
      "execution_count": 40,
      "outputs": [
        {
          "output_type": "execute_result",
          "data": {
            "text/html": [
              "<div>\n",
              "<style scoped>\n",
              "    .dataframe tbody tr th:only-of-type {\n",
              "        vertical-align: middle;\n",
              "    }\n",
              "\n",
              "    .dataframe tbody tr th {\n",
              "        vertical-align: top;\n",
              "    }\n",
              "\n",
              "    .dataframe thead th {\n",
              "        text-align: right;\n",
              "    }\n",
              "</style>\n",
              "<table border=\"1\" class=\"dataframe\">\n",
              "  <thead>\n",
              "    <tr style=\"text-align: right;\">\n",
              "      <th></th>\n",
              "      <th>Age</th>\n",
              "      <th>Workclass</th>\n",
              "      <th>fnlwgt</th>\n",
              "      <th>Education</th>\n",
              "      <th>Education_Num</th>\n",
              "      <th>Martial_Status</th>\n",
              "      <th>Occupation</th>\n",
              "      <th>Relationship</th>\n",
              "      <th>Race</th>\n",
              "      <th>Sex</th>\n",
              "      <th>Capital_Gain</th>\n",
              "      <th>Capital_Loss</th>\n",
              "      <th>Hours_per_week</th>\n",
              "      <th>Country</th>\n",
              "      <th>Target</th>\n",
              "    </tr>\n",
              "  </thead>\n",
              "  <tbody>\n",
              "    <tr>\n",
              "      <th>3208</th>\n",
              "      <td>22</td>\n",
              "      <td>Private</td>\n",
              "      <td>272591.0</td>\n",
              "      <td>10th</td>\n",
              "      <td>6.0</td>\n",
              "      <td>Never-married</td>\n",
              "      <td>Machine-op-inspct</td>\n",
              "      <td>Not-in-family</td>\n",
              "      <td>White</td>\n",
              "      <td>Male</td>\n",
              "      <td>0.0</td>\n",
              "      <td>0.0</td>\n",
              "      <td>30.0</td>\n",
              "      <td>United-States</td>\n",
              "      <td>&lt;=50K.</td>\n",
              "    </tr>\n",
              "    <tr>\n",
              "      <th>8070</th>\n",
              "      <td>48</td>\n",
              "      <td>Private</td>\n",
              "      <td>216414.0</td>\n",
              "      <td>Bachelors</td>\n",
              "      <td>13.0</td>\n",
              "      <td>Married-civ-spouse</td>\n",
              "      <td>Exec-managerial</td>\n",
              "      <td>Husband</td>\n",
              "      <td>White</td>\n",
              "      <td>Male</td>\n",
              "      <td>0.0</td>\n",
              "      <td>1977.0</td>\n",
              "      <td>70.0</td>\n",
              "      <td>United-States</td>\n",
              "      <td>&gt;50K.</td>\n",
              "    </tr>\n",
              "    <tr>\n",
              "      <th>421</th>\n",
              "      <td>65</td>\n",
              "      <td>Private</td>\n",
              "      <td>88145.0</td>\n",
              "      <td>1st-4th</td>\n",
              "      <td>2.0</td>\n",
              "      <td>Married-civ-spouse</td>\n",
              "      <td>Handlers-cleaners</td>\n",
              "      <td>Husband</td>\n",
              "      <td>Other</td>\n",
              "      <td>Male</td>\n",
              "      <td>0.0</td>\n",
              "      <td>0.0</td>\n",
              "      <td>40.0</td>\n",
              "      <td>NaN</td>\n",
              "      <td>&lt;=50K.</td>\n",
              "    </tr>\n",
              "    <tr>\n",
              "      <th>11566</th>\n",
              "      <td>20</td>\n",
              "      <td>Private</td>\n",
              "      <td>182615.0</td>\n",
              "      <td>HS-grad</td>\n",
              "      <td>9.0</td>\n",
              "      <td>Never-married</td>\n",
              "      <td>Handlers-cleaners</td>\n",
              "      <td>Own-child</td>\n",
              "      <td>White</td>\n",
              "      <td>Male</td>\n",
              "      <td>0.0</td>\n",
              "      <td>0.0</td>\n",
              "      <td>40.0</td>\n",
              "      <td>United-States</td>\n",
              "      <td>&lt;=50K.</td>\n",
              "    </tr>\n",
              "    <tr>\n",
              "      <th>15966</th>\n",
              "      <td>46</td>\n",
              "      <td>Self-emp-not-inc</td>\n",
              "      <td>225065.0</td>\n",
              "      <td>Bachelors</td>\n",
              "      <td>13.0</td>\n",
              "      <td>Separated</td>\n",
              "      <td>Other-service</td>\n",
              "      <td>Unmarried</td>\n",
              "      <td>White</td>\n",
              "      <td>Female</td>\n",
              "      <td>0.0</td>\n",
              "      <td>0.0</td>\n",
              "      <td>45.0</td>\n",
              "      <td>Nicaragua</td>\n",
              "      <td>&lt;=50K.</td>\n",
              "    </tr>\n",
              "  </tbody>\n",
              "</table>\n",
              "</div>"
            ],
            "text/plain": [
              "      Age          Workclass    fnlwgt  ... Hours_per_week         Country   Target\n",
              "3208   22            Private  272591.0  ...           30.0   United-States   <=50K.\n",
              "8070   48            Private  216414.0  ...           70.0   United-States    >50K.\n",
              "421    65            Private   88145.0  ...           40.0             NaN   <=50K.\n",
              "11566  20            Private  182615.0  ...           40.0   United-States   <=50K.\n",
              "15966  46   Self-emp-not-inc  225065.0  ...           45.0       Nicaragua   <=50K.\n",
              "\n",
              "[5 rows x 15 columns]"
            ]
          },
          "metadata": {
            "tags": []
          },
          "execution_count": 40
        }
      ]
    },
    {
      "cell_type": "code",
      "metadata": {
        "id": "cKI6D3DfdLJ9",
        "colab": {
          "base_uri": "https://localhost:8080/"
        },
        "outputId": "5613d016-01d9-4aab-fed4-0fd97ae8ad13"
      },
      "source": [
        " #Посмотрим как там дела с образованием\n",
        "data_train['Education'].value_counts()"
      ],
      "execution_count": 41,
      "outputs": [
        {
          "output_type": "execute_result",
          "data": {
            "text/plain": [
              " HS-grad         10501\n",
              " Some-college     7291\n",
              " Bachelors        5355\n",
              " Masters          1723\n",
              " Assoc-voc        1382\n",
              " 11th             1175\n",
              " Assoc-acdm       1067\n",
              " 10th              933\n",
              " 7th-8th           646\n",
              " Prof-school       576\n",
              " 9th               514\n",
              " 12th              433\n",
              " Doctorate         413\n",
              " 5th-6th           333\n",
              " 1st-4th           168\n",
              " Preschool          51\n",
              "Name: Education, dtype: int64"
            ]
          },
          "metadata": {
            "tags": []
          },
          "execution_count": 41
        }
      ]
    },
    {
      "cell_type": "code",
      "metadata": {
        "id": "hPxFcyTMWvBP",
        "colab": {
          "base_uri": "https://localhost:8080/"
        },
        "outputId": "a7d2210c-ca89-44e8-f611-345231917c06"
      },
      "source": [
        "#посмотрим на таргеты\n",
        "data_train['Target'].value_counts(dropna=False)"
      ],
      "execution_count": 42,
      "outputs": [
        {
          "output_type": "execute_result",
          "data": {
            "text/plain": [
              " <=50K    24720\n",
              " >50K      7841\n",
              "Name: Target, dtype: int64"
            ]
          },
          "metadata": {
            "tags": []
          },
          "execution_count": 42
        }
      ]
    },
    {
      "cell_type": "code",
      "metadata": {
        "id": "GvCEVJ0BW6Xq",
        "colab": {
          "base_uri": "https://localhost:8080/"
        },
        "outputId": "a1711238-e524-45b1-8593-07f5c0dcd111"
      },
      "source": [
        "data_test['Target'].value_counts(dropna=False)"
      ],
      "execution_count": 43,
      "outputs": [
        {
          "output_type": "execute_result",
          "data": {
            "text/plain": [
              " <=50K.    12435\n",
              " >50K.      3846\n",
              "NaN            1\n",
              "Name: Target, dtype: int64"
            ]
          },
          "metadata": {
            "tags": []
          },
          "execution_count": 43
        }
      ]
    },
    {
      "cell_type": "code",
      "metadata": {
        "id": "UYPcXmaoXIJT"
      },
      "source": [
        "#NAN нам совсем в тесте не нужен\n",
        "data_test = data_test[(data_test['Target'] == ' >50K.') \n",
        "                      |(data_test['Target']==' <=50K.')]"
      ],
      "execution_count": 44,
      "outputs": []
    },
    {
      "cell_type": "markdown",
      "metadata": {
        "id": "cbW0LOurY0AN"
      },
      "source": [
        "### EDA и подготовка данных"
      ]
    },
    {
      "cell_type": "code",
      "metadata": {
        "id": "s-lIIYvWYzCJ",
        "colab": {
          "base_uri": "https://localhost:8080/",
          "height": 494
        },
        "outputId": "6d2e482c-4bee-40ff-9256-1bafbf81a824"
      },
      "source": [
        "data_train.describe(include='all').T"
      ],
      "execution_count": 45,
      "outputs": [
        {
          "output_type": "execute_result",
          "data": {
            "text/html": [
              "<div>\n",
              "<style scoped>\n",
              "    .dataframe tbody tr th:only-of-type {\n",
              "        vertical-align: middle;\n",
              "    }\n",
              "\n",
              "    .dataframe tbody tr th {\n",
              "        vertical-align: top;\n",
              "    }\n",
              "\n",
              "    .dataframe thead th {\n",
              "        text-align: right;\n",
              "    }\n",
              "</style>\n",
              "<table border=\"1\" class=\"dataframe\">\n",
              "  <thead>\n",
              "    <tr style=\"text-align: right;\">\n",
              "      <th></th>\n",
              "      <th>count</th>\n",
              "      <th>unique</th>\n",
              "      <th>top</th>\n",
              "      <th>freq</th>\n",
              "      <th>mean</th>\n",
              "      <th>std</th>\n",
              "      <th>min</th>\n",
              "      <th>25%</th>\n",
              "      <th>50%</th>\n",
              "      <th>75%</th>\n",
              "      <th>max</th>\n",
              "    </tr>\n",
              "  </thead>\n",
              "  <tbody>\n",
              "    <tr>\n",
              "      <th>Age</th>\n",
              "      <td>32561</td>\n",
              "      <td>NaN</td>\n",
              "      <td>NaN</td>\n",
              "      <td>NaN</td>\n",
              "      <td>38.5816</td>\n",
              "      <td>13.6404</td>\n",
              "      <td>17</td>\n",
              "      <td>28</td>\n",
              "      <td>37</td>\n",
              "      <td>48</td>\n",
              "      <td>90</td>\n",
              "    </tr>\n",
              "    <tr>\n",
              "      <th>Workclass</th>\n",
              "      <td>30725</td>\n",
              "      <td>8</td>\n",
              "      <td>Private</td>\n",
              "      <td>22696</td>\n",
              "      <td>NaN</td>\n",
              "      <td>NaN</td>\n",
              "      <td>NaN</td>\n",
              "      <td>NaN</td>\n",
              "      <td>NaN</td>\n",
              "      <td>NaN</td>\n",
              "      <td>NaN</td>\n",
              "    </tr>\n",
              "    <tr>\n",
              "      <th>fnlwgt</th>\n",
              "      <td>32561</td>\n",
              "      <td>NaN</td>\n",
              "      <td>NaN</td>\n",
              "      <td>NaN</td>\n",
              "      <td>189778</td>\n",
              "      <td>105550</td>\n",
              "      <td>12285</td>\n",
              "      <td>117827</td>\n",
              "      <td>178356</td>\n",
              "      <td>237051</td>\n",
              "      <td>1.48470e+06</td>\n",
              "    </tr>\n",
              "    <tr>\n",
              "      <th>Education</th>\n",
              "      <td>32561</td>\n",
              "      <td>16</td>\n",
              "      <td>HS-grad</td>\n",
              "      <td>10501</td>\n",
              "      <td>NaN</td>\n",
              "      <td>NaN</td>\n",
              "      <td>NaN</td>\n",
              "      <td>NaN</td>\n",
              "      <td>NaN</td>\n",
              "      <td>NaN</td>\n",
              "      <td>NaN</td>\n",
              "    </tr>\n",
              "    <tr>\n",
              "      <th>Education_Num</th>\n",
              "      <td>32561</td>\n",
              "      <td>NaN</td>\n",
              "      <td>NaN</td>\n",
              "      <td>NaN</td>\n",
              "      <td>10.0807</td>\n",
              "      <td>2.57272</td>\n",
              "      <td>1</td>\n",
              "      <td>9</td>\n",
              "      <td>10</td>\n",
              "      <td>12</td>\n",
              "      <td>16</td>\n",
              "    </tr>\n",
              "    <tr>\n",
              "      <th>Martial_Status</th>\n",
              "      <td>32561</td>\n",
              "      <td>7</td>\n",
              "      <td>Married-civ-spouse</td>\n",
              "      <td>14976</td>\n",
              "      <td>NaN</td>\n",
              "      <td>NaN</td>\n",
              "      <td>NaN</td>\n",
              "      <td>NaN</td>\n",
              "      <td>NaN</td>\n",
              "      <td>NaN</td>\n",
              "      <td>NaN</td>\n",
              "    </tr>\n",
              "    <tr>\n",
              "      <th>Occupation</th>\n",
              "      <td>30718</td>\n",
              "      <td>14</td>\n",
              "      <td>Prof-specialty</td>\n",
              "      <td>4140</td>\n",
              "      <td>NaN</td>\n",
              "      <td>NaN</td>\n",
              "      <td>NaN</td>\n",
              "      <td>NaN</td>\n",
              "      <td>NaN</td>\n",
              "      <td>NaN</td>\n",
              "      <td>NaN</td>\n",
              "    </tr>\n",
              "    <tr>\n",
              "      <th>Relationship</th>\n",
              "      <td>32561</td>\n",
              "      <td>6</td>\n",
              "      <td>Husband</td>\n",
              "      <td>13193</td>\n",
              "      <td>NaN</td>\n",
              "      <td>NaN</td>\n",
              "      <td>NaN</td>\n",
              "      <td>NaN</td>\n",
              "      <td>NaN</td>\n",
              "      <td>NaN</td>\n",
              "      <td>NaN</td>\n",
              "    </tr>\n",
              "    <tr>\n",
              "      <th>Race</th>\n",
              "      <td>32561</td>\n",
              "      <td>5</td>\n",
              "      <td>White</td>\n",
              "      <td>27816</td>\n",
              "      <td>NaN</td>\n",
              "      <td>NaN</td>\n",
              "      <td>NaN</td>\n",
              "      <td>NaN</td>\n",
              "      <td>NaN</td>\n",
              "      <td>NaN</td>\n",
              "      <td>NaN</td>\n",
              "    </tr>\n",
              "    <tr>\n",
              "      <th>Sex</th>\n",
              "      <td>32561</td>\n",
              "      <td>2</td>\n",
              "      <td>Male</td>\n",
              "      <td>21790</td>\n",
              "      <td>NaN</td>\n",
              "      <td>NaN</td>\n",
              "      <td>NaN</td>\n",
              "      <td>NaN</td>\n",
              "      <td>NaN</td>\n",
              "      <td>NaN</td>\n",
              "      <td>NaN</td>\n",
              "    </tr>\n",
              "    <tr>\n",
              "      <th>Capital_Gain</th>\n",
              "      <td>32561</td>\n",
              "      <td>NaN</td>\n",
              "      <td>NaN</td>\n",
              "      <td>NaN</td>\n",
              "      <td>1077.65</td>\n",
              "      <td>7385.29</td>\n",
              "      <td>0</td>\n",
              "      <td>0</td>\n",
              "      <td>0</td>\n",
              "      <td>0</td>\n",
              "      <td>99999</td>\n",
              "    </tr>\n",
              "    <tr>\n",
              "      <th>Capital_Loss</th>\n",
              "      <td>32561</td>\n",
              "      <td>NaN</td>\n",
              "      <td>NaN</td>\n",
              "      <td>NaN</td>\n",
              "      <td>87.3038</td>\n",
              "      <td>402.96</td>\n",
              "      <td>0</td>\n",
              "      <td>0</td>\n",
              "      <td>0</td>\n",
              "      <td>0</td>\n",
              "      <td>4356</td>\n",
              "    </tr>\n",
              "    <tr>\n",
              "      <th>Hours_per_week</th>\n",
              "      <td>32561</td>\n",
              "      <td>NaN</td>\n",
              "      <td>NaN</td>\n",
              "      <td>NaN</td>\n",
              "      <td>40.4375</td>\n",
              "      <td>12.3474</td>\n",
              "      <td>1</td>\n",
              "      <td>40</td>\n",
              "      <td>40</td>\n",
              "      <td>45</td>\n",
              "      <td>99</td>\n",
              "    </tr>\n",
              "    <tr>\n",
              "      <th>Country</th>\n",
              "      <td>31978</td>\n",
              "      <td>41</td>\n",
              "      <td>United-States</td>\n",
              "      <td>29170</td>\n",
              "      <td>NaN</td>\n",
              "      <td>NaN</td>\n",
              "      <td>NaN</td>\n",
              "      <td>NaN</td>\n",
              "      <td>NaN</td>\n",
              "      <td>NaN</td>\n",
              "      <td>NaN</td>\n",
              "    </tr>\n",
              "    <tr>\n",
              "      <th>Target</th>\n",
              "      <td>32561</td>\n",
              "      <td>2</td>\n",
              "      <td>&lt;=50K</td>\n",
              "      <td>24720</td>\n",
              "      <td>NaN</td>\n",
              "      <td>NaN</td>\n",
              "      <td>NaN</td>\n",
              "      <td>NaN</td>\n",
              "      <td>NaN</td>\n",
              "      <td>NaN</td>\n",
              "      <td>NaN</td>\n",
              "    </tr>\n",
              "  </tbody>\n",
              "</table>\n",
              "</div>"
            ],
            "text/plain": [
              "                count unique                  top  ...     50%     75%          max\n",
              "Age             32561    NaN                  NaN  ...      37      48           90\n",
              "Workclass       30725      8              Private  ...     NaN     NaN          NaN\n",
              "fnlwgt          32561    NaN                  NaN  ...  178356  237051  1.48470e+06\n",
              "Education       32561     16              HS-grad  ...     NaN     NaN          NaN\n",
              "Education_Num   32561    NaN                  NaN  ...      10      12           16\n",
              "Martial_Status  32561      7   Married-civ-spouse  ...     NaN     NaN          NaN\n",
              "Occupation      30718     14       Prof-specialty  ...     NaN     NaN          NaN\n",
              "Relationship    32561      6              Husband  ...     NaN     NaN          NaN\n",
              "Race            32561      5                White  ...     NaN     NaN          NaN\n",
              "Sex             32561      2                 Male  ...     NaN     NaN          NaN\n",
              "Capital_Gain    32561    NaN                  NaN  ...       0       0        99999\n",
              "Capital_Loss    32561    NaN                  NaN  ...       0       0         4356\n",
              "Hours_per_week  32561    NaN                  NaN  ...      40      45           99\n",
              "Country         31978     41        United-States  ...     NaN     NaN          NaN\n",
              "Target          32561      2                <=50K  ...     NaN     NaN          NaN\n",
              "\n",
              "[15 rows x 11 columns]"
            ]
          },
          "metadata": {
            "tags": []
          },
          "execution_count": 45
        }
      ]
    },
    {
      "cell_type": "code",
      "metadata": {
        "id": "OwRNW_CHXVlf",
        "colab": {
          "base_uri": "https://localhost:8080/",
          "height": 901
        },
        "outputId": "f230ce1c-ac79-465f-b660-634d879c1d8f"
      },
      "source": [
        "fig = plt.figure(figsize=(25, 15))\n",
        "cols = 5\n",
        "rows = np.ceil(float(data_train.shape[1]) / cols)\n",
        "for i, column in enumerate(data_train.columns):\n",
        "    ax = fig.add_subplot(rows, cols, i + 1)\n",
        "    ax.set_title(column)\n",
        "    if data_train.dtypes[column] == np.object:\n",
        "        #data_train[column].value_counts().plot(kind=\"bar\", axes=ax)\n",
        "        sns.countplot(x=column, data=data_train, axes = ax, hue  = 'Target')\n",
        "        ax.set_xticklabels(ax.get_xticklabels(), rotation = 90)\n",
        "    else:\n",
        "        data_train[data_train['Target']==' <=50K'][column].hist(axes=ax)\n",
        "        data_train[data_train['Target']==' >50K'][column].hist(axes=ax)\n",
        "\n",
        "        plt.xticks(rotation=\"vertical\")\n",
        "plt.subplots_adjust(hspace=0.7, wspace=0.2)"
      ],
      "execution_count": 46,
      "outputs": [
        {
          "output_type": "display_data",
          "data": {
            "image/png": "[encoded data removed]",
            "text/plain": [
              "<Figure size 1800x1080 with 15 Axes>"
            ]
          },
          "metadata": {
            "tags": [],
            "needs_background": "light"
          }
        }
      ]
    },
    {
      "cell_type": "code",
      "metadata": {
        "id": "HBDau4z8fLAf",
        "colab": {
          "base_uri": "https://localhost:8080/"
        },
        "outputId": "ca23c1b8-1440-4327-f35c-103c7bc9360d"
      },
      "source": [
        "data_test.dtypes[data_test.columns]"
      ],
      "execution_count": 47,
      "outputs": [
        {
          "output_type": "execute_result",
          "data": {
            "text/plain": [
              "Age                object\n",
              "Workclass          object\n",
              "fnlwgt            float64\n",
              "Education          object\n",
              "Education_Num     float64\n",
              "Martial_Status     object\n",
              "Occupation         object\n",
              "Relationship       object\n",
              "Race               object\n",
              "Sex                object\n",
              "Capital_Gain      float64\n",
              "Capital_Loss      float64\n",
              "Hours_per_week    float64\n",
              "Country            object\n",
              "Target             object\n",
              "dtype: object"
            ]
          },
          "metadata": {
            "tags": []
          },
          "execution_count": 47
        }
      ]
    },
    {
      "cell_type": "markdown",
      "metadata": {
        "id": "8TP1vHr-eYmv"
      },
      "source": [
        ""
      ]
    },
    {
      "cell_type": "code",
      "metadata": {
        "id": "XHyLbrR3fepl"
      },
      "source": [
        "data_test['Age'] = data_test['Age'].astype(int)\n",
        "data_test['fnlwgt'] = data_test['fnlwgt'].astype(int)\n",
        "data_test['Education_Num'] = data_test['Education_Num'].astype(int)\n",
        "data_test['Capital_Gain'] = data_test['Capital_Gain'].astype(int)\n",
        "data_test['Capital_Loss'] = data_test['Capital_Loss'].astype(int)\n",
        "data_test['Hours_per_week'] = data_test['Hours_per_week'].astype(int)"
      ],
      "execution_count": 48,
      "outputs": []
    },
    {
      "cell_type": "code",
      "metadata": {
        "id": "6MC409Y5aQBf",
        "colab": {
          "base_uri": "https://localhost:8080/"
        },
        "outputId": "5140e1c6-3e79-4311-e8f1-5233789201e7"
      },
      "source": [
        "# выделим в выборках категориальные и числовые поля\n",
        "\n",
        "categorical_columns_train = [c for c in data_train.columns \n",
        "                             if data_train[c].dtype.name == 'object']\n",
        "numerical_columns_train = [c for c in data_train.columns \n",
        "                           if data_train[c].dtype.name != 'object']\n",
        "\n",
        "categorical_columns_test = [c for c in data_test.columns \n",
        "                            if data_test[c].dtype.name == 'object']\n",
        "numerical_columns_test = [c for c in data_test.columns \n",
        "                          if data_test[c].dtype.name != 'object']\n",
        "\n",
        "print('categorical_columns_test:', categorical_columns_test)\n",
        "print('categorical_columns_train:', categorical_columns_train)\n",
        "print('numerical_columns_test:', numerical_columns_test)\n",
        "print('numerical_columns_train:', numerical_columns_train)"
      ],
      "execution_count": 49,
      "outputs": [
        {
          "output_type": "stream",
          "text": [
            "categorical_columns_test: ['Workclass', 'Education', 'Martial_Status', 'Occupation', 'Relationship', 'Race', 'Sex', 'Country', 'Target']\n",
            "categorical_columns_train: ['Workclass', 'Education', 'Martial_Status', 'Occupation', 'Relationship', 'Race', 'Sex', 'Country', 'Target']\n",
            "numerical_columns_test: ['Age', 'fnlwgt', 'Education_Num', 'Capital_Gain', 'Capital_Loss', 'Hours_per_week']\n",
            "numerical_columns_train: ['Age', 'fnlwgt', 'Education_Num', 'Capital_Gain', 'Capital_Loss', 'Hours_per_week']\n"
          ],
          "name": "stdout"
        }
      ]
    },
    {
      "cell_type": "code",
      "metadata": {
        "id": "Pm89uoEWaTBV"
      },
      "source": [
        "# заполним пропуски\n",
        "\n",
        "for c in categorical_columns_train:\n",
        "    data_train[c] = data_train[c].fillna(data_train[c].mode())\n",
        "for c in categorical_columns_test:\n",
        "    data_test[c] = data_test[c].fillna(data_train[c].mode())\n",
        "    \n",
        "for c in numerical_columns_train:\n",
        "    data_train[c] = data_train[c].fillna(data_train[c].median())\n",
        "for c in numerical_columns_test:\n",
        "    data_test[c] = data_test[c].fillna(data_train[c].median())   "
      ],
      "execution_count": 50,
      "outputs": []
    },
    {
      "cell_type": "code",
      "metadata": {
        "id": "JMXoijhaiNVl",
        "colab": {
          "base_uri": "https://localhost:8080/",
          "height": 124
        },
        "outputId": "decef3ef-4579-41e0-e950-a1443e9c5d5e"
      },
      "source": [
        "# Помним, что с категориальными признаками нельзя работать напрямую, надо делать OHE, например так\n",
        "pd.get_dummies(data_train['Workclass'], prefix=\"Workclass\").head(2)"
      ],
      "execution_count": 51,
      "outputs": [
        {
          "output_type": "execute_result",
          "data": {
            "text/html": [
              "<div>\n",
              "<style scoped>\n",
              "    .dataframe tbody tr th:only-of-type {\n",
              "        vertical-align: middle;\n",
              "    }\n",
              "\n",
              "    .dataframe tbody tr th {\n",
              "        vertical-align: top;\n",
              "    }\n",
              "\n",
              "    .dataframe thead th {\n",
              "        text-align: right;\n",
              "    }\n",
              "</style>\n",
              "<table border=\"1\" class=\"dataframe\">\n",
              "  <thead>\n",
              "    <tr style=\"text-align: right;\">\n",
              "      <th></th>\n",
              "      <th>Workclass_ Federal-gov</th>\n",
              "      <th>Workclass_ Local-gov</th>\n",
              "      <th>Workclass_ Never-worked</th>\n",
              "      <th>Workclass_ Private</th>\n",
              "      <th>Workclass_ Self-emp-inc</th>\n",
              "      <th>Workclass_ Self-emp-not-inc</th>\n",
              "      <th>Workclass_ State-gov</th>\n",
              "      <th>Workclass_ Without-pay</th>\n",
              "    </tr>\n",
              "  </thead>\n",
              "  <tbody>\n",
              "    <tr>\n",
              "      <th>0</th>\n",
              "      <td>0</td>\n",
              "      <td>0</td>\n",
              "      <td>0</td>\n",
              "      <td>0</td>\n",
              "      <td>0</td>\n",
              "      <td>0</td>\n",
              "      <td>1</td>\n",
              "      <td>0</td>\n",
              "    </tr>\n",
              "    <tr>\n",
              "      <th>1</th>\n",
              "      <td>0</td>\n",
              "      <td>0</td>\n",
              "      <td>0</td>\n",
              "      <td>0</td>\n",
              "      <td>0</td>\n",
              "      <td>1</td>\n",
              "      <td>0</td>\n",
              "      <td>0</td>\n",
              "    </tr>\n",
              "  </tbody>\n",
              "</table>\n",
              "</div>"
            ],
            "text/plain": [
              "   Workclass_ Federal-gov  ...  Workclass_ Without-pay\n",
              "0                       0  ...                       0\n",
              "1                       0  ...                       0\n",
              "\n",
              "[2 rows x 8 columns]"
            ]
          },
          "metadata": {
            "tags": []
          },
          "execution_count": 51
        }
      ]
    },
    {
      "cell_type": "code",
      "metadata": {
        "id": "A1Q4Zgh9dSiJ"
      },
      "source": [
        "data_train = pd.concat([data_train, pd.get_dummies(data_train['Workclass'], \n",
        "                                                   prefix=\"Workclass\"),\n",
        "                      pd.get_dummies(data_train['Education'], prefix=\"Education\"),\n",
        "                      pd.get_dummies(data_train['Martial_Status'], prefix=\"Martial_Status\"),\n",
        "                      pd.get_dummies(data_train['Occupation'], prefix=\"Occupation\"),\n",
        "                      pd.get_dummies(data_train['Relationship'], prefix=\"Relationship\"),\n",
        "                      pd.get_dummies(data_train['Race'], prefix=\"Race\"),\n",
        "                      pd.get_dummies(data_train['Sex'], prefix=\"Sex\"),\n",
        "                      pd.get_dummies(data_train['Country'], prefix=\"Country\")],\n",
        "                     axis=1)\n",
        "\n",
        "data_test = pd.concat([data_test, pd.get_dummies(data_test['Workclass'], prefix=\"Workclass\"),\n",
        "                      pd.get_dummies(data_test['Education'], prefix=\"Education\"),\n",
        "                      pd.get_dummies(data_test['Martial_Status'], prefix=\"Martial_Status\"),\n",
        "                      pd.get_dummies(data_test['Occupation'], prefix=\"Occupation\"),\n",
        "                      pd.get_dummies(data_test['Relationship'], prefix=\"Relationship\"),\n",
        "                      pd.get_dummies(data_test['Race'], prefix=\"Race\"),\n",
        "                      pd.get_dummies(data_test['Sex'], prefix=\"Sex\"),\n",
        "                      pd.get_dummies(data_test['Country'], prefix=\"Country\")],\n",
        "                     axis=1)"
      ],
      "execution_count": 52,
      "outputs": []
    },
    {
      "cell_type": "code",
      "metadata": {
        "id": "HL0UrSp5d0P8"
      },
      "source": [
        "#После того как заменили все категориальные переменные на бинарные, надо их не забыть выкинуть\n",
        "data_train.drop(['Workclass', 'Education', 'Martial_Status',\n",
        "                 'Occupation', 'Relationship', 'Race', 'Sex', 'Country'],\n",
        "                axis=1, inplace=True)\n",
        "data_test.drop(['Workclass', 'Education', 'Martial_Status', 'Occupation', \n",
        "                'Relationship', 'Race', 'Sex', 'Country'],\n",
        "               axis=1, inplace=True)"
      ],
      "execution_count": 53,
      "outputs": []
    },
    {
      "cell_type": "code",
      "metadata": {
        "id": "tA_9bpW-fXiL"
      },
      "source": [
        "# перекодируем target в числовое поле (можно сделать это разными способами, как еще?)\n",
        "data_train.at[data_train['Target'] == ' <=50K', 'Target'] = 0\n",
        "data_train.at[data_train['Target'] == ' >50K', 'Target'] = 1\n",
        "\n",
        "data_test.at[data_test['Target'] == ' <=50K.', 'Target'] = 0\n",
        "data_test.at[data_test['Target'] == ' >50K.', 'Target'] = 1"
      ],
      "execution_count": 54,
      "outputs": []
    },
    {
      "cell_type": "code",
      "metadata": {
        "id": "JmJRKQ7Ufo4V",
        "colab": {
          "base_uri": "https://localhost:8080/",
          "height": 404
        },
        "outputId": "a7d28aea-ecb5-4ce0-e89c-ae7728e47ae8"
      },
      "source": [
        "data_test.describe(include='all').T"
      ],
      "execution_count": 55,
      "outputs": [
        {
          "output_type": "execute_result",
          "data": {
            "text/html": [
              "<div>\n",
              "<style scoped>\n",
              "    .dataframe tbody tr th:only-of-type {\n",
              "        vertical-align: middle;\n",
              "    }\n",
              "\n",
              "    .dataframe tbody tr th {\n",
              "        vertical-align: top;\n",
              "    }\n",
              "\n",
              "    .dataframe thead th {\n",
              "        text-align: right;\n",
              "    }\n",
              "</style>\n",
              "<table border=\"1\" class=\"dataframe\">\n",
              "  <thead>\n",
              "    <tr style=\"text-align: right;\">\n",
              "      <th></th>\n",
              "      <th>count</th>\n",
              "      <th>unique</th>\n",
              "      <th>top</th>\n",
              "      <th>freq</th>\n",
              "      <th>mean</th>\n",
              "      <th>std</th>\n",
              "      <th>min</th>\n",
              "      <th>25%</th>\n",
              "      <th>50%</th>\n",
              "      <th>75%</th>\n",
              "      <th>max</th>\n",
              "    </tr>\n",
              "  </thead>\n",
              "  <tbody>\n",
              "    <tr>\n",
              "      <th>Age</th>\n",
              "      <td>16281.0</td>\n",
              "      <td>NaN</td>\n",
              "      <td>NaN</td>\n",
              "      <td>NaN</td>\n",
              "      <td>38.767459</td>\n",
              "      <td>13.849187</td>\n",
              "      <td>17.0</td>\n",
              "      <td>28.0</td>\n",
              "      <td>37.0</td>\n",
              "      <td>48.0</td>\n",
              "      <td>90.0</td>\n",
              "    </tr>\n",
              "    <tr>\n",
              "      <th>fnlwgt</th>\n",
              "      <td>16281.0</td>\n",
              "      <td>NaN</td>\n",
              "      <td>NaN</td>\n",
              "      <td>NaN</td>\n",
              "      <td>189435.677784</td>\n",
              "      <td>105714.907671</td>\n",
              "      <td>13492.0</td>\n",
              "      <td>116736.0</td>\n",
              "      <td>177831.0</td>\n",
              "      <td>238384.0</td>\n",
              "      <td>1490400.0</td>\n",
              "    </tr>\n",
              "    <tr>\n",
              "      <th>Education_Num</th>\n",
              "      <td>16281.0</td>\n",
              "      <td>NaN</td>\n",
              "      <td>NaN</td>\n",
              "      <td>NaN</td>\n",
              "      <td>10.072907</td>\n",
              "      <td>2.567545</td>\n",
              "      <td>1.0</td>\n",
              "      <td>9.0</td>\n",
              "      <td>10.0</td>\n",
              "      <td>12.0</td>\n",
              "      <td>16.0</td>\n",
              "    </tr>\n",
              "    <tr>\n",
              "      <th>Capital_Gain</th>\n",
              "      <td>16281.0</td>\n",
              "      <td>NaN</td>\n",
              "      <td>NaN</td>\n",
              "      <td>NaN</td>\n",
              "      <td>1081.905104</td>\n",
              "      <td>7583.935968</td>\n",
              "      <td>0.0</td>\n",
              "      <td>0.0</td>\n",
              "      <td>0.0</td>\n",
              "      <td>0.0</td>\n",
              "      <td>99999.0</td>\n",
              "    </tr>\n",
              "    <tr>\n",
              "      <th>Capital_Loss</th>\n",
              "      <td>16281.0</td>\n",
              "      <td>NaN</td>\n",
              "      <td>NaN</td>\n",
              "      <td>NaN</td>\n",
              "      <td>87.899269</td>\n",
              "      <td>403.105286</td>\n",
              "      <td>0.0</td>\n",
              "      <td>0.0</td>\n",
              "      <td>0.0</td>\n",
              "      <td>0.0</td>\n",
              "      <td>3770.0</td>\n",
              "    </tr>\n",
              "    <tr>\n",
              "      <th>...</th>\n",
              "      <td>...</td>\n",
              "      <td>...</td>\n",
              "      <td>...</td>\n",
              "      <td>...</td>\n",
              "      <td>...</td>\n",
              "      <td>...</td>\n",
              "      <td>...</td>\n",
              "      <td>...</td>\n",
              "      <td>...</td>\n",
              "      <td>...</td>\n",
              "      <td>...</td>\n",
              "    </tr>\n",
              "    <tr>\n",
              "      <th>Country_ Thailand</th>\n",
              "      <td>16281.0</td>\n",
              "      <td>NaN</td>\n",
              "      <td>NaN</td>\n",
              "      <td>NaN</td>\n",
              "      <td>0.000737</td>\n",
              "      <td>0.027140</td>\n",
              "      <td>0.0</td>\n",
              "      <td>0.0</td>\n",
              "      <td>0.0</td>\n",
              "      <td>0.0</td>\n",
              "      <td>1.0</td>\n",
              "    </tr>\n",
              "    <tr>\n",
              "      <th>Country_ Trinadad&amp;Tobago</th>\n",
              "      <td>16281.0</td>\n",
              "      <td>NaN</td>\n",
              "      <td>NaN</td>\n",
              "      <td>NaN</td>\n",
              "      <td>0.000491</td>\n",
              "      <td>0.022162</td>\n",
              "      <td>0.0</td>\n",
              "      <td>0.0</td>\n",
              "      <td>0.0</td>\n",
              "      <td>0.0</td>\n",
              "      <td>1.0</td>\n",
              "    </tr>\n",
              "    <tr>\n",
              "      <th>Country_ United-States</th>\n",
              "      <td>16281.0</td>\n",
              "      <td>NaN</td>\n",
              "      <td>NaN</td>\n",
              "      <td>NaN</td>\n",
              "      <td>0.900559</td>\n",
              "      <td>0.299262</td>\n",
              "      <td>0.0</td>\n",
              "      <td>1.0</td>\n",
              "      <td>1.0</td>\n",
              "      <td>1.0</td>\n",
              "      <td>1.0</td>\n",
              "    </tr>\n",
              "    <tr>\n",
              "      <th>Country_ Vietnam</th>\n",
              "      <td>16281.0</td>\n",
              "      <td>NaN</td>\n",
              "      <td>NaN</td>\n",
              "      <td>NaN</td>\n",
              "      <td>0.001167</td>\n",
              "      <td>0.034143</td>\n",
              "      <td>0.0</td>\n",
              "      <td>0.0</td>\n",
              "      <td>0.0</td>\n",
              "      <td>0.0</td>\n",
              "      <td>1.0</td>\n",
              "    </tr>\n",
              "    <tr>\n",
              "      <th>Country_ Yugoslavia</th>\n",
              "      <td>16281.0</td>\n",
              "      <td>NaN</td>\n",
              "      <td>NaN</td>\n",
              "      <td>NaN</td>\n",
              "      <td>0.000430</td>\n",
              "      <td>0.020731</td>\n",
              "      <td>0.0</td>\n",
              "      <td>0.0</td>\n",
              "      <td>0.0</td>\n",
              "      <td>0.0</td>\n",
              "      <td>1.0</td>\n",
              "    </tr>\n",
              "  </tbody>\n",
              "</table>\n",
              "<p>105 rows × 11 columns</p>\n",
              "</div>"
            ],
            "text/plain": [
              "                            count  unique  top  ...       50%       75%        max\n",
              "Age                       16281.0     NaN  NaN  ...      37.0      48.0       90.0\n",
              "fnlwgt                    16281.0     NaN  NaN  ...  177831.0  238384.0  1490400.0\n",
              "Education_Num             16281.0     NaN  NaN  ...      10.0      12.0       16.0\n",
              "Capital_Gain              16281.0     NaN  NaN  ...       0.0       0.0    99999.0\n",
              "Capital_Loss              16281.0     NaN  NaN  ...       0.0       0.0     3770.0\n",
              "...                           ...     ...  ...  ...       ...       ...        ...\n",
              "Country_ Thailand         16281.0     NaN  NaN  ...       0.0       0.0        1.0\n",
              "Country_ Trinadad&Tobago  16281.0     NaN  NaN  ...       0.0       0.0        1.0\n",
              "Country_ United-States    16281.0     NaN  NaN  ...       1.0       1.0        1.0\n",
              "Country_ Vietnam          16281.0     NaN  NaN  ...       0.0       0.0        1.0\n",
              "Country_ Yugoslavia       16281.0     NaN  NaN  ...       0.0       0.0        1.0\n",
              "\n",
              "[105 rows x 11 columns]"
            ]
          },
          "metadata": {
            "tags": []
          },
          "execution_count": 55
        }
      ]
    },
    {
      "cell_type": "code",
      "metadata": {
        "id": "48goHsezjlzA",
        "colab": {
          "base_uri": "https://localhost:8080/"
        },
        "outputId": "a4ae9470-f1ae-4d75-be38-f26f1fee3b2b"
      },
      "source": [
        "#В трейне и тесте должны быть одинаковые наборы признаков, а тут нет, поправим\n",
        "set(data_train.columns) - set(data_test.columns)"
      ],
      "execution_count": 56,
      "outputs": [
        {
          "output_type": "execute_result",
          "data": {
            "text/plain": [
              "{'Country_ Holand-Netherlands'}"
            ]
          },
          "metadata": {
            "tags": []
          },
          "execution_count": 56
        }
      ]
    },
    {
      "cell_type": "code",
      "metadata": {
        "id": "7wKfvNIsf8J9",
        "colab": {
          "base_uri": "https://localhost:8080/"
        },
        "outputId": "acc3ae14-c684-4700-86bf-2feb804a7095"
      },
      "source": [
        "set(data_train.columns) - set(data_test.columns)\n",
        "print(data_train.shape, data_test.shape)"
      ],
      "execution_count": 57,
      "outputs": [
        {
          "output_type": "stream",
          "text": [
            "(32561, 106) (16281, 105)\n"
          ],
          "name": "stdout"
        }
      ]
    },
    {
      "cell_type": "code",
      "metadata": {
        "id": "Mn0bwxgIgOFM"
      },
      "source": [
        "data_test['Country_ Holand-Netherlands'] = np.zeros([data_test.shape[0], 1])"
      ],
      "execution_count": 58,
      "outputs": []
    },
    {
      "cell_type": "code",
      "metadata": {
        "id": "ZRf4N1JPgVkT",
        "colab": {
          "base_uri": "https://localhost:8080/"
        },
        "outputId": "0705a8ee-eff5-4572-86b1-bb24db190f63"
      },
      "source": [
        "print(data_train.shape, data_test.shape)"
      ],
      "execution_count": 59,
      "outputs": [
        {
          "output_type": "stream",
          "text": [
            "(32561, 106) (16281, 106)\n"
          ],
          "name": "stdout"
        }
      ]
    },
    {
      "cell_type": "markdown",
      "metadata": {
        "id": "ibdwPonKgd74"
      },
      "source": [
        "## Построение моделей\n"
      ]
    },
    {
      "cell_type": "code",
      "metadata": {
        "id": "nQDpo5Po79bG"
      },
      "source": [
        "# выделим таргет, его пришлось преобразовать в инт\r\n",
        "y_train = data_train['Target'].astype('int')\r\n",
        "X_train = data_train.drop(columns='Target').astype('int')\r\n",
        "y_test = data_test['Target'].astype('int')\r\n",
        "X_test = data_test.drop(columns='Target').astype('int')"
      ],
      "execution_count": 144,
      "outputs": []
    },
    {
      "cell_type": "code",
      "metadata": {
        "id": "6YXyTqVk8d_P"
      },
      "source": [
        "# разделим числовые и категориальные\r\n",
        "X_train_num = X_train[['Age', 'fnlwgt', 'Education_Num', 'Capital_Gain', 'Capital_Loss', 'Hours_per_week']]\r\n",
        "X_train_cat = X_train.drop(columns=X_train_num.columns)\r\n",
        "X_test_num = X_test[['Age', 'fnlwgt', 'Education_Num', 'Capital_Gain', 'Capital_Loss', 'Hours_per_week']]\r\n",
        "X_test_cat = X_test.drop(columns=X_test_num.columns)"
      ],
      "execution_count": 149,
      "outputs": []
    },
    {
      "cell_type": "markdown",
      "metadata": {
        "id": "JWsKtdY49m7C"
      },
      "source": [
        "### Обучите логистическую регрессию только на числовых данных\r\n",
        "Какая получилась метрика roc_auc? Округлите до второго знака после запятой"
      ]
    },
    {
      "cell_type": "code",
      "metadata": {
        "id": "8s6_BQ7OQnOS",
        "colab": {
          "base_uri": "https://localhost:8080/"
        },
        "outputId": "deb2a7b5-0df2-411e-ccb0-ec00e248d728"
      },
      "source": [
        "from sklearn.linear_model import LogisticRegression\r\n",
        "from sklearn.metrics import roc_auc_score, accuracy_score\r\n",
        "logreg = LogisticRegression()          \r\n",
        "logreg = logreg.fit(X_train_num, y_train)\r\n",
        "final_pred = logreg.predict(X_test_num)\r\n",
        "rocauc = roc_auc_score(y_test, final_pred)\r\n",
        "print(\"%.2f\" % rocauc)"
      ],
      "execution_count": 156,
      "outputs": [
        {
          "output_type": "stream",
          "text": [
            "0.61\n"
          ],
          "name": "stdout"
        }
      ]
    },
    {
      "cell_type": "markdown",
      "metadata": {
        "id": "pSnbmIOfCcjR"
      },
      "source": [
        "### Обучите логистическую регрессию только на категориальных данных\r\n",
        "Какая получилась метрика roc_auc? Округлите до второго знака после запятой"
      ]
    },
    {
      "cell_type": "code",
      "metadata": {
        "colab": {
          "base_uri": "https://localhost:8080/"
        },
        "id": "k2wI4ZOfCcAR",
        "outputId": "c9ef9b4d-07a4-45a1-c910-5048840937ca"
      },
      "source": [
        "logreg = LogisticRegression(max_iter=1000)          \r\n",
        "logreg = logreg.fit(X_train_cat, y_train)\r\n",
        "final_pred = logreg.predict(X_test_cat)\r\n",
        "rocauc = roc_auc_score(y_test, final_pred)\r\n",
        "print(\"%.2f\" % rocauc)"
      ],
      "execution_count": 151,
      "outputs": [
        {
          "output_type": "stream",
          "text": [
            "0.68\n"
          ],
          "name": "stdout"
        }
      ]
    },
    {
      "cell_type": "markdown",
      "metadata": {
        "id": "iDEcVndNDyVK"
      },
      "source": [
        "### Обучите логистическую регрессию на полных данных\r\n",
        "Какая получилась метрика roc_auc? Округлите до второго знака после запятой"
      ]
    },
    {
      "cell_type": "code",
      "metadata": {
        "colab": {
          "base_uri": "https://localhost:8080/"
        },
        "id": "FQTWo0IjCkHp",
        "outputId": "28b439d7-cdc9-4b52-85b4-718aec336f23"
      },
      "source": [
        "#Где-то на 1% выигрывают категориальные признаки??? Так и должно быть? \r\n",
        "logreg = LogisticRegression()          \r\n",
        "logreg = logreg.fit(X_train, y_train)\r\n",
        "final_pred = logreg.predict(X_test)\r\n",
        "rocauc = roc_auc_score(y_test, final_pred)\r\n",
        "print(\"%.2f\" % rocauc)"
      ],
      "execution_count": 152,
      "outputs": [
        {
          "output_type": "stream",
          "text": [
            "0.61\n"
          ],
          "name": "stdout"
        }
      ]
    },
    {
      "cell_type": "markdown",
      "metadata": {
        "id": "o9JnYw7zFKSq"
      },
      "source": [
        "### С помощью валидации на 5 фолдов, со стратификацией, настройте параметр С\r\n",
        "Для поиска возьмите равномерную сетку из 10 элементов от 0.1 до 1. Чему он равен? (random_state возьмите 17)\r\n",
        "\r\n",
        "Какая точность (не roc_auc) получилась на тестовой выборке для лучшей модели с лучшим параметром?"
      ]
    },
    {
      "cell_type": "code",
      "metadata": {
        "colab": {
          "base_uri": "https://localhost:8080/"
        },
        "id": "SdG1TSgaD8LL",
        "outputId": "ea154f6d-edf7-4e3c-abed-4d2e4fe2eaf4"
      },
      "source": [
        "from sklearn.model_selection import GridSearchCV\r\n",
        "logreg_param = {'C': np.logspace(0.01, 1, 5)}\r\n",
        "logreg_valid = GridSearchCV(LogisticRegression(max_iter=1000, random_state=17), logreg_param, scoring='accuracy', cv=5)\r\n",
        "logreg_valid.fit(X_train, y_train)"
      ],
      "execution_count": 153,
      "outputs": [
        {
          "output_type": "execute_result",
          "data": {
            "text/plain": [
              "GridSearchCV(cv=5, error_score=nan,\n",
              "             estimator=LogisticRegression(C=1.0, class_weight=None, dual=False,\n",
              "                                          fit_intercept=True,\n",
              "                                          intercept_scaling=1, l1_ratio=None,\n",
              "                                          max_iter=1000, multi_class='auto',\n",
              "                                          n_jobs=None, penalty='l2',\n",
              "                                          random_state=17, solver='lbfgs',\n",
              "                                          tol=0.0001, verbose=0,\n",
              "                                          warm_start=False),\n",
              "             iid='deprecated', n_jobs=None,\n",
              "             param_grid={'C': array([ 1.02329299,  1.80925591,  3.19889511,  5.65587757, 10.        ])},\n",
              "             pre_dispatch='2*n_jobs', refit=True, return_train_score=False,\n",
              "             scoring='accuracy', verbose=0)"
            ]
          },
          "metadata": {
            "tags": []
          },
          "execution_count": 153
        }
      ]
    },
    {
      "cell_type": "code",
      "metadata": {
        "colab": {
          "base_uri": "https://localhost:8080/",
          "height": 230
        },
        "id": "jKGY9LATFXSa",
        "outputId": "fd050b89-e62e-4706-f108-a5d8af22263b"
      },
      "source": [
        "res_logreg = pd.DataFrame(logreg_valid.cv_results_).loc[:,['params','mean_test_score','std_test_score','rank_test_score']]\r\n",
        "print(logreg_valid.best_params_)\r\n",
        "print(logreg_valid.best_score_)\r\n",
        "res_logreg.sort_values('rank_test_score')"
      ],
      "execution_count": 154,
      "outputs": [
        {
          "output_type": "stream",
          "text": [
            "{'C': 5.655877570891539}\n",
            "0.7975799582087008\n"
          ],
          "name": "stdout"
        },
        {
          "output_type": "execute_result",
          "data": {
            "text/html": [
              "<div>\n",
              "<style scoped>\n",
              "    .dataframe tbody tr th:only-of-type {\n",
              "        vertical-align: middle;\n",
              "    }\n",
              "\n",
              "    .dataframe tbody tr th {\n",
              "        vertical-align: top;\n",
              "    }\n",
              "\n",
              "    .dataframe thead th {\n",
              "        text-align: right;\n",
              "    }\n",
              "</style>\n",
              "<table border=\"1\" class=\"dataframe\">\n",
              "  <thead>\n",
              "    <tr style=\"text-align: right;\">\n",
              "      <th></th>\n",
              "      <th>params</th>\n",
              "      <th>mean_test_score</th>\n",
              "      <th>std_test_score</th>\n",
              "      <th>rank_test_score</th>\n",
              "    </tr>\n",
              "  </thead>\n",
              "  <tbody>\n",
              "    <tr>\n",
              "      <th>3</th>\n",
              "      <td>{'C': 5.655877570891539}</td>\n",
              "      <td>0.797580</td>\n",
              "      <td>0.002167</td>\n",
              "      <td>1</td>\n",
              "    </tr>\n",
              "    <tr>\n",
              "      <th>2</th>\n",
              "      <td>{'C': 3.198895109691398}</td>\n",
              "      <td>0.796351</td>\n",
              "      <td>0.002698</td>\n",
              "      <td>2</td>\n",
              "    </tr>\n",
              "    <tr>\n",
              "      <th>0</th>\n",
              "      <td>{'C': 1.023292992280754}</td>\n",
              "      <td>0.795799</td>\n",
              "      <td>0.004996</td>\n",
              "      <td>3</td>\n",
              "    </tr>\n",
              "    <tr>\n",
              "      <th>4</th>\n",
              "      <td>{'C': 10.0}</td>\n",
              "      <td>0.795768</td>\n",
              "      <td>0.005053</td>\n",
              "      <td>4</td>\n",
              "    </tr>\n",
              "    <tr>\n",
              "      <th>1</th>\n",
              "      <td>{'C': 1.8092559102538208}</td>\n",
              "      <td>0.794539</td>\n",
              "      <td>0.004864</td>\n",
              "      <td>5</td>\n",
              "    </tr>\n",
              "  </tbody>\n",
              "</table>\n",
              "</div>"
            ],
            "text/plain": [
              "                      params  mean_test_score  std_test_score  rank_test_score\n",
              "3   {'C': 5.655877570891539}         0.797580        0.002167                1\n",
              "2   {'C': 3.198895109691398}         0.796351        0.002698                2\n",
              "0   {'C': 1.023292992280754}         0.795799        0.004996                3\n",
              "4                {'C': 10.0}         0.795768        0.005053                4\n",
              "1  {'C': 1.8092559102538208}         0.794539        0.004864                5"
            ]
          },
          "metadata": {
            "tags": []
          },
          "execution_count": 154
        }
      ]
    },
    {
      "cell_type": "markdown",
      "metadata": {
        "id": "BbFYRotKGEBT"
      },
      "source": [
        "### Обучите теперь модель Random forest на этих же данных\r\n",
        "random_state возьмите 17 и число деревьев 100. Какая точность получилась?"
      ]
    },
    {
      "cell_type": "code",
      "metadata": {
        "colab": {
          "base_uri": "https://localhost:8080/"
        },
        "id": "5-vrxkPfFxGs",
        "outputId": "b526f7bd-1649-4591-9d88-7e04ba4a93ec"
      },
      "source": [
        "from sklearn.ensemble import RandomForestClassifier\r\n",
        "forest = RandomForestClassifier(random_state=17)          \r\n",
        "forest = forest.fit(X_train, y_train)\r\n",
        "final_pred = forest.predict(X_test)\r\n",
        "rocauc = roc_auc_score(y_test, final_pred)\r\n",
        "acc = accuracy_score(y_test, final_pred)\r\n",
        "print(\"%.2f\" % rocauc)\r\n",
        "print(\"%.2f\" % acc)"
      ],
      "execution_count": 157,
      "outputs": [
        {
          "output_type": "stream",
          "text": [
            "0.76\n",
            "0.86\n"
          ],
          "name": "stdout"
        }
      ]
    },
    {
      "cell_type": "markdown",
      "metadata": {
        "id": "Wp2LjwABIbg3"
      },
      "source": [
        "### Из обученной модели возьмите feature importance\r\n",
        "Перечислите важность признаков в порядке убывания."
      ]
    },
    {
      "cell_type": "code",
      "metadata": {
        "colab": {
          "base_uri": "https://localhost:8080/"
        },
        "id": "dwEFN-rRH1_B",
        "outputId": "7a0f8986-2ee2-48e0-f0e4-0677d66f027b"
      },
      "source": [
        "from sklearn.feature_selection import SelectKBest, VarianceThreshold, SelectFromModel, chi2\r\n",
        "kbest = SelectKBest(chi2, k=2)\r\n",
        "kbest.fit_transform(X_train, y_train)"
      ],
      "execution_count": 197,
      "outputs": [
        {
          "output_type": "execute_result",
          "data": {
            "text/plain": [
              "array([[ 2174,     0],\n",
              "       [    0,     0],\n",
              "       [    0,     0],\n",
              "       ...,\n",
              "       [    0,     0],\n",
              "       [    0,     0],\n",
              "       [15024,     0]])"
            ]
          },
          "metadata": {
            "tags": []
          },
          "execution_count": 197
        }
      ]
    },
    {
      "cell_type": "code",
      "metadata": {
        "id": "L19gqFWuLcJI"
      },
      "source": [
        "mask = kbest.get_support()\r\n",
        "feature_names = list(X_train.columns.values)\r\n",
        "new_features = []\r\n",
        "for bool, feature in zip(mask, feature_names):\r\n",
        "    if bool:\r\n",
        "        new_features.append(feature)"
      ],
      "execution_count": 185,
      "outputs": []
    },
    {
      "cell_type": "code",
      "metadata": {
        "colab": {
          "base_uri": "https://localhost:8080/"
        },
        "id": "AIMMgu4kLlb9",
        "outputId": "2b7dcc9f-5185-4fff-cffd-2aae373206f1"
      },
      "source": [
        "#3 и 4 колонки выдает мне селект-к-бест, такого ответа нет в списке\r\n",
        "new_features"
      ],
      "execution_count": 187,
      "outputs": [
        {
          "output_type": "execute_result",
          "data": {
            "text/plain": [
              "['Capital_Gain', 'Capital_Loss']"
            ]
          },
          "metadata": {
            "tags": []
          },
          "execution_count": 187
        }
      ]
    },
    {
      "cell_type": "code",
      "metadata": {
        "colab": {
          "base_uri": "https://localhost:8080/"
        },
        "id": "8V6bnxxRM8m0",
        "outputId": "01afc7c5-6f17-4473-9a45-98821f342145"
      },
      "source": [
        "vthres = VarianceThreshold(.8 * (1 - .8))\r\n",
        "vthres.fit_transform(X_train, y_train)"
      ],
      "execution_count": 193,
      "outputs": [
        {
          "output_type": "execute_result",
          "data": {
            "text/plain": [
              "array([[    39,  77516,     13, ...,      1,      0,      1],\n",
              "       [    50,  83311,     13, ...,      0,      0,      1],\n",
              "       [    38, 215646,      9, ...,      1,      0,      1],\n",
              "       ...,\n",
              "       [    58, 151910,      9, ...,      0,      1,      0],\n",
              "       [    22, 201490,      9, ...,      0,      0,      1],\n",
              "       [    52, 287927,      9, ...,      0,      1,      0]])"
            ]
          },
          "metadata": {
            "tags": []
          },
          "execution_count": 193
        }
      ]
    },
    {
      "cell_type": "code",
      "metadata": {
        "id": "uyuJEQy1NTNE"
      },
      "source": [
        "mask = vthres.get_support()\r\n",
        "new_features = []\r\n",
        "for bool, feature in zip(mask, feature_names):\r\n",
        "    if bool:\r\n",
        "        new_features.append(feature)"
      ],
      "execution_count": 194,
      "outputs": []
    },
    {
      "cell_type": "code",
      "metadata": {
        "colab": {
          "base_uri": "https://localhost:8080/"
        },
        "id": "fXlWTR_bNY3w",
        "outputId": "f7f10295-f055-4864-a194-91bc93395d13"
      },
      "source": [
        "#и здесь тоже нет правильного ответа\r\n",
        "new_features"
      ],
      "execution_count": 195,
      "outputs": [
        {
          "output_type": "execute_result",
          "data": {
            "text/plain": [
              "['Age',\n",
              " 'fnlwgt',\n",
              " 'Education_Num',\n",
              " 'Capital_Gain',\n",
              " 'Capital_Loss',\n",
              " 'Hours_per_week',\n",
              " 'Workclass_ Private',\n",
              " 'Education_ HS-grad',\n",
              " 'Education_ Some-college',\n",
              " 'Martial_Status_ Married-civ-spouse',\n",
              " 'Martial_Status_ Never-married',\n",
              " 'Relationship_ Husband',\n",
              " 'Relationship_ Not-in-family',\n",
              " 'Sex_ Female',\n",
              " 'Sex_ Male']"
            ]
          },
          "metadata": {
            "tags": []
          },
          "execution_count": 195
        }
      ]
    },
    {
      "cell_type": "code",
      "metadata": {
        "colab": {
          "base_uri": "https://localhost:8080/"
        },
        "id": "mZf5GuG9OTQY",
        "outputId": "47cf7c0e-b98c-4da5-fe4f-20e0040b0a28"
      },
      "source": [
        "model_forest = SelectFromModel(forest, prefit=True)\r\n",
        "model_forest.transform(X_train)"
      ],
      "execution_count": 199,
      "outputs": [
        {
          "output_type": "execute_result",
          "data": {
            "text/plain": [
              "array([[    39,  77516,     13, ...,      1,      0,      0],\n",
              "       [    50,  83311,     13, ...,      0,      0,      0],\n",
              "       [    38, 215646,      9, ...,      1,      0,      0],\n",
              "       ...,\n",
              "       [    58, 151910,      9, ...,      0,      0,      1],\n",
              "       [    22, 201490,      9, ...,      0,      0,      0],\n",
              "       [    52, 287927,      9, ...,      0,      1,      1]])"
            ]
          },
          "metadata": {
            "tags": []
          },
          "execution_count": 199
        }
      ]
    },
    {
      "cell_type": "code",
      "metadata": {
        "id": "ktVr7GmyOdAf"
      },
      "source": [
        "mask = model_forest.get_support()\r\n",
        "new_features = []\r\n",
        "for bool, feature in zip(mask, feature_names):\r\n",
        "    if bool:\r\n",
        "        new_features.append(feature)"
      ],
      "execution_count": 202,
      "outputs": []
    },
    {
      "cell_type": "code",
      "metadata": {
        "id": "7OCNtCJ2OqyX",
        "outputId": "ca6d9955-aa87-41c2-ee2a-a6602bc0e6fe",
        "colab": {
          "base_uri": "https://localhost:8080/"
        }
      },
      "source": [
        "# почти то же, что и с порогом\r\n",
        "new_features"
      ],
      "execution_count": 203,
      "outputs": [
        {
          "output_type": "execute_result",
          "data": {
            "text/plain": [
              "['Age',\n",
              " 'fnlwgt',\n",
              " 'Education_Num',\n",
              " 'Capital_Gain',\n",
              " 'Capital_Loss',\n",
              " 'Hours_per_week',\n",
              " 'Workclass_ Private',\n",
              " 'Education_ Bachelors',\n",
              " 'Martial_Status_ Married-civ-spouse',\n",
              " 'Martial_Status_ Never-married',\n",
              " 'Occupation_ Exec-managerial',\n",
              " 'Occupation_ Prof-specialty',\n",
              " 'Relationship_ Husband',\n",
              " 'Relationship_ Not-in-family',\n",
              " 'Relationship_ Wife',\n",
              " 'Sex_ Female']"
            ]
          },
          "metadata": {
            "tags": []
          },
          "execution_count": 203
        }
      ]
    }
  ]
}