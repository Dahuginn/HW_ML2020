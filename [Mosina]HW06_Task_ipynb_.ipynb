{
  "nbformat": 4,
  "nbformat_minor": 0,
  "metadata": {
    "kernelspec": {
      "name": "python3",
      "display_name": "Python 3"
    },
    "colab": {
      "name": "[Mosina]HW06_Task.ipynb\"",
      "provenance": [],
      "collapsed_sections": []
    }
  },
  "cells": [
    {
      "cell_type": "markdown",
      "metadata": {
        "Collapsed": "false",
        "id": "uJM7YfcxLXYp"
      },
      "source": [
        "# Задание 6. GLM"
      ]
    },
    {
      "cell_type": "code",
      "metadata": {
        "Collapsed": "false",
        "id": "22ok2LXULXYq"
      },
      "source": [
        "import numpy as np\n",
        "import matplotlib.pyplot as plt\n",
        "from scipy import optimize\n",
        "import scipy.stats as sts\n",
        "import pandas as pd\n",
        "import seaborn as sns\n",
        "import warnings\n",
        "warnings.filterwarnings(\"ignore\")\n",
        "%matplotlib inline"
      ],
      "execution_count": null,
      "outputs": []
    },
    {
      "cell_type": "code",
      "metadata": {
        "id": "x5mMJYa1HJX5"
      },
      "source": [
        "!pip install -U scikit-learn"
      ],
      "execution_count": null,
      "outputs": []
    },
    {
      "cell_type": "code",
      "metadata": {
        "Collapsed": "false",
        "id": "dvaquXiHLXYt"
      },
      "source": [
        "from sklearn.linear_model import LogisticRegression, TweedieRegressor, PoissonRegressor"
      ],
      "execution_count": null,
      "outputs": []
    },
    {
      "cell_type": "code",
      "metadata": {
        "id": "ozmawbn5NPVT",
        "colab": {
          "base_uri": "https://localhost:8080/",
          "height": 35
        },
        "outputId": "545d58a7-174d-4218-90aa-f902577267d7"
      },
      "source": [
        "import sklearn\n",
        "ver = sklearn.__version__\n",
        "ver"
      ],
      "execution_count": null,
      "outputs": [
        {
          "output_type": "execute_result",
          "data": {
            "application/vnd.google.colaboratory.intrinsic+json": {
              "type": "string"
            },
            "text/plain": [
              "'0.23.2'"
            ]
          },
          "metadata": {
            "tags": []
          },
          "execution_count": 42
        }
      ]
    },
    {
      "cell_type": "markdown",
      "metadata": {
        "Collapsed": "false",
        "id": "uYRHv2fELXYv"
      },
      "source": [
        "## Задание 0. Написать своими словами про максимальное правдоподобие и GLM. \n"
      ]
    },
    {
      "cell_type": "markdown",
      "metadata": {
        "id": "E9hPk5LTEWkJ"
      },
      "source": [
        "#### Максимальное правдоподобие"
      ]
    },
    {
      "cell_type": "markdown",
      "metadata": {
        "id": "Y8tAN-DIXdC5"
      },
      "source": [
        "До этого оценивали параметры модели, минимизируя среднеквадратическую ошибку, но можно еще это сделать, максимизируя правдоподобие данных. Цель максимального правдоподобия - сделать так, чтобы наша модель максимально соответствовала той или иной модели распределения. То есть мы пытаемся привести наши данные к виду какого-то распределения (гамма, твиди, Пуассона, Бернулли...). Накладываем модель распределения на наши данные, передвигаем её (с помощью параметров, которые мы максимизируем) и смотрим, при каком положении есть максимальная вероятность наблюдать наши данные. "
      ]
    },
    {
      "cell_type": "markdown",
      "metadata": {
        "id": "RLzDE9aoYMAu"
      },
      "source": [
        "#### GLM"
      ]
    },
    {
      "cell_type": "markdown",
      "metadata": {
        "id": "xKkTDw4EYOW_"
      },
      "source": [
        "Линейная регрессия предполагает, что выход распределяется по Гауссу - но в случае с датасетом breast_cancer мы получаем категории (malignant-benign) и др. GLM как бы дополняет линейную регрессию, чтобы можно было сделать модели, выход которых не может быть представлен гауссовым распределением. "
      ]
    },
    {
      "cell_type": "markdown",
      "metadata": {
        "Collapsed": "false",
        "id": "PJ9optVlLXYv"
      },
      "source": [
        "## Задание 1. Оценка моделей"
      ]
    },
    {
      "cell_type": "markdown",
      "metadata": {
        "id": "ZVzt97jOepie"
      },
      "source": [
        "### Third-party liability и распределение Пуассона, гамма-, твиди-распределения"
      ]
    },
    {
      "cell_type": "code",
      "metadata": {
        "id": "E7-8Jna4nTT3"
      },
      "source": [
        "from sklearn.datasets import fetch_openml\n",
        "liab_data = fetch_openml(data_id=41214, as_frame=True).frame"
      ],
      "execution_count": null,
      "outputs": []
    },
    {
      "cell_type": "code",
      "metadata": {
        "id": "BFrcclg_LfoP"
      },
      "source": [
        "sns.pairplot(liab_data)"
      ],
      "execution_count": null,
      "outputs": []
    },
    {
      "cell_type": "markdown",
      "metadata": {
        "id": "xLNy2_P_K1QH"
      },
      "source": [
        "Нужно предсказывать Pure Premium (Твиди) - сумма, которую страховщик должен выплатить застрахованному лицу на единицу Exposure. Для этого предсказывать частоту обращений (Пуассон) * средняя сумма выплаты на обращение (Гамма)"
      ]
    },
    {
      "cell_type": "markdown",
      "metadata": {
        "id": "dczpwKoDtQXu"
      },
      "source": [
        "Количество обращений застрахованного (ClaimNb) лица принимает целочесленные значения, можем использовать распределение Пуассона - когда события происходят независимо друг от друга, с определенной интенсивностью за определенный промежуток времени (Exposure)"
      ]
    },
    {
      "cell_type": "markdown",
      "metadata": {
        "id": "VSPJa8cpu_Ul"
      },
      "source": [
        "Добавим столбец частоты обращений - количество обращений на срок до окончания страховки"
      ]
    },
    {
      "cell_type": "code",
      "metadata": {
        "id": "LXDWPz6ru2yg"
      },
      "source": [
        "liab_data[\"Frequency\"] = liab_data[\"ClaimNb\"] / liab_data[\"Exposure\"]"
      ],
      "execution_count": null,
      "outputs": []
    },
    {
      "cell_type": "code",
      "metadata": {
        "id": "3MmaY09h6R2K",
        "colab": {
          "base_uri": "https://localhost:8080/",
          "height": 281
        },
        "outputId": "93c5ec0c-cd62-4cab-d223-213007854aca"
      },
      "source": [
        "fig, (ax0, ax1, ax2) = plt.subplots(ncols=3, figsize=(16, 4))\n",
        "ax0.set_title(\"Number of claims\")\n",
        "_ = liab_data[\"ClaimNb\"].hist(bins=30, log=True, ax=ax0)\n",
        "ax1.set_title(\"Exposure in years\")\n",
        "_ = liab_data[\"Exposure\"].hist(bins=30, log=True, ax=ax1)\n",
        "ax2.set_title(\"Frequency (number of claims per year)\")\n",
        "_ = liab_data[\"Frequency\"].hist(bins=30, log=True, ax=ax2)"
      ],
      "execution_count": null,
      "outputs": [
        {
          "output_type": "display_data",
          "data": {
            "image/png": "[encoded data removed]",
            "text/plain": [
              "<Figure size 1152x288 with 3 Axes>"
            ]
          },
          "metadata": {
            "tags": [],
            "needs_background": "light"
          }
        }
      ]
    },
    {
      "cell_type": "code",
      "metadata": {
        "id": "uQUBrH6iDS7n"
      },
      "source": [
        "from sklearn.pipeline import make_pipeline\n",
        "from sklearn.preprocessing import FunctionTransformer, OneHotEncoder\n",
        "from sklearn.preprocessing import StandardScaler, KBinsDiscretizer\n",
        "from sklearn.compose import ColumnTransformer\n",
        "\n",
        "#нужно сделать так, чтобы значения всех остальных колонок (не Exposure, Frequency, ClaimNb) были float (иначе ошибка в след. блоке кода)\n",
        "log_scale_transformer = make_pipeline(\n",
        "    FunctionTransformer(np.log, validate=False),\n",
        "    StandardScaler()\n",
        ")\n",
        "\n",
        "linear_model_preprocessor = ColumnTransformer(\n",
        "    [\n",
        "        (\"passthrough_numeric\", \"passthrough\",\n",
        "            [\"BonusMalus\"]),\n",
        "        (\"binned_numeric\", KBinsDiscretizer(n_bins=10),\n",
        "            [\"VehAge\", \"DrivAge\"]),\n",
        "        (\"log_scaled_numeric\", log_scale_transformer,\n",
        "            [\"Density\"]),\n",
        "        (\"onehot_categorical\", OneHotEncoder(),\n",
        "            [\"VehBrand\", \"VehPower\", \"VehGas\", \"Region\", \"Area\"]),\n",
        "    ],\n",
        "    remainder=\"drop\",\n",
        ")"
      ],
      "execution_count": null,
      "outputs": []
    },
    {
      "cell_type": "code",
      "metadata": {
        "id": "L5DMaK6N8KnM",
        "colab": {
          "base_uri": "https://localhost:8080/",
          "height": 336
        },
        "outputId": "b5af0bf1-66cb-4c75-a13e-d5958ae5eb09"
      },
      "source": [
        "# получаем трейнинг сет для пуассона\n",
        "liab_data_train, liab_data_test = sklearn.model_selection.train_test_split(liab_data, test_size=0.33, random_state=0)\n",
        "poisson_glm = sklearn.pipeline.Pipeline([\n",
        "    (\"preprocessor\", linear_model_preprocessor),\n",
        "    (\"regressor\", PoissonRegressor(alpha=1e-12, max_iter=300))\n",
        "])\n",
        "poisson_glm.fit(liab_data_train, liab_data_train[\"Frequency\"],\n",
        "                regressor__sample_weight=liab_data_train[\"Exposure\"])"
      ],
      "execution_count": null,
      "outputs": [
        {
          "output_type": "execute_result",
          "data": {
            "text/plain": [
              "Pipeline(steps=[('preprocessor',\n",
              "                 ColumnTransformer(transformers=[('passthrough_numeric',\n",
              "                                                  'passthrough',\n",
              "                                                  ['BonusMalus']),\n",
              "                                                 ('binned_numeric',\n",
              "                                                  KBinsDiscretizer(n_bins=10),\n",
              "                                                  ['VehAge', 'DrivAge']),\n",
              "                                                 ('log_scaled_numeric',\n",
              "                                                  Pipeline(steps=[('functiontransformer',\n",
              "                                                                   FunctionTransformer(func=<ufunc 'log'>)),\n",
              "                                                                  ('standardscaler',\n",
              "                                                                   StandardScaler())]),\n",
              "                                                  ['Density']),\n",
              "                                                 ('onehot_categorical',\n",
              "                                                  OneHotEncoder(),\n",
              "                                                  ['VehBrand', 'VehPower',\n",
              "                                                   'VehGas', 'Region',\n",
              "                                                   'Area'])])),\n",
              "                ('regressor', PoissonRegressor(alpha=1e-12, max_iter=300))])"
            ]
          },
          "metadata": {
            "tags": []
          },
          "execution_count": 123
        }
      ]
    },
    {
      "cell_type": "code",
      "metadata": {
        "id": "jB6bg4JvJwbe"
      },
      "source": [
        "predicted = poisson_glm.predict(liab_data_train)"
      ],
      "execution_count": null,
      "outputs": []
    },
    {
      "cell_type": "markdown",
      "metadata": {
        "id": "FjRBKHBdYqY1"
      },
      "source": [
        "???? Как оценить модель?? Так же, как линейную регрессию?"
      ]
    },
    {
      "cell_type": "markdown",
      "metadata": {
        "Collapsed": "false",
        "id": "rWmIqaZfLXYw"
      },
      "source": [
        "## Задание 2.  Найти на каггле датасеты, для разных семейств  GLM моделей"
      ]
    },
    {
      "cell_type": "markdown",
      "metadata": {
        "id": "gkKWh9klNJi0"
      },
      "source": [
        "1. https://www.kaggle.com/c/bike-sharing-demand/data - Пуассон. \"You must predict the total count of bikes rented during each hour covered by the test set, using only information available prior to the rental period\" - нужно предсказать целочисленное неотрицательное значение.\n",
        "2. https://www.kaggle.com/anmolkumar/health-insurance-cross-sell-prediction - Биномиальное. \"whether the customer would be interested in Vehicle insurance\" - два варианта выхода, заинтересован или нет.\n",
        "3. https://www.kaggle.com/rajanand/rainfall-in-india - Гамма. Можно предсказать, какое количество дождя выпадет за месяц в определенный сезон - если Гамма-распределение рассматривать как время между распределенными по Пуассону событиями\n",
        "4. См. выше - Твиди. Предсказывать общее количество осадков за год - Пуассон * Гамма."
      ]
    }
  ]
}