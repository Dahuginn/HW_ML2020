{
  "nbformat": 4,
  "nbformat_minor": 0,
  "metadata": {
    "kernelspec": {
      "display_name": "Python 3",
      "language": "python",
      "name": "python3"
    },
    "language_info": {
      "codemirror_mode": {
        "name": "ipython",
        "version": 3
      },
      "file_extension": ".py",
      "mimetype": "text/x-python",
      "name": "python",
      "nbconvert_exporter": "python",
      "pygments_lexer": "ipython3",
      "version": "3.7.6"
    },
    "colab": {
      "name": "[Mosina]11_HWSpamClassification.ipynb",
      "provenance": [],
      "collapsed_sections": []
    }
  },
  "cells": [
    {
      "cell_type": "code",
      "metadata": {
        "id": "LHdDBUpeBU9g"
      },
      "source": [
        "import numpy as np\n",
        "import pandas as pd\n",
        "from sklearn.feature_extraction.text import CountVectorizer\n",
        "import matplotlib.pyplot as plt\n",
        "from sklearn.model_selection import cross_val_score, train_test_split\n",
        "from sklearn.pipeline import Pipeline, make_pipeline\n",
        "from  sklearn.naive_bayes import MultinomialNB\n",
        "from sklearn.linear_model import LogisticRegression\n",
        "from sklearn.svm import LinearSVC\n",
        "from sklearn.feature_extraction.text import TfidfTransformer, CountVectorizer\n",
        "from sklearn.model_selection import GridSearchCV"
      ],
      "execution_count": null,
      "outputs": []
    },
    {
      "cell_type": "markdown",
      "metadata": {
        "Collapsed": "false",
        "id": "TWVwHA8lMnsK"
      },
      "source": [
        "# Выявление спама"
      ]
    },
    {
      "cell_type": "code",
      "metadata": {
        "id": "xNnziFk2P8uX"
      },
      "source": [
        "import numpy as np\n",
        "import pandas as pd"
      ],
      "execution_count": null,
      "outputs": []
    },
    {
      "cell_type": "code",
      "metadata": {
        "id": "xr3RovQWaAi5"
      },
      "source": [
        "!pip install PyDrive"
      ],
      "execution_count": null,
      "outputs": []
    },
    {
      "cell_type": "code",
      "metadata": {
        "id": "kOs636JVaGpY"
      },
      "source": [
        "from pydrive.auth import GoogleAuth\n",
        "from pydrive.drive import GoogleDrive\n",
        "from google.colab import auth\n",
        "from oauth2client.client import GoogleCredentials"
      ],
      "execution_count": null,
      "outputs": []
    },
    {
      "cell_type": "code",
      "metadata": {
        "id": "x_XnxnNDaP5I"
      },
      "source": [
        "auth.authenticate_user()\n",
        "gauth = GoogleAuth()\n",
        "gauth.credentials = GoogleCredentials.get_application_default()\n",
        "drive = GoogleDrive(gauth)"
      ],
      "execution_count": null,
      "outputs": []
    },
    {
      "cell_type": "code",
      "metadata": {
        "id": "9znD7iRfaXmp"
      },
      "source": [
        "data = drive.CreateFile({'id':\"14aKUK159J9M49WiNThyhpr39LxT7w0Wo\"})\n",
        "data.GetContentFile('SMSSpamCollection.txt')"
      ],
      "execution_count": null,
      "outputs": []
    },
    {
      "cell_type": "code",
      "metadata": {
        "id": "TsNBF41QiT0Y"
      },
      "source": [
        "with open('SMSSpamCollection.txt', 'r') as file:\n",
        "    data = file.read().splitlines()"
      ],
      "execution_count": null,
      "outputs": []
    },
    {
      "cell_type": "code",
      "metadata": {
        "id": "hJ_QCNOs9ceg",
        "colab": {
          "base_uri": "https://localhost:8080/"
        },
        "outputId": "03188f9b-d367-41d2-cabb-ba766baa7f7c"
      },
      "source": [
        "data[0:5]"
      ],
      "execution_count": null,
      "outputs": [
        {
          "output_type": "execute_result",
          "data": {
            "text/plain": [
              "['ham\\tGo until jurong point, crazy.. Available only in bugis n great world la e buffet... Cine there got amore wat...',\n",
              " 'ham\\tOk lar... Joking wif u oni...',\n",
              " \"spam\\tFree entry in 2 a wkly comp to win FA Cup final tkts 21st May 2005. Text FA to 87121 to receive entry question(std txt rate)T&C's apply 08452810075over18's\",\n",
              " 'ham\\tU dun say so early hor... U c already then say...',\n",
              " \"ham\\tNah I don't think he goes to usf, he lives around here though\"]"
            ]
          },
          "metadata": {
            "tags": []
          },
          "execution_count": 41
        }
      ]
    },
    {
      "cell_type": "markdown",
      "metadata": {
        "id": "WcfJOX_mBjVu"
      },
      "source": [
        "## Список меток и список текстов"
      ]
    },
    {
      "cell_type": "code",
      "metadata": {
        "id": "TWFDaSHTqgTp"
      },
      "source": [
        "#разделяем на два списка: меток и текстов\n",
        "labels, texts = zip(*[line.split('\\t') for line in data])\n",
        "#1 - спам, 0 - не спам\n",
        "num_labels = np.array([0 if x=='ham' else 1 for x in labels])"
      ],
      "execution_count": null,
      "outputs": []
    },
    {
      "cell_type": "code",
      "metadata": {
        "id": "pZJZ8-tQBy03"
      },
      "source": [
        "print(labels[0:5])\n",
        "print(num_labels[0:5])\n",
        "print(texts[0:5])"
      ],
      "execution_count": null,
      "outputs": []
    },
    {
      "cell_type": "markdown",
      "metadata": {
        "id": "kPHXGZExKa-9"
      },
      "source": [
        "##Логистическая регрессия"
      ]
    },
    {
      "cell_type": "markdown",
      "metadata": {
        "id": "C9zw7av2lGLy"
      },
      "source": [
        "Разобъем выборку на трейн и тест"
      ]
    },
    {
      "cell_type": "code",
      "metadata": {
        "id": "3lflt3ellFR0"
      },
      "source": [
        "text_train, text_val, y_train, y_val = train_test_split(texts, num_labels,  random_state=0)"
      ],
      "execution_count": null,
      "outputs": []
    },
    {
      "cell_type": "markdown",
      "metadata": {
        "id": "mVbQRy0vBoL1"
      },
      "source": [
        "Обучим логистическую регрессию + в векторайзере отфильтруем слова общей лексики"
      ]
    },
    {
      "cell_type": "code",
      "metadata": {
        "id": "7YnUhgsfNRa2"
      },
      "source": [
        "vect = CountVectorizer(stop_words='english')\n",
        "X_train = vect.fit_transform(text_train)\n",
        "X_val = vect.transform(text_val)"
      ],
      "execution_count": null,
      "outputs": []
    },
    {
      "cell_type": "code",
      "metadata": {
        "id": "DkfULBoMKae3",
        "colab": {
          "base_uri": "https://localhost:8080/"
        },
        "outputId": "d8c6232d-40e3-4f2b-c986-a29be39c03cb"
      },
      "source": [
        "lr = LogisticRegression().fit(X_train, y_train)\n",
        "print(f\"Качество на обучении {lr.score(X_train, y_train)}: и на валидации: {lr.score(X_val, y_val)}\")"
      ],
      "execution_count": null,
      "outputs": [
        {
          "output_type": "stream",
          "text": [
            "Качество на обучении 0.9956937799043062: и на валидации: 0.9770444763271162\n"
          ],
          "name": "stdout"
        }
      ]
    },
    {
      "cell_type": "code",
      "metadata": {
        "id": "3hT67mdNOMpU"
      },
      "source": [
        "def visualize_coefficients(classifier, feature_names, n_top_features=25):\n",
        "    # get coefficients with large absolute values \n",
        "    coef = classifier.coef_.ravel()\n",
        "    positive_coefficients = np.argsort(coef)[-n_top_features:]\n",
        "    negative_coefficients = np.argsort(coef)[:n_top_features]\n",
        "    interesting_coefficients = np.hstack([negative_coefficients, positive_coefficients])\n",
        "    # plot them\n",
        "    plt.figure(figsize=(15, 5))\n",
        "    colors = [\"red\" if c < 0 else \"blue\" for c in coef[interesting_coefficients]]\n",
        "    plt.bar(np.arange(2 * n_top_features), coef[interesting_coefficients], color=colors)\n",
        "    feature_names = np.array(feature_names)\n",
        "    plt.xticks(np.arange(1, 1 + 2 * n_top_features), feature_names[interesting_coefficients], rotation=60, ha=\"right\");"
      ],
      "execution_count": null,
      "outputs": []
    },
    {
      "cell_type": "code",
      "metadata": {
        "id": "mTmTw399OSQ-",
        "colab": {
          "base_uri": "https://localhost:8080/",
          "height": 354
        },
        "outputId": "1d949b48-ca1f-4741-820c-43b1c283123c"
      },
      "source": [
        "visualize_coefficients(lr, vect.get_feature_names(), n_top_features=15)"
      ],
      "execution_count": null,
      "outputs": [
        {
          "output_type": "display_data",
          "data": {
            "image/png": "[encoded data removed]",
            "text/plain": [
              "<Figure size 1080x360 with 1 Axes>"
            ]
          },
          "metadata": {
            "tags": [],
            "needs_background": "light"
          }
        }
      ]
    },
    {
      "cell_type": "markdown",
      "metadata": {
        "id": "C0S_MqGZg8VZ"
      },
      "source": [
        "## Пайплайны для выбора моделей"
      ]
    },
    {
      "cell_type": "markdown",
      "metadata": {
        "id": "A5vCfolyxvuB"
      },
      "source": [
        "Cделаем пайплайн, в котором будем перебирать эстиматоры и гиперпараметры."
      ]
    },
    {
      "cell_type": "code",
      "metadata": {
        "id": "1ofvcFzSiK8y"
      },
      "source": [
        "pipe =  Pipeline([(\"vectorizer\", CountVectorizer()),\n",
        "                  (\"transformer\", TfidfTransformer()),\n",
        "                  (\"classifier\", LogisticRegression())])"
      ],
      "execution_count": null,
      "outputs": []
    },
    {
      "cell_type": "code",
      "metadata": {
        "id": "H95xJn3LoxhT"
      },
      "source": [
        "param_grid = [{'vectorizer': [CountVectorizer(stop_words='english')], \n",
        "               'vectorizer__ngram_range': [(1, 1), (1, 2), (2, 2)], \n",
        "               'vectorizer__analyzer': ['word', 'char', 'char_wb'],\n",
        "               'transformer': [TfidfTransformer()], \n",
        "               'classifier': [LogisticRegression()],\n",
        "               'classifier__C': np.logspace(0.01, 1, 5)},\n",
        "              {'vectorizer': [CountVectorizer(stop_words='english')], \n",
        "               'vectorizer__ngram_range': [(1, 1), (1, 2), (2, 2)], \n",
        "               'vectorizer__analyzer': ['word', 'char', 'char_wb'],\n",
        "               'transformer': [TfidfTransformer()], \n",
        "               'classifier': [LinearSVC()],\n",
        "               'classifier__C': np.logspace(0.01, 1, 5)},\n",
        "              {'vectorizer': [CountVectorizer(stop_words='english')], \n",
        "               'vectorizer__ngram_range': [(1, 1), (1, 2), (2, 2)],\n",
        "               'vectorizer__analyzer': ['word', 'char', 'char_wb'],\n",
        "               'transformer': [None], \n",
        "               'classifier': [MultinomialNB()],\n",
        "               'classifier__alpha': np.linspace(0.01, 1, 5),\n",
        "               }]"
      ],
      "execution_count": null,
      "outputs": []
    },
    {
      "cell_type": "markdown",
      "metadata": {
        "id": "q-026Ibmx3Uw"
      },
      "source": [
        "Кроссвалидация:"
      ]
    },
    {
      "cell_type": "code",
      "metadata": {
        "id": "s8hKEQtBumYB"
      },
      "source": [
        "grid = GridSearchCV(pipe, param_grid, cv=5)\n",
        "grid.fit(text_train, y_train)"
      ],
      "execution_count": null,
      "outputs": []
    },
    {
      "cell_type": "markdown",
      "metadata": {
        "id": "XRb_qJQ9x6Tm"
      },
      "source": [
        "LinearSVC даёт лучший скор:"
      ]
    },
    {
      "cell_type": "code",
      "metadata": {
        "id": "bvvXpfTXxdgI",
        "colab": {
          "base_uri": "https://localhost:8080/"
        },
        "outputId": "0ad3c66a-91c9-40fc-90b9-8903e8e7a21e"
      },
      "source": [
        "print(\"Best params:\\n{}\\n\".format(grid.best_params_))\n",
        "print(\"Best cross-validation score: {:.2f}\".format(grid.best_score_))\n",
        "print(\"Test-set score: {:.2f}\".format(grid.score(text_val, y_val)))"
      ],
      "execution_count": null,
      "outputs": [
        {
          "output_type": "stream",
          "text": [
            "Best params:\n",
            "{'classifier': LinearSVC(C=3.198895109691398, class_weight=None, dual=True, fit_intercept=True,\n",
            "          intercept_scaling=1, loss='squared_hinge', max_iter=1000,\n",
            "          multi_class='ovr', penalty='l2', random_state=None, tol=0.0001,\n",
            "          verbose=0), 'classifier__C': 3.198895109691398, 'transformer': TfidfTransformer(norm='l2', smooth_idf=True, sublinear_tf=False, use_idf=True), 'vectorizer': CountVectorizer(analyzer='char', binary=False, decode_error='strict',\n",
            "                dtype=<class 'numpy.int64'>, encoding='utf-8', input='content',\n",
            "                lowercase=True, max_df=1.0, max_features=None, min_df=1,\n",
            "                ngram_range=(1, 2), preprocessor=None, stop_words='english',\n",
            "                strip_accents=None, token_pattern='(?u)\\\\b\\\\w\\\\w+\\\\b',\n",
            "                tokenizer=None, vocabulary=None), 'vectorizer__analyzer': 'char', 'vectorizer__ngram_range': (1, 2)}\n",
            "\n",
            "Best cross-validation score: 0.99\n",
            "Test-set score: 0.99\n"
          ],
          "name": "stdout"
        }
      ]
    },
    {
      "cell_type": "markdown",
      "metadata": {
        "id": "IQ-X76mmmzYQ"
      },
      "source": [
        "Визуализация с лучшими гиперпараметрами:"
      ]
    },
    {
      "cell_type": "code",
      "metadata": {
        "id": "4mmeyW-im3GG",
        "colab": {
          "base_uri": "https://localhost:8080/"
        },
        "outputId": "136fceb2-f3f8-41ae-c4b2-5265b9307b36"
      },
      "source": [
        "vect = CountVectorizer(ngram_range=(1, 2), stop_words='english', analyzer='char')\n",
        "X_train = vect.fit_transform(text_train)\n",
        "X_val = vect.transform(text_val)\n",
        "lrSVC = LinearSVC(C=3.198895109691398)\n",
        "lrSVC.fit(X_train, y_train)\n",
        "print(f\"Качество на обучении {lrSVC.score(X_train, y_train)}: и на валидации: {lrSVC.score(X_val, y_val)}\")"
      ],
      "execution_count": null,
      "outputs": [
        {
          "output_type": "stream",
          "text": [
            "Качество на обучении 1.0: и на валидации: 0.9849354375896701\n"
          ],
          "name": "stdout"
        },
        {
          "output_type": "stream",
          "text": [
            "/usr/local/lib/python3.6/dist-packages/sklearn/svm/_base.py:947: ConvergenceWarning: Liblinear failed to converge, increase the number of iterations.\n",
            "  \"the number of iterations.\", ConvergenceWarning)\n"
          ],
          "name": "stderr"
        }
      ]
    },
    {
      "cell_type": "code",
      "metadata": {
        "id": "_xPSkBIsm5sU",
        "colab": {
          "base_uri": "https://localhost:8080/",
          "height": 327
        },
        "outputId": "7eeb2c94-6e2b-41b8-e4b7-927d7accb281"
      },
      "source": [
        "visualize_coefficients(lrSVC, vect.get_feature_names(), n_top_features=15)"
      ],
      "execution_count": null,
      "outputs": [
        {
          "output_type": "display_data",
          "data": {
            "image/png": "[encoded data removed]",
            "text/plain": [
              "<Figure size 1080x360 with 1 Axes>"
            ]
          },
          "metadata": {
            "tags": [],
            "needs_background": "light"
          }
        }
      ]
    },
    {
      "cell_type": "markdown",
      "metadata": {
        "id": "G8Dhm-xrCCfG"
      },
      "source": [
        ""
      ]
    }
  ]
}