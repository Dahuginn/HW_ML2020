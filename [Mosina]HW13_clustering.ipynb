{
  "nbformat": 4,
  "nbformat_minor": 0,
  "metadata": {
    "kernelspec": {
      "display_name": "Python 3",
      "language": "python",
      "name": "python3"
    },
    "language_info": {
      "codemirror_mode": {
        "name": "ipython",
        "version": 3
      },
      "file_extension": ".py",
      "mimetype": "text/x-python",
      "name": "python",
      "nbconvert_exporter": "python",
      "pygments_lexer": "ipython3",
      "version": "3.7.6"
    },
    "colab": {
      "name": "Настя Мосина - HW13_clustering.ipynb",
      "provenance": []
    }
  },
  "cells": [
    {
      "cell_type": "markdown",
      "metadata": {
        "Collapsed": "false",
        "id": "VuZ2d4ZU1mVw"
      },
      "source": [
        "## Практика использования техники кластеризации"
      ]
    },
    {
      "cell_type": "markdown",
      "metadata": {
        "Collapsed": "false",
        "id": "mp6_5fmh1mVw"
      },
      "source": [
        "## Поиск тем в документах\n",
        "В sklearn есть dataset с новостными темами: ваша задача выявить эти темы. Данные размечены, но использовать ответы можно только для оценки качества. Можно использовать tfidf, count vectorizer, а можно обученные эмбеддинги для слов. Тьюториал как это делать\n",
        "\n",
        "https://medium.com/analytics-vidhya/basics-of-using-pre-trained-glove-vectors-in-python-d38905f356db"
      ]
    },
    {
      "cell_type": "markdown",
      "metadata": {
        "id": "CSyuy7gd1sBH"
      },
      "source": [
        "Использовать crosstab для наглядности"
      ]
    },
    {
      "cell_type": "code",
      "metadata": {
        "Collapsed": "false",
        "id": "66PSCkem1mVw"
      },
      "source": [
        "from sklearn.datasets import fetch_20newsgroups"
      ],
      "execution_count": 1,
      "outputs": []
    },
    {
      "cell_type": "code",
      "metadata": {
        "Collapsed": "false",
        "id": "GFxTC09L1mVx",
        "colab": {
          "base_uri": "https://localhost:8080/"
        },
        "outputId": "00b08071-ac36-4a93-d5e1-8254f8d7ffee"
      },
      "source": [
        "dataset = fetch_20newsgroups(subset='all', shuffle=True, download_if_missing=True)\n",
        "\n",
        "texts = dataset.data # Extract text\n",
        "target = dataset.target # Extract target"
      ],
      "execution_count": 2,
      "outputs": [
        {
          "output_type": "stream",
          "text": [
            "Downloading 20news dataset. This may take a few minutes.\n",
            "Downloading dataset from https://ndownloader.figshare.com/files/5975967 (14 MB)\n"
          ],
          "name": "stderr"
        }
      ]
    },
    {
      "cell_type": "markdown",
      "metadata": {
        "Collapsed": "false",
        "id": "MVgIhW-11mVy"
      },
      "source": [
        "##  Кластеризация рукописных цифр"
      ]
    },
    {
      "cell_type": "code",
      "metadata": {
        "Collapsed": "false",
        "id": "FQFD2YmO1mVy"
      },
      "source": [
        "from sklearn.datasets import load_digits\n",
        "\n",
        "digits = load_digits()\n",
        "\n",
        "X, y = digits.data, digits.target"
      ],
      "execution_count": 3,
      "outputs": []
    }
  ]
}