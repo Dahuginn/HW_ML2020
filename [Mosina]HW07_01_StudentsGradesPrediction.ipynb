{
  "nbformat": 4,
  "nbformat_minor": 0,
  "metadata": {
    "colab": {
      "name": "[Mosina]HW07_01_StudentsGradesPrediction.ipynb",
      "provenance": [],
      "collapsed_sections": []
    },
    "kernelspec": {
      "name": "python3",
      "display_name": "Python 3"
    }
  },
  "cells": [
    {
      "cell_type": "markdown",
      "metadata": {
        "id": "cpkgtsVOmdxW"
      },
      "source": [
        "# Students Grade Prediction"
      ]
    },
    {
      "cell_type": "markdown",
      "metadata": {
        "id": "UOcvfRlCmz-G"
      },
      "source": [
        "В [датасете](https://archive.ics.uci.edu/ml/datasets/student+performance) собраны данные старшеклассников школ в Португалии. Таргет - G3, финальная оценка ученика - коррелирует с G1 и G2 (оценками за первый и второй год обучения). В описании датасета говорится, что гораздо полезнее (но сложнее) предсказывать G3 независимо от G1 и G2. G1, G2, G3 принимают значения от 0 до 20 баллов."
      ]
    },
    {
      "cell_type": "code",
      "metadata": {
        "id": "2SuN93WttmqM"
      },
      "source": [
        "import pandas as pd\n",
        "import seaborn as sns"
      ],
      "execution_count": null,
      "outputs": []
    },
    {
      "cell_type": "code",
      "metadata": {
        "id": "RHqkyX564NYr"
      },
      "source": [
        "data = pd.read_csv('student-mat.csv')"
      ],
      "execution_count": null,
      "outputs": []
    },
    {
      "cell_type": "code",
      "metadata": {
        "id": "lPT-WSTHtqed",
        "colab": {
          "base_uri": "https://localhost:8080/",
          "height": 215
        },
        "outputId": "f73271e3-e5a4-4b8f-e0dc-d90090d9874c"
      },
      "source": [
        "df = pd.DataFrame(data)\n",
        "df.head()"
      ],
      "execution_count": null,
      "outputs": [
        {
          "output_type": "execute_result",
          "data": {
            "text/html": [
              "<div>\n",
              "<style scoped>\n",
              "    .dataframe tbody tr th:only-of-type {\n",
              "        vertical-align: middle;\n",
              "    }\n",
              "\n",
              "    .dataframe tbody tr th {\n",
              "        vertical-align: top;\n",
              "    }\n",
              "\n",
              "    .dataframe thead th {\n",
              "        text-align: right;\n",
              "    }\n",
              "</style>\n",
              "<table border=\"1\" class=\"dataframe\">\n",
              "  <thead>\n",
              "    <tr style=\"text-align: right;\">\n",
              "      <th></th>\n",
              "      <th>school</th>\n",
              "      <th>sex</th>\n",
              "      <th>age</th>\n",
              "      <th>address</th>\n",
              "      <th>famsize</th>\n",
              "      <th>Pstatus</th>\n",
              "      <th>Medu</th>\n",
              "      <th>Fedu</th>\n",
              "      <th>Mjob</th>\n",
              "      <th>Fjob</th>\n",
              "      <th>reason</th>\n",
              "      <th>guardian</th>\n",
              "      <th>traveltime</th>\n",
              "      <th>studytime</th>\n",
              "      <th>failures</th>\n",
              "      <th>schoolsup</th>\n",
              "      <th>famsup</th>\n",
              "      <th>paid</th>\n",
              "      <th>activities</th>\n",
              "      <th>nursery</th>\n",
              "      <th>higher</th>\n",
              "      <th>internet</th>\n",
              "      <th>romantic</th>\n",
              "      <th>famrel</th>\n",
              "      <th>freetime</th>\n",
              "      <th>goout</th>\n",
              "      <th>Dalc</th>\n",
              "      <th>Walc</th>\n",
              "      <th>health</th>\n",
              "      <th>absences</th>\n",
              "      <th>G1</th>\n",
              "      <th>G2</th>\n",
              "      <th>G3</th>\n",
              "    </tr>\n",
              "  </thead>\n",
              "  <tbody>\n",
              "    <tr>\n",
              "      <th>0</th>\n",
              "      <td>GP</td>\n",
              "      <td>F</td>\n",
              "      <td>18</td>\n",
              "      <td>U</td>\n",
              "      <td>GT3</td>\n",
              "      <td>A</td>\n",
              "      <td>4</td>\n",
              "      <td>4</td>\n",
              "      <td>at_home</td>\n",
              "      <td>teacher</td>\n",
              "      <td>course</td>\n",
              "      <td>mother</td>\n",
              "      <td>2</td>\n",
              "      <td>2</td>\n",
              "      <td>0</td>\n",
              "      <td>yes</td>\n",
              "      <td>no</td>\n",
              "      <td>no</td>\n",
              "      <td>no</td>\n",
              "      <td>yes</td>\n",
              "      <td>yes</td>\n",
              "      <td>no</td>\n",
              "      <td>no</td>\n",
              "      <td>4</td>\n",
              "      <td>3</td>\n",
              "      <td>4</td>\n",
              "      <td>1</td>\n",
              "      <td>1</td>\n",
              "      <td>3</td>\n",
              "      <td>6</td>\n",
              "      <td>5</td>\n",
              "      <td>6</td>\n",
              "      <td>6</td>\n",
              "    </tr>\n",
              "    <tr>\n",
              "      <th>1</th>\n",
              "      <td>GP</td>\n",
              "      <td>F</td>\n",
              "      <td>17</td>\n",
              "      <td>U</td>\n",
              "      <td>GT3</td>\n",
              "      <td>T</td>\n",
              "      <td>1</td>\n",
              "      <td>1</td>\n",
              "      <td>at_home</td>\n",
              "      <td>other</td>\n",
              "      <td>course</td>\n",
              "      <td>father</td>\n",
              "      <td>1</td>\n",
              "      <td>2</td>\n",
              "      <td>0</td>\n",
              "      <td>no</td>\n",
              "      <td>yes</td>\n",
              "      <td>no</td>\n",
              "      <td>no</td>\n",
              "      <td>no</td>\n",
              "      <td>yes</td>\n",
              "      <td>yes</td>\n",
              "      <td>no</td>\n",
              "      <td>5</td>\n",
              "      <td>3</td>\n",
              "      <td>3</td>\n",
              "      <td>1</td>\n",
              "      <td>1</td>\n",
              "      <td>3</td>\n",
              "      <td>4</td>\n",
              "      <td>5</td>\n",
              "      <td>5</td>\n",
              "      <td>6</td>\n",
              "    </tr>\n",
              "    <tr>\n",
              "      <th>2</th>\n",
              "      <td>GP</td>\n",
              "      <td>F</td>\n",
              "      <td>15</td>\n",
              "      <td>U</td>\n",
              "      <td>LE3</td>\n",
              "      <td>T</td>\n",
              "      <td>1</td>\n",
              "      <td>1</td>\n",
              "      <td>at_home</td>\n",
              "      <td>other</td>\n",
              "      <td>other</td>\n",
              "      <td>mother</td>\n",
              "      <td>1</td>\n",
              "      <td>2</td>\n",
              "      <td>3</td>\n",
              "      <td>yes</td>\n",
              "      <td>no</td>\n",
              "      <td>yes</td>\n",
              "      <td>no</td>\n",
              "      <td>yes</td>\n",
              "      <td>yes</td>\n",
              "      <td>yes</td>\n",
              "      <td>no</td>\n",
              "      <td>4</td>\n",
              "      <td>3</td>\n",
              "      <td>2</td>\n",
              "      <td>2</td>\n",
              "      <td>3</td>\n",
              "      <td>3</td>\n",
              "      <td>10</td>\n",
              "      <td>7</td>\n",
              "      <td>8</td>\n",
              "      <td>10</td>\n",
              "    </tr>\n",
              "    <tr>\n",
              "      <th>3</th>\n",
              "      <td>GP</td>\n",
              "      <td>F</td>\n",
              "      <td>15</td>\n",
              "      <td>U</td>\n",
              "      <td>GT3</td>\n",
              "      <td>T</td>\n",
              "      <td>4</td>\n",
              "      <td>2</td>\n",
              "      <td>health</td>\n",
              "      <td>services</td>\n",
              "      <td>home</td>\n",
              "      <td>mother</td>\n",
              "      <td>1</td>\n",
              "      <td>3</td>\n",
              "      <td>0</td>\n",
              "      <td>no</td>\n",
              "      <td>yes</td>\n",
              "      <td>yes</td>\n",
              "      <td>yes</td>\n",
              "      <td>yes</td>\n",
              "      <td>yes</td>\n",
              "      <td>yes</td>\n",
              "      <td>yes</td>\n",
              "      <td>3</td>\n",
              "      <td>2</td>\n",
              "      <td>2</td>\n",
              "      <td>1</td>\n",
              "      <td>1</td>\n",
              "      <td>5</td>\n",
              "      <td>2</td>\n",
              "      <td>15</td>\n",
              "      <td>14</td>\n",
              "      <td>15</td>\n",
              "    </tr>\n",
              "    <tr>\n",
              "      <th>4</th>\n",
              "      <td>GP</td>\n",
              "      <td>F</td>\n",
              "      <td>16</td>\n",
              "      <td>U</td>\n",
              "      <td>GT3</td>\n",
              "      <td>T</td>\n",
              "      <td>3</td>\n",
              "      <td>3</td>\n",
              "      <td>other</td>\n",
              "      <td>other</td>\n",
              "      <td>home</td>\n",
              "      <td>father</td>\n",
              "      <td>1</td>\n",
              "      <td>2</td>\n",
              "      <td>0</td>\n",
              "      <td>no</td>\n",
              "      <td>yes</td>\n",
              "      <td>yes</td>\n",
              "      <td>no</td>\n",
              "      <td>yes</td>\n",
              "      <td>yes</td>\n",
              "      <td>no</td>\n",
              "      <td>no</td>\n",
              "      <td>4</td>\n",
              "      <td>3</td>\n",
              "      <td>2</td>\n",
              "      <td>1</td>\n",
              "      <td>2</td>\n",
              "      <td>5</td>\n",
              "      <td>4</td>\n",
              "      <td>6</td>\n",
              "      <td>10</td>\n",
              "      <td>10</td>\n",
              "    </tr>\n",
              "  </tbody>\n",
              "</table>\n",
              "</div>"
            ],
            "text/plain": [
              "  school sex  age address famsize Pstatus  ...  Walc  health absences  G1  G2  G3\n",
              "0     GP   F   18       U     GT3       A  ...     1       3        6   5   6   6\n",
              "1     GP   F   17       U     GT3       T  ...     1       3        4   5   5   6\n",
              "2     GP   F   15       U     LE3       T  ...     3       3       10   7   8  10\n",
              "3     GP   F   15       U     GT3       T  ...     1       5        2  15  14  15\n",
              "4     GP   F   16       U     GT3       T  ...     2       5        4   6  10  10\n",
              "\n",
              "[5 rows x 33 columns]"
            ]
          },
          "metadata": {
            "tags": []
          },
          "execution_count": 3
        }
      ]
    },
    {
      "cell_type": "markdown",
      "metadata": {
        "id": "1S1UEziN1yJR"
      },
      "source": [
        "Повезло, что нет нулевых значений, нет численных колонок, сохранённых, как объекты:"
      ]
    },
    {
      "cell_type": "code",
      "metadata": {
        "id": "nhjmR88g1tq8"
      },
      "source": [
        "df.info()"
      ],
      "execution_count": null,
      "outputs": []
    },
    {
      "cell_type": "markdown",
      "metadata": {
        "id": "xUu3U2Hc2nrL"
      },
      "source": [
        "Различные статистики: в среднем возраст - ~17 лет, ~6 пропусков, G1 выше, чем G2, а G2 выше, чем G3..."
      ]
    },
    {
      "cell_type": "code",
      "metadata": {
        "id": "jyd6PGF516Si",
        "colab": {
          "base_uri": "https://localhost:8080/",
          "height": 304
        },
        "outputId": "d54b8a93-de34-4157-c055-2e0913db2a3e"
      },
      "source": [
        "df.describe()"
      ],
      "execution_count": null,
      "outputs": [
        {
          "output_type": "execute_result",
          "data": {
            "text/html": [
              "<div>\n",
              "<style scoped>\n",
              "    .dataframe tbody tr th:only-of-type {\n",
              "        vertical-align: middle;\n",
              "    }\n",
              "\n",
              "    .dataframe tbody tr th {\n",
              "        vertical-align: top;\n",
              "    }\n",
              "\n",
              "    .dataframe thead th {\n",
              "        text-align: right;\n",
              "    }\n",
              "</style>\n",
              "<table border=\"1\" class=\"dataframe\">\n",
              "  <thead>\n",
              "    <tr style=\"text-align: right;\">\n",
              "      <th></th>\n",
              "      <th>age</th>\n",
              "      <th>Medu</th>\n",
              "      <th>Fedu</th>\n",
              "      <th>traveltime</th>\n",
              "      <th>studytime</th>\n",
              "      <th>failures</th>\n",
              "      <th>famrel</th>\n",
              "      <th>freetime</th>\n",
              "      <th>goout</th>\n",
              "      <th>Dalc</th>\n",
              "      <th>Walc</th>\n",
              "      <th>health</th>\n",
              "      <th>absences</th>\n",
              "      <th>G1</th>\n",
              "      <th>G2</th>\n",
              "      <th>G3</th>\n",
              "    </tr>\n",
              "  </thead>\n",
              "  <tbody>\n",
              "    <tr>\n",
              "      <th>count</th>\n",
              "      <td>395.000000</td>\n",
              "      <td>395.000000</td>\n",
              "      <td>395.000000</td>\n",
              "      <td>395.000000</td>\n",
              "      <td>395.000000</td>\n",
              "      <td>395.000000</td>\n",
              "      <td>395.000000</td>\n",
              "      <td>395.000000</td>\n",
              "      <td>395.000000</td>\n",
              "      <td>395.000000</td>\n",
              "      <td>395.000000</td>\n",
              "      <td>395.000000</td>\n",
              "      <td>395.000000</td>\n",
              "      <td>395.000000</td>\n",
              "      <td>395.000000</td>\n",
              "      <td>395.000000</td>\n",
              "    </tr>\n",
              "    <tr>\n",
              "      <th>mean</th>\n",
              "      <td>16.696203</td>\n",
              "      <td>2.749367</td>\n",
              "      <td>2.521519</td>\n",
              "      <td>1.448101</td>\n",
              "      <td>2.035443</td>\n",
              "      <td>0.334177</td>\n",
              "      <td>3.944304</td>\n",
              "      <td>3.235443</td>\n",
              "      <td>3.108861</td>\n",
              "      <td>1.481013</td>\n",
              "      <td>2.291139</td>\n",
              "      <td>3.554430</td>\n",
              "      <td>5.708861</td>\n",
              "      <td>10.908861</td>\n",
              "      <td>10.713924</td>\n",
              "      <td>10.415190</td>\n",
              "    </tr>\n",
              "    <tr>\n",
              "      <th>std</th>\n",
              "      <td>1.276043</td>\n",
              "      <td>1.094735</td>\n",
              "      <td>1.088201</td>\n",
              "      <td>0.697505</td>\n",
              "      <td>0.839240</td>\n",
              "      <td>0.743651</td>\n",
              "      <td>0.896659</td>\n",
              "      <td>0.998862</td>\n",
              "      <td>1.113278</td>\n",
              "      <td>0.890741</td>\n",
              "      <td>1.287897</td>\n",
              "      <td>1.390303</td>\n",
              "      <td>8.003096</td>\n",
              "      <td>3.319195</td>\n",
              "      <td>3.761505</td>\n",
              "      <td>4.581443</td>\n",
              "    </tr>\n",
              "    <tr>\n",
              "      <th>min</th>\n",
              "      <td>15.000000</td>\n",
              "      <td>0.000000</td>\n",
              "      <td>0.000000</td>\n",
              "      <td>1.000000</td>\n",
              "      <td>1.000000</td>\n",
              "      <td>0.000000</td>\n",
              "      <td>1.000000</td>\n",
              "      <td>1.000000</td>\n",
              "      <td>1.000000</td>\n",
              "      <td>1.000000</td>\n",
              "      <td>1.000000</td>\n",
              "      <td>1.000000</td>\n",
              "      <td>0.000000</td>\n",
              "      <td>3.000000</td>\n",
              "      <td>0.000000</td>\n",
              "      <td>0.000000</td>\n",
              "    </tr>\n",
              "    <tr>\n",
              "      <th>25%</th>\n",
              "      <td>16.000000</td>\n",
              "      <td>2.000000</td>\n",
              "      <td>2.000000</td>\n",
              "      <td>1.000000</td>\n",
              "      <td>1.000000</td>\n",
              "      <td>0.000000</td>\n",
              "      <td>4.000000</td>\n",
              "      <td>3.000000</td>\n",
              "      <td>2.000000</td>\n",
              "      <td>1.000000</td>\n",
              "      <td>1.000000</td>\n",
              "      <td>3.000000</td>\n",
              "      <td>0.000000</td>\n",
              "      <td>8.000000</td>\n",
              "      <td>9.000000</td>\n",
              "      <td>8.000000</td>\n",
              "    </tr>\n",
              "    <tr>\n",
              "      <th>50%</th>\n",
              "      <td>17.000000</td>\n",
              "      <td>3.000000</td>\n",
              "      <td>2.000000</td>\n",
              "      <td>1.000000</td>\n",
              "      <td>2.000000</td>\n",
              "      <td>0.000000</td>\n",
              "      <td>4.000000</td>\n",
              "      <td>3.000000</td>\n",
              "      <td>3.000000</td>\n",
              "      <td>1.000000</td>\n",
              "      <td>2.000000</td>\n",
              "      <td>4.000000</td>\n",
              "      <td>4.000000</td>\n",
              "      <td>11.000000</td>\n",
              "      <td>11.000000</td>\n",
              "      <td>11.000000</td>\n",
              "    </tr>\n",
              "    <tr>\n",
              "      <th>75%</th>\n",
              "      <td>18.000000</td>\n",
              "      <td>4.000000</td>\n",
              "      <td>3.000000</td>\n",
              "      <td>2.000000</td>\n",
              "      <td>2.000000</td>\n",
              "      <td>0.000000</td>\n",
              "      <td>5.000000</td>\n",
              "      <td>4.000000</td>\n",
              "      <td>4.000000</td>\n",
              "      <td>2.000000</td>\n",
              "      <td>3.000000</td>\n",
              "      <td>5.000000</td>\n",
              "      <td>8.000000</td>\n",
              "      <td>13.000000</td>\n",
              "      <td>13.000000</td>\n",
              "      <td>14.000000</td>\n",
              "    </tr>\n",
              "    <tr>\n",
              "      <th>max</th>\n",
              "      <td>22.000000</td>\n",
              "      <td>4.000000</td>\n",
              "      <td>4.000000</td>\n",
              "      <td>4.000000</td>\n",
              "      <td>4.000000</td>\n",
              "      <td>3.000000</td>\n",
              "      <td>5.000000</td>\n",
              "      <td>5.000000</td>\n",
              "      <td>5.000000</td>\n",
              "      <td>5.000000</td>\n",
              "      <td>5.000000</td>\n",
              "      <td>5.000000</td>\n",
              "      <td>75.000000</td>\n",
              "      <td>19.000000</td>\n",
              "      <td>19.000000</td>\n",
              "      <td>20.000000</td>\n",
              "    </tr>\n",
              "  </tbody>\n",
              "</table>\n",
              "</div>"
            ],
            "text/plain": [
              "              age        Medu        Fedu  ...          G1          G2          G3\n",
              "count  395.000000  395.000000  395.000000  ...  395.000000  395.000000  395.000000\n",
              "mean    16.696203    2.749367    2.521519  ...   10.908861   10.713924   10.415190\n",
              "std      1.276043    1.094735    1.088201  ...    3.319195    3.761505    4.581443\n",
              "min     15.000000    0.000000    0.000000  ...    3.000000    0.000000    0.000000\n",
              "25%     16.000000    2.000000    2.000000  ...    8.000000    9.000000    8.000000\n",
              "50%     17.000000    3.000000    2.000000  ...   11.000000   11.000000   11.000000\n",
              "75%     18.000000    4.000000    3.000000  ...   13.000000   13.000000   14.000000\n",
              "max     22.000000    4.000000    4.000000  ...   19.000000   19.000000   20.000000\n",
              "\n",
              "[8 rows x 16 columns]"
            ]
          },
          "metadata": {
            "tags": []
          },
          "execution_count": 5
        }
      ]
    },
    {
      "cell_type": "markdown",
      "metadata": {
        "id": "5mYK5yNaubzO"
      },
      "source": [
        "Сделала Series, в котором удобно смотреть значения колонок:"
      ]
    },
    {
      "cell_type": "code",
      "metadata": {
        "id": "fQbY9ysnvwit",
        "colab": {
          "base_uri": "https://localhost:8080/",
          "height": 35
        },
        "outputId": "b25accb0-af1c-4ec9-a012-3ee108181618"
      },
      "source": [
        "from a import a\n",
        "col_descr = pd.Series(data=a, index=df.columns[:30])\n",
        "col_descr['goout']"
      ],
      "execution_count": null,
      "outputs": [
        {
          "output_type": "execute_result",
          "data": {
            "application/vnd.google.colaboratory.intrinsic+json": {
              "type": "string"
            },
            "text/plain": [
              "'goout - going out with friends (numeric: from 1 - very low to 5 - very high)'"
            ]
          },
          "metadata": {
            "tags": []
          },
          "execution_count": 36
        }
      ]
    },
    {
      "cell_type": "markdown",
      "metadata": {
        "id": "A3SwSW6C4IT7"
      },
      "source": [
        "## EDA"
      ]
    },
    {
      "cell_type": "markdown",
      "metadata": {
        "id": "OlgJCQcU5zxL"
      },
      "source": [
        "Посмотрим на распределение целевой переменной:"
      ]
    },
    {
      "cell_type": "code",
      "metadata": {
        "id": "e3TsvaB94ccU",
        "colab": {
          "base_uri": "https://localhost:8080/",
          "height": 386
        },
        "outputId": "f464acca-5e73-4d23-ec55-3d6f24de8632"
      },
      "source": [
        "sns.displot(df['G3'])"
      ],
      "execution_count": null,
      "outputs": [
        {
          "output_type": "execute_result",
          "data": {
            "text/plain": [
              "<seaborn.axisgrid.FacetGrid at 0x7f7ba22aa518>"
            ]
          },
          "metadata": {
            "tags": []
          },
          "execution_count": 7
        },
        {
          "output_type": "display_data",
          "data": {
            "image/png": "[encoded data removed]",
            "text/plain": [
              "<Figure size 360x360 with 1 Axes>"
            ]
          },
          "metadata": {
            "tags": [],
            "needs_background": "light"
          }
        }
      ]
    },
    {
      "cell_type": "markdown",
      "metadata": {
        "id": "gVH0rv6h61ho"
      },
      "source": [
        "*Здесь я пытаюсь выяснить, почему ~40 человек из 395 написали на ноль баллов.*\n",
        "*Выбрать тех, у кого G3 < 5 и посмотреть зависимость от других признаков*\n",
        "\n"
      ]
    },
    {
      "cell_type": "markdown",
      "metadata": {
        "id": "Ix59Fs6iGbe1"
      },
      "source": [
        "Большинству учеников 16-17 лет, девочек немногим больше мальчиков:"
      ]
    },
    {
      "cell_type": "markdown",
      "metadata": {
        "id": "Oz3daobOGtVn"
      },
      "source": [
        "*Здесь я пытаюсь выяснить, почему некоторым студентам ~20 лет. Посмотреть, что у них со здоровьем, учебой, какой балл G3.*"
      ]
    },
    {
      "cell_type": "code",
      "metadata": {
        "id": "p73m6Id5ANKZ",
        "colab": {
          "base_uri": "https://localhost:8080/",
          "height": 702
        },
        "outputId": "d9ea9b77-429c-4067-ebdd-d518b88fc36f"
      },
      "source": [
        "sns.distplot(df['age'])\n",
        "sns.displot(df['sex'])"
      ],
      "execution_count": null,
      "outputs": [
        {
          "output_type": "stream",
          "text": [
            "/usr/local/lib/python3.6/dist-packages/seaborn/distributions.py:2551: FutureWarning: `distplot` is a deprecated function and will be removed in a future version. Please adapt your code to use either `displot` (a figure-level function with similar flexibility) or `histplot` (an axes-level function for histograms).\n",
            "  warnings.warn(msg, FutureWarning)\n"
          ],
          "name": "stderr"
        },
        {
          "output_type": "execute_result",
          "data": {
            "text/plain": [
              "<seaborn.axisgrid.FacetGrid at 0x7f7b9ea62b70>"
            ]
          },
          "metadata": {
            "tags": []
          },
          "execution_count": 8
        },
        {
          "output_type": "display_data",
          "data": {
            "image/png": "[encoded data removed]",
            "text/plain": [
              "<Figure size 432x288 with 1 Axes>"
            ]
          },
          "metadata": {
            "tags": [],
            "needs_background": "light"
          }
        },
        {
          "output_type": "display_data",
          "data": {
            "image/png": "[encoded data removed]",
            "text/plain": [
              "<Figure size 360x360 with 1 Axes>"
            ]
          },
          "metadata": {
            "tags": [],
            "needs_background": "light"
          }
        }
      ]
    },
    {
      "cell_type": "markdown",
      "metadata": {
        "id": "c6B4EPV9H7aQ"
      },
      "source": [
        "Можно посмотреть корреляцию G3 со всеми остальными колонками (численными) с помощью функции pandas corr(), которую я подсмотрела на Хабре. По дефолту считается pearson. Как и было заявлено в описании, общий балл за 1 и 2 годы обучения сильно связаны с баллом за третий год. Количество проваленных курсов, здоровье имеют негативную корреляцию с G3. Итоговый балл положительно коррелирует с образованием родителей, временем, посвященном учебе."
      ]
    },
    {
      "cell_type": "code",
      "metadata": {
        "id": "WvccWhCuIRym",
        "colab": {
          "base_uri": "https://localhost:8080/",
          "height": 302
        },
        "outputId": "abe18dfb-0a37-4650-92c4-71ba88d9f067"
      },
      "source": [
        "df.corr()['G3'].sort_values()"
      ],
      "execution_count": null,
      "outputs": [
        {
          "output_type": "execute_result",
          "data": {
            "text/plain": [
              "failures     -0.360415\n",
              "age          -0.161579\n",
              "goout        -0.132791\n",
              "traveltime   -0.117142\n",
              "health       -0.061335\n",
              "Dalc         -0.054660\n",
              "Walc         -0.051939\n",
              "freetime      0.011307\n",
              "absences      0.034247\n",
              "famrel        0.051363\n",
              "studytime     0.097820\n",
              "Fedu          0.152457\n",
              "Medu          0.217147\n",
              "G1            0.801468\n",
              "G2            0.904868\n",
              "G3            1.000000\n",
              "Name: G3, dtype: float64"
            ]
          },
          "metadata": {
            "tags": []
          },
          "execution_count": 9
        }
      ]
    },
    {
      "cell_type": "markdown",
      "metadata": {
        "id": "NxFO8nleNyNa"
      },
      "source": [
        "## Выбор признаков"
      ]
    },
    {
      "cell_type": "markdown",
      "metadata": {
        "id": "AGFuey_cO-we"
      },
      "source": [
        "Преобразуем колонки типа object в численные значения"
      ]
    },
    {
      "cell_type": "code",
      "metadata": {
        "id": "WliC-aISPRUn",
        "colab": {
          "base_uri": "https://localhost:8080/",
          "height": 215
        },
        "outputId": "2ad0f9b6-4c4d-45c0-d3d9-2d6414252e38"
      },
      "source": [
        "df_ = df.copy()\n",
        "#численный не трогаем\n",
        "df_num = df.select_dtypes('number')\n",
        "#заменяем категориальные данные на численные\n",
        "df_cat = pd.get_dummies(df[['school', 'sex', 'address', 'famsize', 'Pstatus', 'Mjob', 'Fjob', 'reason', 'guardian', 'schoolsup', 'famsup', 'paid', 'activities', 'nursery',\n",
        "       'higher', 'internet', 'romantic']])\n",
        "#объединяем в df_\n",
        "df_ = pd.concat([df_num, df_cat], axis = 1)\n",
        "df_.head()"
      ],
      "execution_count": null,
      "outputs": [
        {
          "output_type": "execute_result",
          "data": {
            "text/html": [
              "<div>\n",
              "<style scoped>\n",
              "    .dataframe tbody tr th:only-of-type {\n",
              "        vertical-align: middle;\n",
              "    }\n",
              "\n",
              "    .dataframe tbody tr th {\n",
              "        vertical-align: top;\n",
              "    }\n",
              "\n",
              "    .dataframe thead th {\n",
              "        text-align: right;\n",
              "    }\n",
              "</style>\n",
              "<table border=\"1\" class=\"dataframe\">\n",
              "  <thead>\n",
              "    <tr style=\"text-align: right;\">\n",
              "      <th></th>\n",
              "      <th>age</th>\n",
              "      <th>Medu</th>\n",
              "      <th>Fedu</th>\n",
              "      <th>traveltime</th>\n",
              "      <th>studytime</th>\n",
              "      <th>failures</th>\n",
              "      <th>famrel</th>\n",
              "      <th>freetime</th>\n",
              "      <th>goout</th>\n",
              "      <th>Dalc</th>\n",
              "      <th>Walc</th>\n",
              "      <th>health</th>\n",
              "      <th>absences</th>\n",
              "      <th>G1</th>\n",
              "      <th>G2</th>\n",
              "      <th>G3</th>\n",
              "      <th>school_GP</th>\n",
              "      <th>school_MS</th>\n",
              "      <th>sex_F</th>\n",
              "      <th>sex_M</th>\n",
              "      <th>address_R</th>\n",
              "      <th>address_U</th>\n",
              "      <th>famsize_GT3</th>\n",
              "      <th>famsize_LE3</th>\n",
              "      <th>Pstatus_A</th>\n",
              "      <th>Pstatus_T</th>\n",
              "      <th>Mjob_at_home</th>\n",
              "      <th>Mjob_health</th>\n",
              "      <th>Mjob_other</th>\n",
              "      <th>Mjob_services</th>\n",
              "      <th>Mjob_teacher</th>\n",
              "      <th>Fjob_at_home</th>\n",
              "      <th>Fjob_health</th>\n",
              "      <th>Fjob_other</th>\n",
              "      <th>Fjob_services</th>\n",
              "      <th>Fjob_teacher</th>\n",
              "      <th>reason_course</th>\n",
              "      <th>reason_home</th>\n",
              "      <th>reason_other</th>\n",
              "      <th>reason_reputation</th>\n",
              "      <th>guardian_father</th>\n",
              "      <th>guardian_mother</th>\n",
              "      <th>guardian_other</th>\n",
              "      <th>schoolsup_no</th>\n",
              "      <th>schoolsup_yes</th>\n",
              "      <th>famsup_no</th>\n",
              "      <th>famsup_yes</th>\n",
              "      <th>paid_no</th>\n",
              "      <th>paid_yes</th>\n",
              "      <th>activities_no</th>\n",
              "      <th>activities_yes</th>\n",
              "      <th>nursery_no</th>\n",
              "      <th>nursery_yes</th>\n",
              "      <th>higher_no</th>\n",
              "      <th>higher_yes</th>\n",
              "      <th>internet_no</th>\n",
              "      <th>internet_yes</th>\n",
              "      <th>romantic_no</th>\n",
              "      <th>romantic_yes</th>\n",
              "    </tr>\n",
              "  </thead>\n",
              "  <tbody>\n",
              "    <tr>\n",
              "      <th>0</th>\n",
              "      <td>18</td>\n",
              "      <td>4</td>\n",
              "      <td>4</td>\n",
              "      <td>2</td>\n",
              "      <td>2</td>\n",
              "      <td>0</td>\n",
              "      <td>4</td>\n",
              "      <td>3</td>\n",
              "      <td>4</td>\n",
              "      <td>1</td>\n",
              "      <td>1</td>\n",
              "      <td>3</td>\n",
              "      <td>6</td>\n",
              "      <td>5</td>\n",
              "      <td>6</td>\n",
              "      <td>6</td>\n",
              "      <td>1</td>\n",
              "      <td>0</td>\n",
              "      <td>1</td>\n",
              "      <td>0</td>\n",
              "      <td>0</td>\n",
              "      <td>1</td>\n",
              "      <td>1</td>\n",
              "      <td>0</td>\n",
              "      <td>1</td>\n",
              "      <td>0</td>\n",
              "      <td>1</td>\n",
              "      <td>0</td>\n",
              "      <td>0</td>\n",
              "      <td>0</td>\n",
              "      <td>0</td>\n",
              "      <td>0</td>\n",
              "      <td>0</td>\n",
              "      <td>0</td>\n",
              "      <td>0</td>\n",
              "      <td>1</td>\n",
              "      <td>1</td>\n",
              "      <td>0</td>\n",
              "      <td>0</td>\n",
              "      <td>0</td>\n",
              "      <td>0</td>\n",
              "      <td>1</td>\n",
              "      <td>0</td>\n",
              "      <td>0</td>\n",
              "      <td>1</td>\n",
              "      <td>1</td>\n",
              "      <td>0</td>\n",
              "      <td>1</td>\n",
              "      <td>0</td>\n",
              "      <td>1</td>\n",
              "      <td>0</td>\n",
              "      <td>0</td>\n",
              "      <td>1</td>\n",
              "      <td>0</td>\n",
              "      <td>1</td>\n",
              "      <td>1</td>\n",
              "      <td>0</td>\n",
              "      <td>1</td>\n",
              "      <td>0</td>\n",
              "    </tr>\n",
              "    <tr>\n",
              "      <th>1</th>\n",
              "      <td>17</td>\n",
              "      <td>1</td>\n",
              "      <td>1</td>\n",
              "      <td>1</td>\n",
              "      <td>2</td>\n",
              "      <td>0</td>\n",
              "      <td>5</td>\n",
              "      <td>3</td>\n",
              "      <td>3</td>\n",
              "      <td>1</td>\n",
              "      <td>1</td>\n",
              "      <td>3</td>\n",
              "      <td>4</td>\n",
              "      <td>5</td>\n",
              "      <td>5</td>\n",
              "      <td>6</td>\n",
              "      <td>1</td>\n",
              "      <td>0</td>\n",
              "      <td>1</td>\n",
              "      <td>0</td>\n",
              "      <td>0</td>\n",
              "      <td>1</td>\n",
              "      <td>1</td>\n",
              "      <td>0</td>\n",
              "      <td>0</td>\n",
              "      <td>1</td>\n",
              "      <td>1</td>\n",
              "      <td>0</td>\n",
              "      <td>0</td>\n",
              "      <td>0</td>\n",
              "      <td>0</td>\n",
              "      <td>0</td>\n",
              "      <td>0</td>\n",
              "      <td>1</td>\n",
              "      <td>0</td>\n",
              "      <td>0</td>\n",
              "      <td>1</td>\n",
              "      <td>0</td>\n",
              "      <td>0</td>\n",
              "      <td>0</td>\n",
              "      <td>1</td>\n",
              "      <td>0</td>\n",
              "      <td>0</td>\n",
              "      <td>1</td>\n",
              "      <td>0</td>\n",
              "      <td>0</td>\n",
              "      <td>1</td>\n",
              "      <td>1</td>\n",
              "      <td>0</td>\n",
              "      <td>1</td>\n",
              "      <td>0</td>\n",
              "      <td>1</td>\n",
              "      <td>0</td>\n",
              "      <td>0</td>\n",
              "      <td>1</td>\n",
              "      <td>0</td>\n",
              "      <td>1</td>\n",
              "      <td>1</td>\n",
              "      <td>0</td>\n",
              "    </tr>\n",
              "    <tr>\n",
              "      <th>2</th>\n",
              "      <td>15</td>\n",
              "      <td>1</td>\n",
              "      <td>1</td>\n",
              "      <td>1</td>\n",
              "      <td>2</td>\n",
              "      <td>3</td>\n",
              "      <td>4</td>\n",
              "      <td>3</td>\n",
              "      <td>2</td>\n",
              "      <td>2</td>\n",
              "      <td>3</td>\n",
              "      <td>3</td>\n",
              "      <td>10</td>\n",
              "      <td>7</td>\n",
              "      <td>8</td>\n",
              "      <td>10</td>\n",
              "      <td>1</td>\n",
              "      <td>0</td>\n",
              "      <td>1</td>\n",
              "      <td>0</td>\n",
              "      <td>0</td>\n",
              "      <td>1</td>\n",
              "      <td>0</td>\n",
              "      <td>1</td>\n",
              "      <td>0</td>\n",
              "      <td>1</td>\n",
              "      <td>1</td>\n",
              "      <td>0</td>\n",
              "      <td>0</td>\n",
              "      <td>0</td>\n",
              "      <td>0</td>\n",
              "      <td>0</td>\n",
              "      <td>0</td>\n",
              "      <td>1</td>\n",
              "      <td>0</td>\n",
              "      <td>0</td>\n",
              "      <td>0</td>\n",
              "      <td>0</td>\n",
              "      <td>1</td>\n",
              "      <td>0</td>\n",
              "      <td>0</td>\n",
              "      <td>1</td>\n",
              "      <td>0</td>\n",
              "      <td>0</td>\n",
              "      <td>1</td>\n",
              "      <td>1</td>\n",
              "      <td>0</td>\n",
              "      <td>0</td>\n",
              "      <td>1</td>\n",
              "      <td>1</td>\n",
              "      <td>0</td>\n",
              "      <td>0</td>\n",
              "      <td>1</td>\n",
              "      <td>0</td>\n",
              "      <td>1</td>\n",
              "      <td>0</td>\n",
              "      <td>1</td>\n",
              "      <td>1</td>\n",
              "      <td>0</td>\n",
              "    </tr>\n",
              "    <tr>\n",
              "      <th>3</th>\n",
              "      <td>15</td>\n",
              "      <td>4</td>\n",
              "      <td>2</td>\n",
              "      <td>1</td>\n",
              "      <td>3</td>\n",
              "      <td>0</td>\n",
              "      <td>3</td>\n",
              "      <td>2</td>\n",
              "      <td>2</td>\n",
              "      <td>1</td>\n",
              "      <td>1</td>\n",
              "      <td>5</td>\n",
              "      <td>2</td>\n",
              "      <td>15</td>\n",
              "      <td>14</td>\n",
              "      <td>15</td>\n",
              "      <td>1</td>\n",
              "      <td>0</td>\n",
              "      <td>1</td>\n",
              "      <td>0</td>\n",
              "      <td>0</td>\n",
              "      <td>1</td>\n",
              "      <td>1</td>\n",
              "      <td>0</td>\n",
              "      <td>0</td>\n",
              "      <td>1</td>\n",
              "      <td>0</td>\n",
              "      <td>1</td>\n",
              "      <td>0</td>\n",
              "      <td>0</td>\n",
              "      <td>0</td>\n",
              "      <td>0</td>\n",
              "      <td>0</td>\n",
              "      <td>0</td>\n",
              "      <td>1</td>\n",
              "      <td>0</td>\n",
              "      <td>0</td>\n",
              "      <td>1</td>\n",
              "      <td>0</td>\n",
              "      <td>0</td>\n",
              "      <td>0</td>\n",
              "      <td>1</td>\n",
              "      <td>0</td>\n",
              "      <td>1</td>\n",
              "      <td>0</td>\n",
              "      <td>0</td>\n",
              "      <td>1</td>\n",
              "      <td>0</td>\n",
              "      <td>1</td>\n",
              "      <td>0</td>\n",
              "      <td>1</td>\n",
              "      <td>0</td>\n",
              "      <td>1</td>\n",
              "      <td>0</td>\n",
              "      <td>1</td>\n",
              "      <td>0</td>\n",
              "      <td>1</td>\n",
              "      <td>0</td>\n",
              "      <td>1</td>\n",
              "    </tr>\n",
              "    <tr>\n",
              "      <th>4</th>\n",
              "      <td>16</td>\n",
              "      <td>3</td>\n",
              "      <td>3</td>\n",
              "      <td>1</td>\n",
              "      <td>2</td>\n",
              "      <td>0</td>\n",
              "      <td>4</td>\n",
              "      <td>3</td>\n",
              "      <td>2</td>\n",
              "      <td>1</td>\n",
              "      <td>2</td>\n",
              "      <td>5</td>\n",
              "      <td>4</td>\n",
              "      <td>6</td>\n",
              "      <td>10</td>\n",
              "      <td>10</td>\n",
              "      <td>1</td>\n",
              "      <td>0</td>\n",
              "      <td>1</td>\n",
              "      <td>0</td>\n",
              "      <td>0</td>\n",
              "      <td>1</td>\n",
              "      <td>1</td>\n",
              "      <td>0</td>\n",
              "      <td>0</td>\n",
              "      <td>1</td>\n",
              "      <td>0</td>\n",
              "      <td>0</td>\n",
              "      <td>1</td>\n",
              "      <td>0</td>\n",
              "      <td>0</td>\n",
              "      <td>0</td>\n",
              "      <td>0</td>\n",
              "      <td>1</td>\n",
              "      <td>0</td>\n",
              "      <td>0</td>\n",
              "      <td>0</td>\n",
              "      <td>1</td>\n",
              "      <td>0</td>\n",
              "      <td>0</td>\n",
              "      <td>1</td>\n",
              "      <td>0</td>\n",
              "      <td>0</td>\n",
              "      <td>1</td>\n",
              "      <td>0</td>\n",
              "      <td>0</td>\n",
              "      <td>1</td>\n",
              "      <td>0</td>\n",
              "      <td>1</td>\n",
              "      <td>1</td>\n",
              "      <td>0</td>\n",
              "      <td>0</td>\n",
              "      <td>1</td>\n",
              "      <td>0</td>\n",
              "      <td>1</td>\n",
              "      <td>1</td>\n",
              "      <td>0</td>\n",
              "      <td>1</td>\n",
              "      <td>0</td>\n",
              "    </tr>\n",
              "  </tbody>\n",
              "</table>\n",
              "</div>"
            ],
            "text/plain": [
              "   age  Medu  Fedu  ...  internet_yes  romantic_no  romantic_yes\n",
              "0   18     4     4  ...             0            1             0\n",
              "1   17     1     1  ...             1            1             0\n",
              "2   15     1     1  ...             1            1             0\n",
              "3   15     4     2  ...             1            0             1\n",
              "4   16     3     3  ...             0            1             0\n",
              "\n",
              "[5 rows x 59 columns]"
            ]
          },
          "metadata": {
            "tags": []
          },
          "execution_count": 10
        }
      ]
    },
    {
      "cell_type": "markdown",
      "metadata": {
        "id": "7SFfmCs_YjK1"
      },
      "source": [
        "Было 33 колонки, стало 59."
      ]
    },
    {
      "cell_type": "code",
      "metadata": {
        "id": "AYmuyomHTqI-",
        "colab": {
          "base_uri": "https://localhost:8080/",
          "height": 1000
        },
        "outputId": "042ccee3-d003-4864-fbcf-63c7a979a4f9"
      },
      "source": [
        "df_.corr()['higher_no'].sort_values()"
      ],
      "execution_count": null,
      "outputs": [
        {
          "output_type": "execute_result",
          "data": {
            "text/plain": [
              "higher_yes          -1.000000\n",
              "paid_yes            -0.189214\n",
              "G3                  -0.182465\n",
              "G2                  -0.179129\n",
              "G1                  -0.178264\n",
              "studytime           -0.175081\n",
              "Fedu                -0.174566\n",
              "Medu                -0.168845\n",
              "sex_F               -0.151056\n",
              "romantic_no         -0.105664\n",
              "famsup_yes          -0.100815\n",
              "activities_yes      -0.096484\n",
              "reason_reputation   -0.086686\n",
              "Mjob_health         -0.070874\n",
              "reason_home         -0.065072\n",
              "Mjob_teacher        -0.063183\n",
              "schoolsup_yes       -0.054486\n",
              "nursery_yes         -0.054303\n",
              "Fjob_health         -0.050462\n",
              "Fjob_other          -0.046121\n",
              "address_U           -0.042854\n",
              "Pstatus_A           -0.040735\n",
              "famrel              -0.024319\n",
              "school_GP           -0.024150\n",
              "Fjob_teacher        -0.020735\n",
              "internet_yes        -0.020374\n",
              "guardian_father     -0.015333\n",
              "famsize_GT3         -0.005806\n",
              "Mjob_services       -0.005660\n",
              "Mjob_other          -0.003356\n",
              "Fjob_at_home        -0.000667\n",
              "guardian_mother      0.004429\n",
              "famsize_LE3          0.005806\n",
              "health               0.015895\n",
              "guardian_other       0.016071\n",
              "internet_no          0.020374\n",
              "school_MS            0.024150\n",
              "goout                0.039700\n",
              "Pstatus_T            0.040735\n",
              "address_R            0.042854\n",
              "nursery_no           0.054303\n",
              "schoolsup_no         0.054486\n",
              "absences             0.056085\n",
              "freetime             0.061244\n",
              "reason_course        0.063680\n",
              "Dalc                 0.069828\n",
              "traveltime           0.083508\n",
              "Fjob_services        0.086822\n",
              "activities_no        0.096484\n",
              "Walc                 0.100340\n",
              "famsup_no            0.100815\n",
              "romantic_yes         0.105664\n",
              "reason_other         0.127472\n",
              "Mjob_at_home         0.129988\n",
              "sex_M                0.151056\n",
              "paid_no              0.189214\n",
              "age                  0.209081\n",
              "failures             0.300316\n",
              "higher_no            1.000000\n",
              "Name: higher_no, dtype: float64"
            ]
          },
          "metadata": {
            "tags": []
          },
          "execution_count": 11
        }
      ]
    },
    {
      "cell_type": "markdown",
      "metadata": {
        "id": "xhE9i5ImYmhE"
      },
      "source": [
        "Просто руками проверила корреляцию между некоторыми колонками (не с таргетом). Вроде бы нет нигде выше 0.4, посмотрим, что скажет Lasso"
      ]
    },
    {
      "cell_type": "code",
      "metadata": {
        "id": "gey9y1sEWoOt",
        "colab": {
          "base_uri": "https://localhost:8080/",
          "height": 351
        },
        "outputId": "150403dc-fe80-4a07-b033-aadb9e5514de"
      },
      "source": [
        "#кто не проваливал курсы, у того G3 выше среднего (средний около 10.4), отрицательная корреляция\n",
        "sns.lineplot(df_.failures, df.G3)"
      ],
      "execution_count": null,
      "outputs": [
        {
          "output_type": "stream",
          "text": [
            "/usr/local/lib/python3.6/dist-packages/seaborn/_decorators.py:43: FutureWarning: Pass the following variables as keyword args: x, y. From version 0.12, the only valid positional argument will be `data`, and passing other arguments without an explicit keyword will result in an error or misinterpretation.\n",
            "  FutureWarning\n"
          ],
          "name": "stderr"
        },
        {
          "output_type": "execute_result",
          "data": {
            "text/plain": [
              "<matplotlib.axes._subplots.AxesSubplot at 0x7f7ba2a2ca90>"
            ]
          },
          "metadata": {
            "tags": []
          },
          "execution_count": 12
        },
        {
          "output_type": "display_data",
          "data": {
            "image/png": "[encoded data removed]",
            "text/plain": [
              "<Figure size 432x288 with 1 Axes>"
            ]
          },
          "metadata": {
            "tags": [],
            "needs_background": "light"
          }
        }
      ]
    },
    {
      "cell_type": "code",
      "metadata": {
        "id": "gwK_oMLHwlO_",
        "colab": {
          "base_uri": "https://localhost:8080/",
          "height": 1000
        },
        "outputId": "b7b63133-d664-4994-fe04-36b11a8cf63e"
      },
      "source": [
        "df_.corr()['G3'].sort_values()"
      ],
      "execution_count": null,
      "outputs": [
        {
          "output_type": "execute_result",
          "data": {
            "text/plain": [
              "failures            -0.360415\n",
              "higher_no           -0.182465\n",
              "age                 -0.161579\n",
              "goout               -0.132791\n",
              "romantic_yes        -0.129970\n",
              "traveltime          -0.117142\n",
              "Mjob_at_home        -0.115634\n",
              "address_R           -0.105756\n",
              "sex_F               -0.103456\n",
              "paid_no             -0.101996\n",
              "reason_course       -0.098950\n",
              "internet_no         -0.098483\n",
              "Mjob_other          -0.096477\n",
              "guardian_other      -0.087774\n",
              "schoolsup_yes       -0.082788\n",
              "famsize_GT3         -0.081407\n",
              "health              -0.061335\n",
              "Pstatus_T           -0.058009\n",
              "Dalc                -0.054660\n",
              "Fjob_other          -0.053483\n",
              "Walc                -0.051939\n",
              "nursery_no          -0.051568\n",
              "school_MS           -0.045017\n",
              "famsup_yes          -0.039157\n",
              "reason_home         -0.021359\n",
              "Fjob_services       -0.016108\n",
              "activities_no       -0.016100\n",
              "Fjob_at_home        -0.013385\n",
              "freetime             0.011307\n",
              "activities_yes       0.016100\n",
              "guardian_mother      0.022338\n",
              "guardian_father      0.032493\n",
              "absences             0.034247\n",
              "famsup_no            0.039157\n",
              "school_GP            0.045017\n",
              "famrel               0.051363\n",
              "nursery_yes          0.051568\n",
              "reason_other         0.052008\n",
              "Fjob_health          0.057111\n",
              "Mjob_teacher         0.057712\n",
              "Pstatus_A            0.058009\n",
              "Mjob_services        0.078429\n",
              "famsize_LE3          0.081407\n",
              "schoolsup_no         0.082788\n",
              "Fjob_teacher         0.095374\n",
              "reason_reputation    0.095692\n",
              "studytime            0.097820\n",
              "internet_yes         0.098483\n",
              "paid_yes             0.101996\n",
              "sex_M                0.103456\n",
              "address_U            0.105756\n",
              "Mjob_health          0.116158\n",
              "romantic_no          0.129970\n",
              "Fedu                 0.152457\n",
              "higher_yes           0.182465\n",
              "Medu                 0.217147\n",
              "G1                   0.801468\n",
              "G2                   0.904868\n",
              "G3                   1.000000\n",
              "Name: G3, dtype: float64"
            ]
          },
          "metadata": {
            "tags": []
          },
          "execution_count": 13
        }
      ]
    },
    {
      "cell_type": "markdown",
      "metadata": {
        "id": "Qdv0JKwOdyEW"
      },
      "source": [
        "## Построение модели"
      ]
    },
    {
      "cell_type": "code",
      "metadata": {
        "id": "oXViKvLFeiVi"
      },
      "source": [
        "from sklearn.model_selection import train_test_split\n",
        "from sklearn import metrics\n",
        "from sklearn.linear_model import LinearRegression, Lasso, Ridge,ElasticNet, LassoCV "
      ],
      "execution_count": null,
      "outputs": []
    },
    {
      "cell_type": "markdown",
      "metadata": {
        "id": "GUclZf91d1ta"
      },
      "source": [
        "### Разбиваем данные"
      ]
    },
    {
      "cell_type": "code",
      "metadata": {
        "id": "bUUYV_-Zeo2S",
        "colab": {
          "base_uri": "https://localhost:8080/",
          "height": 34
        },
        "outputId": "de0784d1-5d8f-4435-b1d6-3cf753cd4139"
      },
      "source": [
        "# Отделяем таргет\n",
        "X = df_.drop(columns='G3')\n",
        "y = pd.DataFrame(df_['G3'])\n",
        "# Разбиваем на train и test сеты (80% на трейн, 20% на тест)\n",
        "X_train, X_test, y_train, y_test = train_test_split(X, y, test_size = 0.2)\n",
        "print('Тренировочные признаки: ', X_train.shape, 'Тренировочные таргеты: ', y_train.shape, 'Тестовые признаки: ', X_test.shape, 'Тестовые таргеты: ', y_test.shape)"
      ],
      "execution_count": null,
      "outputs": [
        {
          "output_type": "stream",
          "text": [
            "Тренировочные признаки:  (316, 58) Тренировочные таргеты:  (316, 1) Тестовые признаки:  (79, 58) Тестовые таргеты:  (79, 1)\n"
          ],
          "name": "stdout"
        }
      ]
    },
    {
      "cell_type": "markdown",
      "metadata": {
        "id": "BgR5qz-_gfoh"
      },
      "source": [
        "### Тренируем"
      ]
    },
    {
      "cell_type": "code",
      "metadata": {
        "id": "QTDfsI-zj5it"
      },
      "source": [
        "import numpy as np"
      ],
      "execution_count": null,
      "outputs": []
    },
    {
      "cell_type": "markdown",
      "metadata": {
        "id": "RZKnGnUlgnpy"
      },
      "source": [
        "**1. LinearRegression()**"
      ]
    },
    {
      "cell_type": "code",
      "metadata": {
        "id": "2eaEZN8Igmb_",
        "colab": {
          "base_uri": "https://localhost:8080/",
          "height": 87
        },
        "outputId": "778c1eae-db22-4a2f-d25c-c53fcab5ccfb"
      },
      "source": [
        "lr = LinearRegression()\n",
        "lr.fit(X_train, y_train)\n",
        "print('Пересечение: ', lr.intercept_)\n",
        "names = []\n",
        "for j in lr.coef_:\n",
        "  for k in j:\n",
        "    names.append(np.round(k, 2))\n",
        "# Мои дамми-вэриаблы (выше превращала категориальные данные в числовые) сделали мне мульти-коллинеарность. Насколько я поняла, это распространенная проблема.\n",
        "coefs = {x:y for x,y in zip(X_train.columns, names)}\n",
        "print(coefs)\n",
        "print(f'Качество при обучении {lr.score(X_train, y_train).round(2)}, качество на отложенной выборке {lr.score(X_test, y_test).round(2)}')\n"
      ],
      "execution_count": null,
      "outputs": [
        {
          "output_type": "stream",
          "text": [
            "Пересечение:  [6.25947167e+12]\n",
            "{'age': -0.12, 'Medu': 0.22, 'Fedu': -0.17, 'traveltime': 0.08, 'studytime': -0.21, 'failures': -0.09, 'famrel': 0.42, 'freetime': -0.06, 'goout': 0.1, 'Dalc': -0.38, 'Walc': 0.17, 'health': 0.16, 'absences': 0.04, 'G1': 0.21, 'G2': 0.95, 'school_GP': -1772059550626.5, 'school_MS': -1772059550625.87, 'sex_F': 733745930456.01, 'sex_M': 733745930456.3, 'address_R': -2045078542432.8, 'address_U': -2045078542432.59, 'famsize_GT3': -95316230594.54, 'famsize_LE3': -95316230594.39, 'Pstatus_A': 59374788909.93, 'Pstatus_T': 59374788909.68, 'Mjob_at_home': 401901386504.52, 'Mjob_health': 401901386504.21, 'Mjob_other': 401901386504.7, 'Mjob_services': 401901386504.36, 'Mjob_teacher': 401901386504.12, 'Fjob_at_home': -950965799592.46, 'Fjob_health': -950965799592.06, 'Fjob_other': -950965799592.52, 'Fjob_services': -950965799592.86, 'Fjob_teacher': -950965799592.59, 'reason_course': -883199203743.42, 'reason_home': -883199203743.68, 'reason_other': -883199203743.0, 'reason_reputation': -883199203743.28, 'guardian_father': -413958795011.59, 'guardian_mother': -413958795011.26, 'guardian_other': -413958795011.46, 'schoolsup_no': -204139337000.41, 'schoolsup_yes': -204139336999.84, 'famsup_no': -1115813957918.55, 'famsup_yes': -1115813957918.28, 'paid_no': 146525899442.09, 'paid_yes': 146525899442.16, 'activities_no': 2332464699874.39, 'activities_yes': 2332464699874.0, 'nursery_no': -535300666477.92, 'nursery_yes': -535300666478.2, 'higher_no': -264051785209.0, 'higher_yes': -264051785208.87, 'internet_no': -975835301546.48, 'internet_yes': -975835301546.54, 'romantic_no': -677765206052.34, 'romantic_yes': -677765206052.83}\n",
            "Качество при обучении 0.84, качество на отложенной выборке 0.82\n"
          ],
          "name": "stdout"
        }
      ]
    },
    {
      "cell_type": "markdown",
      "metadata": {
        "id": "c2XKqddDgugp"
      },
      "source": [
        "**2. Lasso**"
      ]
    },
    {
      "cell_type": "code",
      "metadata": {
        "id": "xq_7b3evh0re",
        "colab": {
          "base_uri": "https://localhost:8080/",
          "height": 87
        },
        "outputId": "3401d0b4-ddb9-4828-a9ec-5d808f6c3c96"
      },
      "source": [
        "lass = Lasso(alpha = 0.01)\n",
        "lass.fit(X_train, y_train)\n",
        "print('Пересечение: ', lass.intercept_)\n",
        "names = []\n",
        "for j in lass.coef_:\n",
        "  names.append(np.round(j, 2))\n",
        "coefs = {x:y for x,y in zip(X_train.columns, names)}\n",
        "print(coefs)\n",
        "print(f'Качество при обучении {lass.score(X_train, y_train).round(2)}, качество на отложенной выборке {lass.score(X_test, y_test).round(2)}')"
      ],
      "execution_count": null,
      "outputs": [
        {
          "output_type": "stream",
          "text": [
            "Пересечение:  [-1.70449955]\n",
            "{'age': -0.12, 'Medu': 0.14, 'Fedu': -0.12, 'traveltime': 0.05, 'studytime': -0.18, 'failures': -0.09, 'famrel': 0.41, 'freetime': -0.04, 'goout': 0.09, 'Dalc': -0.31, 'Walc': 0.14, 'health': 0.14, 'absences': 0.04, 'G1': 0.2, 'G2': 0.96, 'school_GP': -0.46, 'school_MS': 0.0, 'sex_F': -0.16, 'sex_M': 0.0, 'address_R': -0.07, 'address_U': 0.0, 'famsize_GT3': -0.09, 'famsize_LE3': 0.0, 'Pstatus_A': 0.17, 'Pstatus_T': -0.0, 'Mjob_at_home': 0.0, 'Mjob_health': -0.0, 'Mjob_other': 0.24, 'Mjob_services': 0.0, 'Mjob_teacher': -0.11, 'Fjob_at_home': 0.0, 'Fjob_health': 0.23, 'Fjob_other': 0.0, 'Fjob_services': -0.36, 'Fjob_teacher': -0.0, 'reason_course': -0.02, 'reason_home': -0.26, 'reason_other': 0.22, 'reason_reputation': 0.02, 'guardian_father': -0.02, 'guardian_mother': 0.23, 'guardian_other': 0.0, 'schoolsup_no': -0.44, 'schoolsup_yes': 0.0, 'famsup_no': -0.21, 'famsup_yes': 0.0, 'paid_no': -0.03, 'paid_yes': 0.0, 'activities_no': 0.36, 'activities_yes': -0.0, 'nursery_no': 0.16, 'nursery_yes': -0.0, 'higher_no': -0.0, 'higher_yes': 0.0, 'internet_no': 0.03, 'internet_yes': -0.0, 'romantic_no': 0.42, 'romantic_yes': -0.0}\n",
            "Качество при обучении 0.84, качество на отложенной выборке 0.83\n"
          ],
          "name": "stdout"
        }
      ]
    },
    {
      "cell_type": "markdown",
      "metadata": {
        "id": "PgBaE_Uzg3qq"
      },
      "source": [
        "**3. ElasticNet**"
      ]
    },
    {
      "cell_type": "code",
      "metadata": {
        "id": "06j_NpjfhG-Z",
        "colab": {
          "base_uri": "https://localhost:8080/",
          "height": 87
        },
        "outputId": "0db12759-80cb-4a6d-bcdd-4180056e6918"
      },
      "source": [
        "el = ElasticNet(alpha = 0.01, l1_ratio = 0.9)\n",
        "el.fit(X_train, y_train)\n",
        "print('Пересечение: ', el.intercept_)\n",
        "names = []\n",
        "for j in el.coef_:\n",
        "  names.append(np.round(j, 2))\n",
        "coefs = {x:y for x,y in zip(X_train.columns, names)}\n",
        "print(coefs)\n",
        "print(f'Качество при обучении {el.score(X_train, y_train).round(2)}, качество на отложенной выборке {el.score(X_test, y_test).round(2)}')"
      ],
      "execution_count": null,
      "outputs": [
        {
          "output_type": "stream",
          "text": [
            "Пересечение:  [-1.86580028]\n",
            "{'age': -0.12, 'Medu': 0.14, 'Fedu': -0.13, 'traveltime': 0.06, 'studytime': -0.18, 'failures': -0.09, 'famrel': 0.41, 'freetime': -0.04, 'goout': 0.09, 'Dalc': -0.31, 'Walc': 0.15, 'health': 0.14, 'absences': 0.04, 'G1': 0.2, 'G2': 0.96, 'school_GP': -0.24, 'school_MS': 0.24, 'sex_F': -0.09, 'sex_M': 0.08, 'address_R': -0.04, 'address_U': 0.04, 'famsize_GT3': -0.05, 'famsize_LE3': 0.04, 'Pstatus_A': 0.09, 'Pstatus_T': -0.09, 'Mjob_at_home': 0.0, 'Mjob_health': -0.0, 'Mjob_other': 0.24, 'Mjob_services': 0.0, 'Mjob_teacher': -0.12, 'Fjob_at_home': 0.0, 'Fjob_health': 0.24, 'Fjob_other': 0.0, 'Fjob_services': -0.36, 'Fjob_teacher': -0.0, 'reason_course': -0.02, 'reason_home': -0.25, 'reason_other': 0.24, 'reason_reputation': 0.03, 'guardian_father': -0.04, 'guardian_mother': 0.22, 'guardian_other': -0.0, 'schoolsup_no': -0.23, 'schoolsup_yes': 0.23, 'famsup_no': -0.11, 'famsup_yes': 0.1, 'paid_no': -0.02, 'paid_yes': 0.02, 'activities_no': 0.19, 'activities_yes': -0.17, 'nursery_no': 0.09, 'nursery_yes': -0.09, 'higher_no': -0.0, 'higher_yes': 0.0, 'internet_no': 0.02, 'internet_yes': -0.02, 'romantic_no': 0.22, 'romantic_yes': -0.2}\n",
            "Качество при обучении 0.84, качество на отложенной выборке 0.83\n"
          ],
          "name": "stdout"
        }
      ]
    },
    {
      "cell_type": "markdown",
      "metadata": {
        "id": "KVdOGhSwg6n5"
      },
      "source": [
        "**4. Ridge**"
      ]
    },
    {
      "cell_type": "code",
      "metadata": {
        "id": "Am_W1XBTi-H8",
        "colab": {
          "base_uri": "https://localhost:8080/",
          "height": 87
        },
        "outputId": "15c1292b-159a-4d87-faa3-35e593dc39ed"
      },
      "source": [
        "rdg = Ridge(alpha = 0.1)\n",
        "rdg.fit(X_train, y_train)\n",
        "print('Пересечение: ', rdg.intercept_)\n",
        "names = []\n",
        "for j in rdg.coef_:\n",
        "  for k in j:\n",
        "    names.append(np.round(k, 2))\n",
        "coefs = {x:y for x,y in zip(X_train.columns, names)}\n",
        "print(coefs)\n",
        "print(f'Качество при обучении {rdg.score(X_train, y_train).round(2)}, качество на отложенной выборке {rdg.score(X_test, y_test).round(2)}')"
      ],
      "execution_count": null,
      "outputs": [
        {
          "output_type": "stream",
          "text": [
            "Пересечение:  [-1.84119372]\n",
            "{'age': -0.12, 'Medu': 0.22, 'Fedu': -0.17, 'traveltime': 0.08, 'studytime': -0.2, 'failures': -0.09, 'famrel': 0.42, 'freetime': -0.06, 'goout': 0.1, 'Dalc': -0.38, 'Walc': 0.17, 'health': 0.16, 'absences': 0.04, 'G1': 0.21, 'G2': 0.95, 'school_GP': -0.31, 'school_MS': 0.31, 'sex_F': -0.14, 'sex_M': 0.14, 'address_R': -0.11, 'address_U': 0.11, 'famsize_GT3': -0.07, 'famsize_LE3': 0.07, 'Pstatus_A': 0.12, 'Pstatus_T': -0.12, 'Mjob_at_home': 0.13, 'Mjob_health': -0.17, 'Mjob_other': 0.31, 'Mjob_services': -0.02, 'Mjob_teacher': -0.26, 'Fjob_at_home': 0.04, 'Fjob_health': 0.43, 'Fjob_other': -0.02, 'Fjob_services': -0.36, 'Fjob_teacher': -0.09, 'reason_course': -0.08, 'reason_home': -0.33, 'reason_other': 0.34, 'reason_reputation': 0.06, 'guardian_father': -0.15, 'guardian_mother': 0.18, 'guardian_other': -0.03, 'schoolsup_no': -0.29, 'schoolsup_yes': 0.29, 'famsup_no': -0.14, 'famsup_yes': 0.14, 'paid_no': -0.03, 'paid_yes': 0.03, 'activities_no': 0.19, 'activities_yes': -0.19, 'nursery_no': 0.14, 'nursery_yes': -0.14, 'higher_no': -0.06, 'higher_yes': 0.06, 'internet_no': 0.03, 'internet_yes': -0.03, 'romantic_no': 0.24, 'romantic_yes': -0.24}\n",
            "Качество при обучении 0.84, качество на отложенной выборке 0.82\n"
          ],
          "name": "stdout"
        }
      ]
    },
    {
      "cell_type": "markdown",
      "metadata": {
        "id": "TxBRzUZmR-ks"
      },
      "source": [
        "*** **Regression Model Accuracy**"
      ]
    },
    {
      "cell_type": "markdown",
      "metadata": {
        "id": "VuhSft7jV_JU"
      },
      "source": [
        "Совет от Эндрю Нг: Прежде чем строить модель машинного обучения, было бы хорошо получить какое-то число, которое при сравнении качества полученной модели с ним говорило бы, хорошо мы справились или плохо (может нужно попробовать другой алгоритм, или задача вовсе не подходит для машинного обучения).\n",
        "Для линейной регрессии есть несколько разных метрик: \n",
        "* MSE (среднеквадратическая ошибка)\n",
        "* MAE (средняя абсолютная ошибка) - в качестве критерия при кроссвалидации\n",
        "* $R^2$ (коэффициент детерминации) (в score по дефолту) - универсальный коэффициент\n",
        "* RMSE (среднеквадратическое отклонение)\n",
        "\n"
      ]
    },
    {
      "cell_type": "code",
      "metadata": {
        "id": "UVotK1Ot1fsV"
      },
      "source": [
        "y_pred = lass.predict(X_test)"
      ],
      "execution_count": null,
      "outputs": []
    },
    {
      "cell_type": "code",
      "metadata": {
        "id": "AZ6N5iiPSBLL",
        "colab": {
          "base_uri": "https://localhost:8080/",
          "height": 67
        },
        "outputId": "05d08167-61eb-4582-95a2-bed75ae0647d"
      },
      "source": [
        "print('MSE', metrics.mean_squared_error(y_test, y_pred))\n",
        "print('MAE', metrics.mean_absolute_error(y_test, y_pred))\n",
        "print('RMSE', np.sqrt(metrics.mean_squared_error(y_test, y_pred)))"
      ],
      "execution_count": null,
      "outputs": [
        {
          "output_type": "stream",
          "text": [
            "MSE 2.8646583808378665\n",
            "MAE 1.239657078373661\n",
            "RMSE 1.6925301713227645\n"
          ],
          "name": "stdout"
        }
      ]
    },
    {
      "cell_type": "markdown",
      "metadata": {
        "id": "m5L3LOpHSNmM"
      },
      "source": [
        "### Масштабирование признаков"
      ]
    },
    {
      "cell_type": "markdown",
      "metadata": {
        "id": "Hxfu_3dMdQts"
      },
      "source": [
        "Нужно потому, что признаки измеряются в разных единицах. Насколько поняла, это скорее актуально для опорных векторов и кнн, но для линейной регрессии тоже хорошо бы делать. "
      ]
    },
    {
      "cell_type": "markdown",
      "metadata": {
        "id": "zbz2CVdmeJKC"
      },
      "source": [
        "StandardScaler() имеет такую формулу: $z = \\frac{(x - u)}{s}$, где $x$ - какой-то признак, $u$ - среднее тренировочных примеров и $s$ - среднеквадратическое отклонение тренировочных примеров"
      ]
    },
    {
      "cell_type": "code",
      "metadata": {
        "id": "LScL2iG63sKK"
      },
      "source": [
        "from sklearn.preprocessing import StandardScaler\n",
        "scaler = StandardScaler()\n",
        "scaler.fit(X_train)\n",
        "X_train_scaled = scaler.transform(X_train)\n",
        "X_test_scaled = scaler.transform(X_test)"
      ],
      "execution_count": null,
      "outputs": []
    },
    {
      "cell_type": "code",
      "metadata": {
        "id": "b85HWcVC3oar",
        "colab": {
          "base_uri": "https://localhost:8080/",
          "height": 87
        },
        "outputId": "95591dc4-21b0-4558-d268-421e10584a23"
      },
      "source": [
        "lass_scaled = Lasso(alpha=0.1)\n",
        "lass_scaled.fit(X_train_scaled,y_train)\n",
        "names = []\n",
        "for j in lass_scaled.coef_:\n",
        "  names.append(np.round(j, 2))\n",
        "coefs = {x:y for x,y in zip(X_train.columns, names)}\n",
        "print(coefs)\n",
        "print('Пересечение: ', lass_scaled.intercept_)\n",
        "print(f'Качество при обучении {lass_scaled.score(X_train_scaled, y_train).round(2)}, качество на отложенной выборке {lass_scaled.score(X_test_scaled, y_test).round(2)}')\n"
      ],
      "execution_count": null,
      "outputs": [
        {
          "output_type": "stream",
          "text": [
            "{'age': -0.08, 'Medu': 0.0, 'Fedu': -0.0, 'traveltime': 0.0, 'studytime': -0.05, 'failures': -0.02, 'famrel': 0.24, 'freetime': 0.0, 'goout': 0.0, 'Dalc': -0.0, 'Walc': 0.01, 'health': 0.07, 'absences': 0.24, 'G1': 0.48, 'G2': 3.69, 'school_GP': -0.0, 'school_MS': 0.0, 'sex_F': -0.0, 'sex_M': 0.0, 'address_R': -0.0, 'address_U': 0.0, 'famsize_GT3': -0.0, 'famsize_LE3': 0.0, 'Pstatus_A': 0.01, 'Pstatus_T': -0.0, 'Mjob_at_home': -0.0, 'Mjob_health': 0.0, 'Mjob_other': 0.01, 'Mjob_services': -0.0, 'Mjob_teacher': -0.0, 'Fjob_at_home': -0.0, 'Fjob_health': 0.0, 'Fjob_other': 0.0, 'Fjob_services': -0.16, 'Fjob_teacher': -0.0, 'reason_course': -0.0, 'reason_home': -0.04, 'reason_other': 0.01, 'reason_reputation': 0.0, 'guardian_father': -0.0, 'guardian_mother': 0.07, 'guardian_other': -0.0, 'schoolsup_no': -0.02, 'schoolsup_yes': 0.0, 'famsup_no': -0.0, 'famsup_yes': 0.0, 'paid_no': -0.0, 'paid_yes': 0.0, 'activities_no': 0.09, 'activities_yes': -0.0, 'nursery_no': 0.0, 'nursery_yes': -0.0, 'higher_no': -0.0, 'higher_yes': 0.0, 'internet_no': 0.0, 'internet_yes': -0.0, 'romantic_no': 0.11, 'romantic_yes': -0.0}\n",
            "Пересечение:  [10.30063291]\n",
            "Качество при обучении 0.83, качество на отложенной выборке 0.87\n"
          ],
          "name": "stdout"
        }
      ]
    },
    {
      "cell_type": "markdown",
      "metadata": {
        "id": "x1As6npcgg-E"
      },
      "source": [
        "### Тренируем"
      ]
    },
    {
      "cell_type": "markdown",
      "metadata": {
        "id": "roieqFhBkdnb"
      },
      "source": [
        "Создаём модель, фит, предикт, оценка"
      ]
    },
    {
      "cell_type": "code",
      "metadata": {
        "id": "u6AG2Hbigku-",
        "colab": {
          "base_uri": "https://localhost:8080/",
          "height": 34
        },
        "outputId": "125bda48-195c-4c99-8ec3-e33bcec2a86c"
      },
      "source": [
        "#Со скейлд вышли ~40 MAE, без скейлд нормальные...\n",
        "model1 = Ridge(alpha=0.1)\n",
        "model1.fit(X_train_scaled, y_train)\n",
        "y_model1_pred = model1.predict(X_test)\n",
        "print('Качество модели (лучшee MSE = 0):', metrics.mean_squared_error(y_test, y_model1_pred))"
      ],
      "execution_count": null,
      "outputs": [
        {
          "output_type": "stream",
          "text": [
            "Качество модели (лучшee MSE = 0): 2493.2180498479115\n"
          ],
          "name": "stdout"
        }
      ]
    },
    {
      "cell_type": "code",
      "metadata": {
        "id": "CsabEna9m6jv",
        "colab": {
          "base_uri": "https://localhost:8080/",
          "height": 34
        },
        "outputId": "4c014e5b-e2b3-4e2b-92fb-66621efc38f0"
      },
      "source": [
        "model2 = Lasso(alpha=0.1)\n",
        "model2.fit(X_train_scaled, y_train)\n",
        "y_model2_pred = model2.predict(X_test)\n",
        "print('Качество модели (лучшee MSE = 0):', metrics.mean_squared_error(y_test, y_model2_pred))"
      ],
      "execution_count": null,
      "outputs": [
        {
          "output_type": "stream",
          "text": [
            "Качество модели (лучшee MSE = 0): 2262.262171004252\n"
          ],
          "name": "stdout"
        }
      ]
    },
    {
      "cell_type": "code",
      "metadata": {
        "id": "8d848jd6n5RS",
        "colab": {
          "base_uri": "https://localhost:8080/",
          "height": 34
        },
        "outputId": "9e55cf04-4551-45ee-b00c-8d6796d4d5b0"
      },
      "source": [
        "model3 = ElasticNet(alpha=0.1, l1_ratio = 0.9)\n",
        "model3.fit(X_train_scaled, y_train)\n",
        "y_model3_pred = model3.predict(X_test)\n",
        "print('Качество модели (лучшee MSE = 0):', metrics.mean_squared_error(y_test, y_model3_pred))"
      ],
      "execution_count": null,
      "outputs": [
        {
          "output_type": "stream",
          "text": [
            "Качество модели (лучшee MSE = 0): 2225.6755110956597\n"
          ],
          "name": "stdout"
        }
      ]
    },
    {
      "cell_type": "markdown",
      "metadata": {
        "id": "oiu_DxH1eNNa"
      },
      "source": [
        "### Настройка гиперпараметров с помощью кросс-валидации"
      ]
    },
    {
      "cell_type": "markdown",
      "metadata": {
        "id": "7Uw34C50uBjp"
      },
      "source": [
        "*Гиперпараметры* - настройка для алгоритма обучения, задаём до начала обучения\n",
        "*Параметры* - то, что модель получает в процессе обучения (веса).\n",
        "Недообученная модель недостаточно сложна и высокий bias, переобученная модель забирает в себя трейнинг-данные и высокий variance. А нужен баланс - как можно меньший bias при как можно меньшем variance."
      ]
    },
    {
      "cell_type": "code",
      "metadata": {
        "id": "Iqvi2X7-xF9B"
      },
      "source": [
        "from sklearn.model_selection import GridSearchCV"
      ],
      "execution_count": null,
      "outputs": []
    },
    {
      "cell_type": "code",
      "metadata": {
        "id": "DnfdSCbljrWs"
      },
      "source": [
        "lass_valid = GridSearchCV(Lasso(normalize=True), {'alpha': np.logspace(-2, 1, 20)}, scoring = 'neg_mean_squared_error', cv=3)\n",
        "lass_valid.fit(X, y)\n",
        "res = pd.DataFrame(lass_valid.cv_results_).loc[:,['params','mean_test_score','std_test_score','rank_test_score']]\n",
        "print(lass_valid.best_params_)\n",
        "print(lass_valid.best_score_)\n",
        "res.sort_values('rank_test_score')"
      ],
      "execution_count": null,
      "outputs": []
    },
    {
      "cell_type": "markdown",
      "metadata": {
        "id": "n-ZUOJEkeQnq"
      },
      "source": [
        "### Остатки"
      ]
    },
    {
      "cell_type": "markdown",
      "metadata": {
        "id": "oT2Cs1fky0S9"
      },
      "source": [
        "Должно быть нормальное распределение ошибок. "
      ]
    },
    {
      "cell_type": "code",
      "metadata": {
        "id": "-goTfAqixriH",
        "colab": {
          "base_uri": "https://localhost:8080/",
          "height": 70
        },
        "outputId": "0d2fe84b-642f-4985-ccc9-c911a4eae2dc"
      },
      "source": [
        "from yellowbrick.regressor import ResidualsPlot"
      ],
      "execution_count": null,
      "outputs": [
        {
          "output_type": "stream",
          "text": [
            "/usr/local/lib/python3.6/dist-packages/sklearn/utils/deprecation.py:144: FutureWarning: The sklearn.metrics.classification module is  deprecated in version 0.22 and will be removed in version 0.24. The corresponding classes / functions should instead be imported from sklearn.metrics. Anything that cannot be imported from sklearn.metrics is now part of the private API.\n",
            "  warnings.warn(message, FutureWarning)\n"
          ],
          "name": "stderr"
        }
      ]
    },
    {
      "cell_type": "code",
      "metadata": {
        "id": "5H8C7YoM1BRo",
        "colab": {
          "base_uri": "https://localhost:8080/",
          "height": 364
        },
        "outputId": "5523c825-248a-49db-a611-43aa9f870440"
      },
      "source": [
        "#?????????? это значит сильная корреляция между признаками?\n",
        "visualizer = ResidualsPlot(Lasso(alpha = 0.014))\n",
        "visualizer.fit(X_train_scaled, y_train.iloc[:, 0])\n",
        "visualizer.score(X_test_scaled, y_test.iloc[:, 0])"
      ],
      "execution_count": null,
      "outputs": [
        {
          "output_type": "execute_result",
          "data": {
            "text/plain": [
              "0.8306243674851582"
            ]
          },
          "metadata": {
            "tags": []
          },
          "execution_count": 31
        },
        {
          "output_type": "display_data",
          "data": {
            "image/png": "[encoded data removed]",
            "text/plain": [
              "<Figure size 576x396 with 2 Axes>"
            ]
          },
          "metadata": {
            "tags": []
          }
        }
      ]
    },
    {
      "cell_type": "markdown",
      "metadata": {
        "id": "HIK73SydeTfT"
      },
      "source": [
        "### Тестируем качество на тест-сете"
      ]
    },
    {
      "cell_type": "markdown",
      "metadata": {
        "id": "bhvvLt7PW_Es"
      },
      "source": [
        "*кёрв + SVR"
      ]
    },
    {
      "cell_type": "code",
      "metadata": {
        "id": "UgJKUu-25NiI",
        "colab": {
          "base_uri": "https://localhost:8080/",
          "height": 34
        },
        "outputId": "381ecbd1-81da-404c-c9b7-19a2c7320ba2"
      },
      "source": [
        "final_pred = lass_valid.predict(X_test)\n",
        "print('Качество модели:', metrics.mean_squared_error(y_test, final_pred))"
      ],
      "execution_count": null,
      "outputs": [
        {
          "output_type": "stream",
          "text": [
            "Качество модели: 2.3243767219261895\n"
          ],
          "name": "stdout"
        }
      ]
    },
    {
      "cell_type": "code",
      "metadata": {
        "id": "V2EuXGdJxROP",
        "colab": {
          "base_uri": "https://localhost:8080/",
          "height": 465
        },
        "outputId": "86cc6097-fe51-4e99-daf7-9dbefe47ce23"
      },
      "source": [
        "sns.distplot(final_pred)\n",
        "sns.distplot(y_test.iloc[:, 0])"
      ],
      "execution_count": null,
      "outputs": [
        {
          "output_type": "stream",
          "text": [
            "/usr/local/lib/python3.6/dist-packages/seaborn/distributions.py:2551: FutureWarning: `distplot` is a deprecated function and will be removed in a future version. Please adapt your code to use either `displot` (a figure-level function with similar flexibility) or `histplot` (an axes-level function for histograms).\n",
            "  warnings.warn(msg, FutureWarning)\n",
            "/usr/local/lib/python3.6/dist-packages/seaborn/distributions.py:2551: FutureWarning: `distplot` is a deprecated function and will be removed in a future version. Please adapt your code to use either `displot` (a figure-level function with similar flexibility) or `histplot` (an axes-level function for histograms).\n",
            "  warnings.warn(msg, FutureWarning)\n"
          ],
          "name": "stderr"
        },
        {
          "output_type": "execute_result",
          "data": {
            "text/plain": [
              "<matplotlib.axes._subplots.AxesSubplot at 0x7f7b99cf1080>"
            ]
          },
          "metadata": {
            "tags": []
          },
          "execution_count": 33
        },
        {
          "output_type": "display_data",
          "data": {
            "image/png": "[encoded data removed]",
            "text/plain": [
              "<Figure size 576x396 with 1 Axes>"
            ]
          },
          "metadata": {
            "tags": []
          }
        }
      ]
    },
    {
      "cell_type": "markdown",
      "metadata": {
        "id": "j9bJ-sAWo2Fk"
      },
      "source": [
        "### Интерпретация"
      ]
    },
    {
      "cell_type": "markdown",
      "metadata": {
        "id": "GQlrcm0q0WGb"
      },
      "source": [
        "Дамми-вэриаблы у меня не сработали, надо что-то другое брать. Но скор вроде бы нормальный. В общем я не очень-то понимаю, как интерпретировать полученные результаты). А вообще график повыше, если я правильно понимаю, выглядит, будто модель просто запомнила тренировочные данные."
      ]
    }
  ]
}